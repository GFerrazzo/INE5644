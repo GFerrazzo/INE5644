{
 "cells": [
  {
   "cell_type": "markdown",
   "id": "32a1d457",
   "metadata": {},
   "source": [
    "#  Entendimento do Negócio (Domínio do Problema)"
   ]
  },
  {
   "cell_type": "markdown",
   "id": "da65ef68",
   "metadata": {},
   "source": [
    "## Ausência em consultas agendadas no SUS"
   ]
  },
  {
   "cell_type": "markdown",
   "id": "4b23b72a",
   "metadata": {},
   "source": [
    "O nosso principal objetivo é identificar padrões de comportamento que nos façam entender o porquê que cerca de 20% dos pacientes faltam a consultas agendadas, mesmo recebendo todas as orientações e sendo os próprios pacientes que agendaram a consulta,  não comparecem, essa identificação é essencial para tentar prever futuros casos de ausência em consultas (que chamaremos de **'No-show'**), pois essas ausências impactam diretamente nos custos de um consultório/cliníca, pois deixam profissionais de alta remuneração, como um médico e toda equipe auxiliar, ociosos durante o período da consulta sem o comparecimento do paciente. Ou leva a estratégias de 'overbooking' para tentar considerar os faltantes numa tentativa de prevenir a equipe médica do ócio, situação que pode trazer estresses aos pacientes que sofreram do overbooking."
   ]
  },
  {
   "cell_type": "markdown",
   "id": "a701efb5",
   "metadata": {},
   "source": [
    "Nosso trabalho tem como núcleo estudar um dataset do SUS que traz uma amostragem de cerca de um mês de consultas agendadas no sistema público de saúde, com dados categóricos sobre os pacientes, data de agendamento, data da consulta, e se o paciente compareceu ou não à consulta.\n",
    "\n",
    "O objetivo é identificar padrões de comportamento entre os pacientes que agendam uma consulta e se ausentam dela com os dados dispostos. \n",
    "\n",
    "O plano é criar um modelo, através de mineração de dados, que possa servir inclusive para outros datasets e outras clinícas, principalmente do sistema privado, que acreditamos ter interesse nessa predição, seja para reforçar aos seus pacientes o comparecimento à consulta marcada, ou para poder agendar mais consultas para um dia em que há muitas consultas com alta probabilidade de ausência (adotando a estratégia de 'overbooking' previamente mencionada, mas de maneira inteligente e baseada em dados)."
   ]
  },
  {
   "cell_type": "markdown",
   "id": "8bc5ed8a",
   "metadata": {},
   "source": [
    "# Entendimento dos Dados"
   ]
  },
  {
   "cell_type": "markdown",
   "id": "db6eed99",
   "metadata": {},
   "source": [
    "## Análise Exploratória"
   ]
  },
  {
   "cell_type": "code",
   "execution_count": 1,
   "id": "da6a204e",
   "metadata": {},
   "outputs": [],
   "source": [
    "import pandas as pd"
   ]
  },
  {
   "cell_type": "code",
   "execution_count": 2,
   "id": "cd983204",
   "metadata": {},
   "outputs": [],
   "source": [
    "df = pd.read_csv('https://raw.githubusercontent.com/GFerrazzo/INE5644/main/KaggleV2-May-2016.csv', sep = ',')"
   ]
  },
  {
   "cell_type": "markdown",
   "id": "0724e233",
   "metadata": {},
   "source": [
    "O arquivo está disponível em:\n",
    "\n",
    "https://github.com/GFerrazzo/INE5644"
   ]
  },
  {
   "cell_type": "markdown",
   "id": "1cf322d4",
   "metadata": {},
   "source": [
    "Breve visualização (aleatória) dos nossos dados"
   ]
  },
  {
   "cell_type": "code",
   "execution_count": 3,
   "id": "855b8b0a",
   "metadata": {},
   "outputs": [
    {
     "name": "stdout",
     "output_type": "stream",
     "text": [
      "           PatientId  AppointmentID Gender          ScheduledDay  \\\n",
      "35124   3.457814e+11        5684837      F  2016-05-11T09:15:18Z   \n",
      "36556   1.993783e+12        5693725      F  2016-05-13T07:36:56Z   \n",
      "26166   6.384391e+12        5526692      F  2016-03-30T11:13:44Z   \n",
      "6237    2.636816e+12        5721517      F  2016-05-19T16:47:55Z   \n",
      "103143  2.191413e+13        5740394      F  2016-05-25T15:15:38Z   \n",
      "\n",
      "              AppointmentDay  Age   Neighbourhood  Scholarship  Hipertension  \\\n",
      "35124   2016-05-11T00:00:00Z   15       REPÚBLICA            0             0   \n",
      "36556   2016-05-13T00:00:00Z   51        GURIGICA            0             0   \n",
      "26166   2016-05-25T00:00:00Z   66     JOANA D´ARC            1             1   \n",
      "6237    2016-05-24T00:00:00Z   56  JARDIM CAMBURI            0             0   \n",
      "103143  2016-06-06T00:00:00Z   25       SÃO PEDRO            0             0   \n",
      "\n",
      "        Diabetes  Alcoholism  Handcap  SMS_received No-show  \n",
      "35124          0           0        0             0      No  \n",
      "36556          0           0        0             0      No  \n",
      "26166          0           0        0             1      No  \n",
      "6237           0           0        0             1     Yes  \n",
      "103143         0           0        0             1     Yes  \n"
     ]
    }
   ],
   "source": [
    "print(df.sample(5))"
   ]
  },
  {
   "cell_type": "markdown",
   "id": "ce6b05e7",
   "metadata": {},
   "source": [
    "Visualização da quantidade de instâncias e atributos e seus tipos."
   ]
  },
  {
   "cell_type": "code",
   "execution_count": 4,
   "id": "59de0edf",
   "metadata": {},
   "outputs": [
    {
     "name": "stdout",
     "output_type": "stream",
     "text": [
      "<class 'pandas.core.frame.DataFrame'>\n",
      "RangeIndex: 110527 entries, 0 to 110526\n",
      "Data columns (total 14 columns):\n",
      " #   Column          Non-Null Count   Dtype  \n",
      "---  ------          --------------   -----  \n",
      " 0   PatientId       110527 non-null  float64\n",
      " 1   AppointmentID   110527 non-null  int64  \n",
      " 2   Gender          110527 non-null  object \n",
      " 3   ScheduledDay    110527 non-null  object \n",
      " 4   AppointmentDay  110527 non-null  object \n",
      " 5   Age             110527 non-null  int64  \n",
      " 6   Neighbourhood   110527 non-null  object \n",
      " 7   Scholarship     110527 non-null  int64  \n",
      " 8   Hipertension    110527 non-null  int64  \n",
      " 9   Diabetes        110527 non-null  int64  \n",
      " 10  Alcoholism      110527 non-null  int64  \n",
      " 11  Handcap         110527 non-null  int64  \n",
      " 12  SMS_received    110527 non-null  int64  \n",
      " 13  No-show         110527 non-null  object \n",
      "dtypes: float64(1), int64(8), object(5)\n",
      "memory usage: 11.8+ MB\n"
     ]
    }
   ],
   "source": [
    "df.info()"
   ]
  },
  {
   "cell_type": "markdown",
   "id": "e25d52c8",
   "metadata": {},
   "source": [
    "Temos as seguintes colunas:\n",
    "\n",
    "\n",
    "- PatientId – Identificação do paciente.\n",
    "- AppointmentID – identificação de cada consulta.\n",
    "- Gender – Se o paciente é homem ou mulher.\n",
    "- ScheduledDay – O dia que foi efetuado o agendamento da consulta.\n",
    "- AppointmentDay – O dia da consulta, que o paciente deve comparecer ao consultório.\n",
    "- Age – A idade do paciente.\n",
    "- Neighbourhood – Bairro do consultório.\n",
    "- Scholarship – Se o paciente faz parte do programa Bolsa Família.\n",
    "- Hipertension – Se o paciente possui Hipertensão.\n",
    "- Diabetes – Se o paciente possui diabetes.\n",
    "- Alcoholism – Se o paciente é alcoólatra.\n",
    "- Handcap – Quantidade de deficiências que o paciente possui (por exemplo, se surdo e cego = 2).\n",
    "- SMS_received – Se o paciente recebeu um ou mais mensagens lembrando sobre a consulta por SMS.\n",
    "- No-show – Se o paciente compareceu ou não a consulta (onde True indica que ele faltou a consulta).\n"
   ]
  },
  {
   "cell_type": "markdown",
   "id": "f72f4386",
   "metadata": {},
   "source": [
    "Notamos:\n",
    "\n",
    "- colunas de identificação única: 'PatientId', 'AppointmentID'\n",
    "- séries temporais tipificadas como objeto (ou seja, não reconhecidas como séries temporais)\n",
    "- o indicador principal não está categorizado como booleano, mas também como objeto\n",
    "- aparentemente, não temos dados nulos"
   ]
  },
  {
   "cell_type": "markdown",
   "id": "000faad7",
   "metadata": {},
   "source": [
    "Vamos realizar algumas visualizações dos dados das colunas (exceção às séries temporais e identificadores únicos)"
   ]
  },
  {
   "cell_type": "code",
   "execution_count": 5,
   "id": "c7b12d9d",
   "metadata": {},
   "outputs": [
    {
     "name": "stdout",
     "output_type": "stream",
     "text": [
      "Gender \n",
      "\n",
      "F    71840\n",
      "M    38687\n",
      "Name: Gender, dtype: int64\n",
      "-------------------\n",
      "Age \n",
      "\n",
      "-1         1\n",
      " 0      3539\n",
      " 1      2273\n",
      " 2      1618\n",
      " 3      1513\n",
      "        ... \n",
      " 98        6\n",
      " 99        1\n",
      " 100       4\n",
      " 102       2\n",
      " 115       5\n",
      "Name: Age, Length: 104, dtype: int64\n",
      "-------------------\n",
      "Neighbourhood \n",
      "\n",
      "AEROPORTO                 8\n",
      "ANDORINHAS             2262\n",
      "ANTÔNIO HONÓRIO         271\n",
      "ARIOVALDO FAVALESSA     282\n",
      "BARRO VERMELHO          423\n",
      "                       ... \n",
      "SÃO JOSÉ               1977\n",
      "SÃO PEDRO              2448\n",
      "TABUAZEIRO             3132\n",
      "UNIVERSITÁRIO           152\n",
      "VILA RUBIM              851\n",
      "Name: Neighbourhood, Length: 81, dtype: int64\n",
      "-------------------\n",
      "Scholarship \n",
      "\n",
      "0    99666\n",
      "1    10861\n",
      "Name: Scholarship, dtype: int64\n",
      "-------------------\n",
      "Hipertension \n",
      "\n",
      "0    88726\n",
      "1    21801\n",
      "Name: Hipertension, dtype: int64\n",
      "-------------------\n",
      "Diabetes \n",
      "\n",
      "0    102584\n",
      "1      7943\n",
      "Name: Diabetes, dtype: int64\n",
      "-------------------\n",
      "Alcoholism \n",
      "\n",
      "0    107167\n",
      "1      3360\n",
      "Name: Alcoholism, dtype: int64\n",
      "-------------------\n",
      "Handcap \n",
      "\n",
      "0    108286\n",
      "1      2042\n",
      "2       183\n",
      "3        13\n",
      "4         3\n",
      "Name: Handcap, dtype: int64\n",
      "-------------------\n",
      "SMS_received \n",
      "\n",
      "0    75045\n",
      "1    35482\n",
      "Name: SMS_received, dtype: int64\n",
      "-------------------\n",
      "No-show \n",
      "\n",
      "No     88208\n",
      "Yes    22319\n",
      "Name: No-show, dtype: int64\n",
      "-------------------\n"
     ]
    }
   ],
   "source": [
    "for clmn in df.drop(columns=['PatientId', 'AppointmentID', 'ScheduledDay', 'AppointmentDay']).columns:\n",
    "    print(f'{clmn} \\n')\n",
    "    print(df[clmn].value_counts().sort_index())\n",
    "    print('-------------------')"
   ]
  },
  {
   "cell_type": "markdown",
   "id": "e33dd3b6",
   "metadata": {},
   "source": [
    "Podemos notar, novamente, que:\n",
    "- Temos dados já bem limpos e consistentes, que necessitarão de poucas intervenções para serem tratados.\n",
    "- As colunas 'Gender', 'Scholarship', 'Hipertension', 'Diabetes', 'Alcoholism', 'SMS_received' e 'No-show' jã são basicamente booleanas e podem, futuramente, ser assim tipificadas.\n",
    "- Há uma grande variação de possibilidades para a coluna 'Neighbourhood' (81 instâncias diferentes).\n",
    "- A coluna idade apresenta somente valores numéricos entre -1 e 115, o que nos traz a conclusão que temos somente um outlier (idade negativa não faz sentido) nesta coluna. Dado sua insignificância numérica frente a quantidade de instâncias deste atributo, seu descarte não trará impactos no modelo."
   ]
  },
  {
   "cell_type": "markdown",
   "id": "0c88fcf9",
   "metadata": {},
   "source": [
    "# Preparação dos Dados"
   ]
  },
  {
   "cell_type": "markdown",
   "id": "e8fbe955",
   "metadata": {},
   "source": [
    "Para as séries temporais, vamos tipificá-las, já, como dados temporais para podemos visualizá-los por dias."
   ]
  },
  {
   "cell_type": "code",
   "execution_count": 6,
   "id": "37aa0ce1",
   "metadata": {},
   "outputs": [],
   "source": [
    "df['ScheduledDay'] = pd.to_datetime(df['ScheduledDay'])\n",
    "df['AppointmentDay'] = pd.to_datetime(df['AppointmentDay'])"
   ]
  },
  {
   "cell_type": "code",
   "execution_count": 7,
   "id": "110911cf",
   "metadata": {},
   "outputs": [
    {
     "name": "stdout",
     "output_type": "stream",
     "text": [
      "ScheduledDay \n",
      "\n",
      "2015-11-10       1\n",
      "2015-12-03       1\n",
      "2015-12-07      10\n",
      "2015-12-08      37\n",
      "2015-12-14       6\n",
      "              ... \n",
      "2016-06-03    2497\n",
      "2016-06-04       1\n",
      "2016-06-06    2403\n",
      "2016-06-07    1779\n",
      "2016-06-08    1537\n",
      "Name: ScheduledDay, Length: 111, dtype: int64\n",
      "-------------------\n",
      "AppointmentDay \n",
      "\n",
      "2016-04-29    3235\n",
      "2016-05-02    4376\n",
      "2016-05-03    4256\n",
      "2016-05-04    4168\n",
      "2016-05-05    4273\n",
      "2016-05-06    3879\n",
      "2016-05-09    4520\n",
      "2016-05-10    4308\n",
      "2016-05-11    4474\n",
      "2016-05-12    4394\n",
      "2016-05-13    3987\n",
      "2016-05-14      39\n",
      "2016-05-16    4613\n",
      "2016-05-17    4372\n",
      "2016-05-18    4373\n",
      "2016-05-19    4270\n",
      "2016-05-20    3828\n",
      "2016-05-24    4009\n",
      "2016-05-25    3909\n",
      "2016-05-30    4514\n",
      "2016-05-31    4279\n",
      "2016-06-01    4464\n",
      "2016-06-02    4310\n",
      "2016-06-03    4090\n",
      "2016-06-06    4692\n",
      "2016-06-07    4416\n",
      "2016-06-08    4479\n",
      "Name: AppointmentDay, dtype: int64\n",
      "-------------------\n"
     ]
    }
   ],
   "source": [
    "for clmn in df[['ScheduledDay', 'AppointmentDay']].columns:\n",
    "    print(f'{clmn} \\n')\n",
    "    print(df[clmn].dt.date.value_counts().sort_index())\n",
    "    print('-------------------')"
   ]
  },
  {
   "cell_type": "markdown",
   "id": "849bfbf8",
   "metadata": {},
   "source": [
    "Percebemos que as datas de agendamento tem um intervalo bem grande (aproximadamente 6 meses), enquanto que as datas das consultas estão restritas a um período de 41 dias corridos, com 27 dias instanciados.\n",
    "\n",
    "Já podemos enxergar, também, que um bom tratamento para essas duas séries temporais será juntá-las como um valor numérico representando a diferença entre a data do agendamento e a data da consulta."
   ]
  },
  {
   "cell_type": "markdown",
   "id": "86476584",
   "metadata": {},
   "source": [
    "### Portabilidade dos dados"
   ]
  },
  {
   "cell_type": "markdown",
   "id": "446cd5c7",
   "metadata": {},
   "source": [
    "Vamos realizar a binarização dos dados mencionados anteriormente nas colunas: 'Gender', 'Scholarship', 'Hipertension', 'Diabetes', 'Alcoholism', 'SMS_received' e 'No-show'"
   ]
  },
  {
   "cell_type": "code",
   "execution_count": 8,
   "id": "ef32e475",
   "metadata": {},
   "outputs": [],
   "source": [
    "df['Gender'] = df['Gender'].map({'M' : True, 'F' : False})\n",
    "df['Scholarship'] = df['Scholarship'].map({1 : True, 0 : False})\n",
    "df['Hipertension'] = df['Hipertension'].map({1 : True, 0 : False})\n",
    "df['Diabetes'] = df['Diabetes'].map({1 : True, 0 : False})\n",
    "df['Alcoholism'] = df['Alcoholism'].map({1 : True, 0 : False})\n",
    "df['SMS_received'] = df['SMS_received'].map({1 : True, 0 : False})\n",
    "df['No-show'] = df['No-show'].map({'Yes' : True, 'No' : False})"
   ]
  },
  {
   "cell_type": "markdown",
   "id": "ce08c6c0",
   "metadata": {},
   "source": [
    "Vamos criar a coluna do número de dias corridos entre a data do agendamento e a data da consulta*.\n",
    "\n",
    "Criaremos, também, uma coluna do dia da semana da consulta.\n",
    "\n",
    "*adicionamos 1 ao valor calculado pois o cálculo retornava -1 quando o agendamento e a consulta eram no mesmo dia."
   ]
  },
  {
   "cell_type": "code",
   "execution_count": 9,
   "id": "25c79036",
   "metadata": {},
   "outputs": [],
   "source": [
    "df['ScheduleToAppointment'] = (df['AppointmentDay'] - df['ScheduledDay']).astype('timedelta64[D]') + 1"
   ]
  },
  {
   "cell_type": "code",
   "execution_count": 10,
   "id": "e3ff569e",
   "metadata": {},
   "outputs": [],
   "source": [
    "df['ScheduleWeekDay'] = df['ScheduledDay'].dt.weekday"
   ]
  },
  {
   "cell_type": "code",
   "execution_count": 11,
   "id": "695acc00",
   "metadata": {},
   "outputs": [
    {
     "name": "stdout",
     "output_type": "stream",
     "text": [
      "          PatientId  AppointmentID  Gender              ScheduledDay  \\\n",
      "63388  9.767921e+12        5621472    True 2016-04-26 10:21:02+00:00   \n",
      "58256  1.896449e+14        5696380   False 2016-05-13 12:59:05+00:00   \n",
      "6767   9.532236e+14        5679395    True 2016-05-10 09:53:01+00:00   \n",
      "59742  4.837241e+13        5705032   False 2016-05-16 17:31:23+00:00   \n",
      "89617  1.173312e+13        5722489   False 2016-05-20 07:21:25+00:00   \n",
      "\n",
      "                 AppointmentDay  Age        Neighbourhood  Scholarship  \\\n",
      "63388 2016-05-02 00:00:00+00:00   30             DA PENHA        False   \n",
      "58256 2016-05-13 00:00:00+00:00   32        MATA DA PRAIA        False   \n",
      "6767  2016-05-11 00:00:00+00:00   28    JESUS DE NAZARETH        False   \n",
      "59742 2016-05-16 00:00:00+00:00   54  ILHA DE SANTA MARIA        False   \n",
      "89617 2016-06-02 00:00:00+00:00   24            SÃO PEDRO        False   \n",
      "\n",
      "       Hipertension  Diabetes  Alcoholism  Handcap  SMS_received  No-show  \\\n",
      "63388         False     False       False        0         False    False   \n",
      "58256         False     False       False        0         False    False   \n",
      "6767          False     False       False        0         False    False   \n",
      "59742         False     False       False        0         False    False   \n",
      "89617         False     False       False        0          True     True   \n",
      "\n",
      "       ScheduleToAppointment  ScheduleWeekDay  \n",
      "63388                    6.0                1  \n",
      "58256                    0.0                4  \n",
      "6767                     1.0                1  \n",
      "59742                    0.0                0  \n",
      "89617                   13.0                4  \n"
     ]
    }
   ],
   "source": [
    "print(df.sample(5))"
   ]
  },
  {
   "cell_type": "markdown",
   "id": "16c00a6a",
   "metadata": {},
   "source": [
    "Podemos então descartar algumas colunas:\n",
    "- PatientId\n",
    "- AppointmentID\n",
    "- ScheduledDay\n",
    "- AppointmentDay"
   ]
  },
  {
   "cell_type": "code",
   "execution_count": 12,
   "id": "c9b4ee76",
   "metadata": {},
   "outputs": [],
   "source": [
    "df.drop(columns=['PatientId','AppointmentID','ScheduledDay','AppointmentDay'], inplace=True)"
   ]
  },
  {
   "cell_type": "code",
   "execution_count": 13,
   "id": "611ae707",
   "metadata": {},
   "outputs": [
    {
     "name": "stdout",
     "output_type": "stream",
     "text": [
      "        Gender  Age Neighbourhood  Scholarship  Hipertension  Diabetes  \\\n",
      "70985    False   56   RESISTÊNCIA        False          True     False   \n",
      "109179    True   45        JABOUR        False         False     False   \n",
      "48202    False   49        CENTRO        False         False     False   \n",
      "47755    False   72      DA PENHA        False          True      True   \n",
      "57581    False   65        JABOUR        False         False     False   \n",
      "\n",
      "        Alcoholism  Handcap  SMS_received  No-show  ScheduleToAppointment  \\\n",
      "70985        False        0          True    False                   24.0   \n",
      "109179       False        0         False     True                   14.0   \n",
      "48202        False        0         False    False                   26.0   \n",
      "47755        False        0         False    False                    0.0   \n",
      "57581        False        0         False    False                    1.0   \n",
      "\n",
      "        ScheduleWeekDay  \n",
      "70985                 4  \n",
      "109179                2  \n",
      "48202                 2  \n",
      "47755                 2  \n",
      "57581                 1  \n"
     ]
    }
   ],
   "source": [
    "print(df.sample(5))"
   ]
  },
  {
   "cell_type": "markdown",
   "id": "c010c70d",
   "metadata": {},
   "source": [
    "### Remoção de dados"
   ]
  },
  {
   "cell_type": "markdown",
   "id": "d0f65e43",
   "metadata": {},
   "source": [
    "Como já discutimos, temos dados extremamente limpos e consistentes e a única remoção necessária será o outlier único da idade:"
   ]
  },
  {
   "cell_type": "code",
   "execution_count": 14,
   "id": "00420ad1",
   "metadata": {},
   "outputs": [],
   "source": [
    "df.drop(df[df['Age'] < 0].index, inplace=True)"
   ]
  },
  {
   "cell_type": "markdown",
   "id": "dba60790",
   "metadata": {},
   "source": [
    "Entretanto, com a portabilidade da série temporal, poderemos realizar mais uma verificação: se há no dataset, consultas agendadas para o passado:"
   ]
  },
  {
   "cell_type": "code",
   "execution_count": 15,
   "id": "385be0d4",
   "metadata": {},
   "outputs": [
    {
     "data": {
      "text/plain": [
       "-6.0          1\n",
       "-1.0          4\n",
       " 0.0      38562\n",
       " 1.0       5213\n",
       " 2.0       6725\n",
       "          ...  \n",
       " 155.0       10\n",
       " 162.0       11\n",
       " 169.0        8\n",
       " 176.0       16\n",
       " 179.0       10\n",
       "Name: ScheduleToAppointment, Length: 131, dtype: int64"
      ]
     },
     "execution_count": 15,
     "metadata": {},
     "output_type": "execute_result"
    }
   ],
   "source": [
    "df['ScheduleToAppointment'].value_counts().sort_index()"
   ]
  },
  {
   "cell_type": "markdown",
   "id": "5cb41ba1",
   "metadata": {},
   "source": [
    "Novamente, podemos notar que existem outliers, nesses casos, provavelmente frutos de erro de digitação, que, assim como com a idade, apresentam-se em um número de ocorrências tão baixos que seu descarte não traz impacto ao modelo."
   ]
  },
  {
   "cell_type": "code",
   "execution_count": 16,
   "id": "a03ee48c",
   "metadata": {},
   "outputs": [],
   "source": [
    "df.drop(df[df['ScheduleToAppointment'] < 0].index, inplace=True)"
   ]
  },
  {
   "cell_type": "code",
   "execution_count": 17,
   "id": "6bb52394",
   "metadata": {},
   "outputs": [
    {
     "data": {
      "text/plain": [
       "0.0      38562\n",
       "1.0       5213\n",
       "2.0       6725\n",
       "3.0       2737\n",
       "4.0       5290\n",
       "         ...  \n",
       "155.0       10\n",
       "162.0       11\n",
       "169.0        8\n",
       "176.0       16\n",
       "179.0       10\n",
       "Name: ScheduleToAppointment, Length: 129, dtype: int64"
      ]
     },
     "execution_count": 17,
     "metadata": {},
     "output_type": "execute_result"
    }
   ],
   "source": [
    "df['ScheduleToAppointment'].value_counts().sort_index()"
   ]
  },
  {
   "cell_type": "markdown",
   "id": "cb982117",
   "metadata": {},
   "source": [
    "Antes de eliminar a coluna 'Neighbourhood', iremos conferir a relevância da mesma para o modelo.\n",
    "\n",
    "Começamos analisando a porcentagem total dos 'não faltantes':"
   ]
  },
  {
   "cell_type": "code",
   "execution_count": 18,
   "id": "f71b9622",
   "metadata": {},
   "outputs": [
    {
     "data": {
      "text/plain": [
       "0.2018982817745044"
      ]
     },
     "execution_count": 18,
     "metadata": {},
     "output_type": "execute_result"
    }
   ],
   "source": [
    "df[df['No-show'] == True].shape[0]/df.shape[0]"
   ]
  },
  {
   "cell_type": "markdown",
   "id": "7a9bd93d",
   "metadata": {},
   "source": [
    "Ou seja, ~20% dos pacientes faltam às consultas.\n",
    "\n",
    "\n",
    "Vamos analisar, agora, por bairro:"
   ]
  },
  {
   "cell_type": "code",
   "execution_count": 19,
   "id": "b15ed118",
   "metadata": {},
   "outputs": [
    {
     "data": {
      "text/html": [
       "<div>\n",
       "<style scoped>\n",
       "    .dataframe tbody tr th:only-of-type {\n",
       "        vertical-align: middle;\n",
       "    }\n",
       "\n",
       "    .dataframe tbody tr th {\n",
       "        vertical-align: top;\n",
       "    }\n",
       "\n",
       "    .dataframe thead th {\n",
       "        text-align: right;\n",
       "    }\n",
       "</style>\n",
       "<table border=\"1\" class=\"dataframe\">\n",
       "  <thead>\n",
       "    <tr style=\"text-align: right;\">\n",
       "      <th></th>\n",
       "      <th>avg</th>\n",
       "      <th>count</th>\n",
       "    </tr>\n",
       "    <tr>\n",
       "      <th>Neighbourhood</th>\n",
       "      <th></th>\n",
       "      <th></th>\n",
       "    </tr>\n",
       "  </thead>\n",
       "  <tbody>\n",
       "    <tr>\n",
       "      <th>COMDUSA</th>\n",
       "      <td>0.180645</td>\n",
       "      <td>310</td>\n",
       "    </tr>\n",
       "    <tr>\n",
       "      <th>ARIOVALDO FAVALESSA</th>\n",
       "      <td>0.219858</td>\n",
       "      <td>282</td>\n",
       "    </tr>\n",
       "    <tr>\n",
       "      <th>SOLON BORGES</th>\n",
       "      <td>0.147122</td>\n",
       "      <td>469</td>\n",
       "    </tr>\n",
       "    <tr>\n",
       "      <th>FONTE GRANDE</th>\n",
       "      <td>0.218475</td>\n",
       "      <td>682</td>\n",
       "    </tr>\n",
       "    <tr>\n",
       "      <th>MÁRIO CYPRESTE</th>\n",
       "      <td>0.145553</td>\n",
       "      <td>371</td>\n",
       "    </tr>\n",
       "  </tbody>\n",
       "</table>\n",
       "</div>"
      ],
      "text/plain": [
       "                          avg  count\n",
       "Neighbourhood                       \n",
       "COMDUSA              0.180645    310\n",
       "ARIOVALDO FAVALESSA  0.219858    282\n",
       "SOLON BORGES         0.147122    469\n",
       "FONTE GRANDE         0.218475    682\n",
       "MÁRIO CYPRESTE       0.145553    371"
      ]
     },
     "execution_count": 19,
     "metadata": {},
     "output_type": "execute_result"
    }
   ],
   "source": [
    "df_neighbour_ratio = df.groupby(['Neighbourhood'])['No-show'].agg(avg='mean', count='count')\n",
    "df_neighbour_ratio.sample(5)"
   ]
  },
  {
   "cell_type": "code",
   "execution_count": 20,
   "id": "04026300",
   "metadata": {},
   "outputs": [
    {
     "data": {
      "text/plain": [
       "<AxesSubplot:xlabel='Neighbourhood'>"
      ]
     },
     "execution_count": 20,
     "metadata": {},
     "output_type": "execute_result"
    },
    {
     "data": {
      "image/png": "[encoded data removed]",
      "text/plain": [
       "<Figure size 432x288 with 1 Axes>"
      ]
     },
     "metadata": {
      "needs_background": "light"
     },
     "output_type": "display_data"
    }
   ],
   "source": [
    "df_neighbour_ratio['avg'].plot()"
   ]
  },
  {
   "cell_type": "markdown",
   "id": "3fb3c172",
   "metadata": {},
   "source": [
    "Podemos perceber que são poucos bairros que fogem do padrão de 20% de 'não-faltantes'."
   ]
  },
  {
   "cell_type": "code",
   "execution_count": 21,
   "id": "9ae9ae09",
   "metadata": {},
   "outputs": [
    {
     "data": {
      "text/html": [
       "<div>\n",
       "<style scoped>\n",
       "    .dataframe tbody tr th:only-of-type {\n",
       "        vertical-align: middle;\n",
       "    }\n",
       "\n",
       "    .dataframe tbody tr th {\n",
       "        vertical-align: top;\n",
       "    }\n",
       "\n",
       "    .dataframe thead th {\n",
       "        text-align: right;\n",
       "    }\n",
       "</style>\n",
       "<table border=\"1\" class=\"dataframe\">\n",
       "  <thead>\n",
       "    <tr style=\"text-align: right;\">\n",
       "      <th></th>\n",
       "      <th>avg</th>\n",
       "      <th>count</th>\n",
       "    </tr>\n",
       "    <tr>\n",
       "      <th>Neighbourhood</th>\n",
       "      <th></th>\n",
       "      <th></th>\n",
       "    </tr>\n",
       "  </thead>\n",
       "  <tbody>\n",
       "    <tr>\n",
       "      <th>ILHAS OCEÂNICAS DE TRINDADE</th>\n",
       "      <td>1.0</td>\n",
       "      <td>2</td>\n",
       "    </tr>\n",
       "  </tbody>\n",
       "</table>\n",
       "</div>"
      ],
      "text/plain": [
       "                             avg  count\n",
       "Neighbourhood                          \n",
       "ILHAS OCEÂNICAS DE TRINDADE  1.0      2"
      ]
     },
     "execution_count": 21,
     "metadata": {},
     "output_type": "execute_result"
    }
   ],
   "source": [
    "df_neighbour_ratio[df_neighbour_ratio['avg'] > 0.30]"
   ]
  },
  {
   "cell_type": "code",
   "execution_count": 22,
   "id": "57766641",
   "metadata": {},
   "outputs": [
    {
     "data": {
      "text/html": [
       "<div>\n",
       "<style scoped>\n",
       "    .dataframe tbody tr th:only-of-type {\n",
       "        vertical-align: middle;\n",
       "    }\n",
       "\n",
       "    .dataframe tbody tr th {\n",
       "        vertical-align: top;\n",
       "    }\n",
       "\n",
       "    .dataframe thead th {\n",
       "        text-align: right;\n",
       "    }\n",
       "</style>\n",
       "<table border=\"1\" class=\"dataframe\">\n",
       "  <thead>\n",
       "    <tr style=\"text-align: right;\">\n",
       "      <th></th>\n",
       "      <th>avg</th>\n",
       "      <th>count</th>\n",
       "    </tr>\n",
       "    <tr>\n",
       "      <th>Neighbourhood</th>\n",
       "      <th></th>\n",
       "      <th></th>\n",
       "    </tr>\n",
       "  </thead>\n",
       "  <tbody>\n",
       "    <tr>\n",
       "      <th>ILHA DO BOI</th>\n",
       "      <td>0.085714</td>\n",
       "      <td>35</td>\n",
       "    </tr>\n",
       "    <tr>\n",
       "      <th>PARQUE INDUSTRIAL</th>\n",
       "      <td>0.000000</td>\n",
       "      <td>1</td>\n",
       "    </tr>\n",
       "  </tbody>\n",
       "</table>\n",
       "</div>"
      ],
      "text/plain": [
       "                        avg  count\n",
       "Neighbourhood                     \n",
       "ILHA DO BOI        0.085714     35\n",
       "PARQUE INDUSTRIAL  0.000000      1"
      ]
     },
     "execution_count": 22,
     "metadata": {},
     "output_type": "execute_result"
    }
   ],
   "source": [
    "df_neighbour_ratio[df_neighbour_ratio['avg'] < 0.10]"
   ]
  },
  {
   "cell_type": "markdown",
   "id": "edc5656b",
   "metadata": {},
   "source": [
    "Concluímos, para os bairros, que os casos que fogem do intervalo de 10% a 30% de faltantes são exclusivos de baixa amostragem, ou seja, o bairro não trará grande relevância para o modelo e também poderá ser descartado."
   ]
  },
  {
   "cell_type": "code",
   "execution_count": 23,
   "id": "e173baa9",
   "metadata": {},
   "outputs": [],
   "source": [
    "df.drop(columns=['Neighbourhood'], inplace=True)"
   ]
  },
  {
   "cell_type": "markdown",
   "id": "c3aa9a50",
   "metadata": {},
   "source": [
    "### Transformação dos Dados"
   ]
  },
  {
   "cell_type": "markdown",
   "id": "84432559",
   "metadata": {},
   "source": [
    "Agora, iremos realizar a portabilidade dos dados de idade para intervalos de igual tamanho de 4 anos de idade."
   ]
  },
  {
   "cell_type": "code",
   "execution_count": 24,
   "id": "f93f1914",
   "metadata": {},
   "outputs": [],
   "source": [
    "df['Age'] = pd.cut(df['Age'], bins=29, precision=0)"
   ]
  },
  {
   "cell_type": "markdown",
   "id": "35c6e4f0",
   "metadata": {},
   "source": [
    "Em seguida, preferimos portabilizar a coluna 'Handcap' (que nos dá um quantitativo numérico de quantas deficiências o paciente tem) para binário: tem ou não tem."
   ]
  },
  {
   "cell_type": "code",
   "execution_count": 25,
   "id": "7a862bb9",
   "metadata": {},
   "outputs": [],
   "source": [
    "df['Handcap'] = df['Handcap'].map({1 : True, 2 : True, 3 : True, 4 : True, 0 : False})"
   ]
  },
  {
   "cell_type": "code",
   "execution_count": 26,
   "id": "6f4abe09",
   "metadata": {},
   "outputs": [
    {
     "name": "stdout",
     "output_type": "stream",
     "text": [
      "       Gender           Age  Scholarship  Hipertension  Diabetes  Alcoholism  \\\n",
      "72859   False  (63.0, 67.0]        False          True      True       False   \n",
      "34617   False  (28.0, 32.0]        False         False     False       False   \n",
      "24872   False  (52.0, 56.0]        False         False     False       False   \n",
      "26989   False   (-0.0, 4.0]        False         False     False       False   \n",
      "50386   False   (-0.0, 4.0]        False         False     False       False   \n",
      "\n",
      "       Handcap  SMS_received  No-show  ScheduleToAppointment  ScheduleWeekDay  \n",
      "72859    False          True    False                   15.0                1  \n",
      "34617    False          True    False                   14.0                1  \n",
      "24872    False         False    False                    0.0                0  \n",
      "26989    False         False    False                    0.0                3  \n",
      "50386    False         False    False                   33.0                2  \n"
     ]
    }
   ],
   "source": [
    "print(df.sample(5))"
   ]
  },
  {
   "cell_type": "markdown",
   "id": "4ed8229d",
   "metadata": {},
   "source": [
    "Por fim, optamos por categorizar, também, a coluna que dá a distância temporal entre agendamento e consulta:"
   ]
  },
  {
   "cell_type": "code",
   "execution_count": 27,
   "id": "94bea653",
   "metadata": {},
   "outputs": [],
   "source": [
    "df['ScheduleToAppointment'] = pd.cut(df['ScheduleToAppointment'], bins=30, precision=0)"
   ]
  },
  {
   "cell_type": "code",
   "execution_count": 28,
   "id": "a086af13",
   "metadata": {},
   "outputs": [
    {
     "name": "stdout",
     "output_type": "stream",
     "text": [
      "       Gender           Age  Scholarship  Hipertension  Diabetes  Alcoholism  \\\n",
      "2852    False  (32.0, 36.0]        False         False     False       False   \n",
      "39536   False  (32.0, 36.0]        False         False     False       False   \n",
      "70584    True  (20.0, 24.0]        False         False     False       False   \n",
      "36245   False  (28.0, 32.0]         True         False     False       False   \n",
      "7812     True  (56.0, 59.0]        False         False     False       False   \n",
      "\n",
      "       Handcap  SMS_received  No-show ScheduleToAppointment  ScheduleWeekDay  \n",
      "2852     False          True    False          (48.0, 54.0]                4  \n",
      "39536    False         False     True           (-0.0, 6.0]                0  \n",
      "70584    False         False    False           (-0.0, 6.0]                3  \n",
      "36245    False         False     True           (-0.0, 6.0]                3  \n",
      "7812     False         False    False           (-0.0, 6.0]                4  \n"
     ]
    }
   ],
   "source": [
    "print(df.sample(5))"
   ]
  }
 ],
 "metadata": {
  "kernelspec": {
   "display_name": "Python 3 (ipykernel)",
   "language": "python",
   "name": "python3"
  },
  "language_info": {
   "codemirror_mode": {
    "name": "ipython",
    "version": 3
   },
   "file_extension": ".py",
   "mimetype": "text/x-python",
   "name": "python",
   "nbconvert_exporter": "python",
   "pygments_lexer": "ipython3",
   "version": "3.9.7"
  }
 },
 "nbformat": 4,
 "nbformat_minor": 5
}
