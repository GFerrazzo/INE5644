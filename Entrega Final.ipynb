{
 "cells": [
  {
   "cell_type": "code",
   "execution_count": 1,
   "id": "069a1b60",
   "metadata": {},
   "outputs": [],
   "source": [
    "# importacao de bibliotecas necessarias\n",
    "\n",
    "# bibliotecas de redes neurais\n",
    "import tensorflow as tf\n",
    "from tensorflow import keras\n",
    "from keras.utils.vis_utils import plot_model\n",
    "import sklearn\n",
    "from sklearn.model_selection import StratifiedKFold\n",
    "\n",
    "\n",
    "# bibliotecas de manipulacao de variaveis de ambiente e acesso a diretorios\n",
    "import os, warnings\n",
    "import glob\n",
    "\n",
    "# bibliotecas de manipulacao e visualizacao de dados\n",
    "import pandas as pd\n",
    "import numpy as np\n",
    "import matplotlib.pyplot as plt"
   ]
  },
  {
   "cell_type": "markdown",
   "id": "8d926e8a",
   "metadata": {},
   "source": [
    "# Preparação dos Dados"
   ]
  },
  {
   "cell_type": "markdown",
   "id": "a532f8e6",
   "metadata": {},
   "source": [
    "Retomamos a mesma preparação dos dados abordada na [primeira entrega](https://github.com/GFerrazzo/INE5644/blob/main/Primeira%20Entrega%20-%20Trabalho%20Final.ipynb). Dessa vez, retiramos os blocos de código com propósito de visualização da preparação."
   ]
  },
  {
   "cell_type": "code",
   "execution_count": 2,
   "id": "206018f9",
   "metadata": {},
   "outputs": [],
   "source": [
    "df = pd.read_csv('https://raw.githubusercontent.com/GFerrazzo/INE5644/main/KaggleV2-May-2016.csv', sep = ',')\n",
    "\n",
    "# df = pd.read_csv('KaggleV2-May-2016.csv', sep = ',')"
   ]
  },
  {
   "cell_type": "code",
   "execution_count": 3,
   "id": "262b95e5",
   "metadata": {},
   "outputs": [
    {
     "name": "stdout",
     "output_type": "stream",
     "text": [
      "<class 'pandas.core.frame.DataFrame'>\n",
      "RangeIndex: 110527 entries, 0 to 110526\n",
      "Data columns (total 14 columns):\n",
      " #   Column          Non-Null Count   Dtype  \n",
      "---  ------          --------------   -----  \n",
      " 0   PatientId       110527 non-null  float64\n",
      " 1   AppointmentID   110527 non-null  int64  \n",
      " 2   Gender          110527 non-null  object \n",
      " 3   ScheduledDay    110527 non-null  object \n",
      " 4   AppointmentDay  110527 non-null  object \n",
      " 5   Age             110527 non-null  int64  \n",
      " 6   Neighbourhood   110527 non-null  object \n",
      " 7   Scholarship     110527 non-null  int64  \n",
      " 8   Hipertension    110527 non-null  int64  \n",
      " 9   Diabetes        110527 non-null  int64  \n",
      " 10  Alcoholism      110527 non-null  int64  \n",
      " 11  Handcap         110527 non-null  int64  \n",
      " 12  SMS_received    110527 non-null  int64  \n",
      " 13  No-show         110527 non-null  object \n",
      "dtypes: float64(1), int64(8), object(5)\n",
      "memory usage: 11.8+ MB\n"
     ]
    }
   ],
   "source": [
    "df.info()"
   ]
  },
  {
   "cell_type": "code",
   "execution_count": 4,
   "id": "d9b47bfe",
   "metadata": {},
   "outputs": [],
   "source": [
    "df['ScheduledDay'] = pd.to_datetime(df['ScheduledDay'])\n",
    "df['AppointmentDay'] = pd.to_datetime(df['AppointmentDay'])"
   ]
  },
  {
   "cell_type": "code",
   "execution_count": 5,
   "id": "5f8b25bf",
   "metadata": {},
   "outputs": [],
   "source": [
    "df['Gender'] = df['Gender'].map({'M' : 1, 'F' : 0})\n",
    "df['No-show'] = df['No-show'].map({'Yes' : 1, 'No' : 0})\n",
    "\n",
    "# esse bloco foi alterado para nao utilizarmos mais o dtype boolean. o Keras teve algum problema em trabalhar com esse dtype."
   ]
  },
  {
   "cell_type": "code",
   "execution_count": 6,
   "id": "fdeab724",
   "metadata": {},
   "outputs": [],
   "source": [
    "df['ScheduleToAppointment'] = (df['AppointmentDay'] - df['ScheduledDay']).astype('timedelta64[D]') + 1"
   ]
  },
  {
   "cell_type": "code",
   "execution_count": 7,
   "id": "3cc47ca0",
   "metadata": {},
   "outputs": [],
   "source": [
    "df['ScheduleWeekDay'] = df['ScheduledDay'].dt.weekday"
   ]
  },
  {
   "cell_type": "code",
   "execution_count": 8,
   "id": "5a94d980",
   "metadata": {},
   "outputs": [],
   "source": [
    "df.drop(columns=['PatientId','AppointmentID','ScheduledDay','AppointmentDay'], inplace=True)"
   ]
  },
  {
   "cell_type": "code",
   "execution_count": 9,
   "id": "4a6c1012",
   "metadata": {},
   "outputs": [],
   "source": [
    "df.drop(df[df['Age'] < 0].index, inplace=True)"
   ]
  },
  {
   "cell_type": "code",
   "execution_count": 10,
   "id": "20de48e0",
   "metadata": {},
   "outputs": [],
   "source": [
    "df.drop(df[df['ScheduleToAppointment'] < 0].index, inplace=True)"
   ]
  },
  {
   "cell_type": "code",
   "execution_count": 11,
   "id": "76270e2a",
   "metadata": {},
   "outputs": [
    {
     "data": {
      "text/plain": [
       "0.2018982817745044"
      ]
     },
     "execution_count": 11,
     "metadata": {},
     "output_type": "execute_result"
    }
   ],
   "source": [
    "df[df['No-show'] == True].shape[0]/df.shape[0]"
   ]
  },
  {
   "cell_type": "code",
   "execution_count": 12,
   "id": "24d3673c",
   "metadata": {},
   "outputs": [],
   "source": [
    "df.drop(columns=['Neighbourhood'], inplace=True)"
   ]
  },
  {
   "cell_type": "code",
   "execution_count": 13,
   "id": "fad07d81",
   "metadata": {},
   "outputs": [],
   "source": [
    "# df['Age'] = pd.cut(df['Age'], bins=29, precision=0)"
   ]
  },
  {
   "cell_type": "code",
   "execution_count": 14,
   "id": "ee238533",
   "metadata": {},
   "outputs": [],
   "source": [
    "# df['Handcap'] = df['Handcap'].map({1 : True, 2 : True, 3 : True, 4 : True, 0 : False})"
   ]
  },
  {
   "cell_type": "code",
   "execution_count": 15,
   "id": "bb48b92c",
   "metadata": {},
   "outputs": [],
   "source": [
    "# df['ScheduleToAppointment'] = pd.cut(df['ScheduleToAppointment'], bins=30, precision=0)"
   ]
  },
  {
   "cell_type": "code",
   "execution_count": 16,
   "id": "dda88b19",
   "metadata": {},
   "outputs": [
    {
     "data": {
      "text/html": [
       "<div>\n",
       "<style scoped>\n",
       "    .dataframe tbody tr th:only-of-type {\n",
       "        vertical-align: middle;\n",
       "    }\n",
       "\n",
       "    .dataframe tbody tr th {\n",
       "        vertical-align: top;\n",
       "    }\n",
       "\n",
       "    .dataframe thead th {\n",
       "        text-align: right;\n",
       "    }\n",
       "</style>\n",
       "<table border=\"1\" class=\"dataframe\">\n",
       "  <thead>\n",
       "    <tr style=\"text-align: right;\">\n",
       "      <th></th>\n",
       "      <th>Gender</th>\n",
       "      <th>Age</th>\n",
       "      <th>Scholarship</th>\n",
       "      <th>Hipertension</th>\n",
       "      <th>Diabetes</th>\n",
       "      <th>Alcoholism</th>\n",
       "      <th>Handcap</th>\n",
       "      <th>SMS_received</th>\n",
       "      <th>No-show</th>\n",
       "      <th>ScheduleToAppointment</th>\n",
       "      <th>ScheduleWeekDay</th>\n",
       "    </tr>\n",
       "  </thead>\n",
       "  <tbody>\n",
       "    <tr>\n",
       "      <th>36985</th>\n",
       "      <td>1</td>\n",
       "      <td>40</td>\n",
       "      <td>0</td>\n",
       "      <td>0</td>\n",
       "      <td>0</td>\n",
       "      <td>1</td>\n",
       "      <td>0</td>\n",
       "      <td>0</td>\n",
       "      <td>1</td>\n",
       "      <td>5.0</td>\n",
       "      <td>2</td>\n",
       "    </tr>\n",
       "    <tr>\n",
       "      <th>53946</th>\n",
       "      <td>0</td>\n",
       "      <td>40</td>\n",
       "      <td>0</td>\n",
       "      <td>0</td>\n",
       "      <td>0</td>\n",
       "      <td>0</td>\n",
       "      <td>0</td>\n",
       "      <td>0</td>\n",
       "      <td>0</td>\n",
       "      <td>0.0</td>\n",
       "      <td>2</td>\n",
       "    </tr>\n",
       "    <tr>\n",
       "      <th>53982</th>\n",
       "      <td>0</td>\n",
       "      <td>51</td>\n",
       "      <td>0</td>\n",
       "      <td>1</td>\n",
       "      <td>1</td>\n",
       "      <td>0</td>\n",
       "      <td>0</td>\n",
       "      <td>0</td>\n",
       "      <td>1</td>\n",
       "      <td>7.0</td>\n",
       "      <td>1</td>\n",
       "    </tr>\n",
       "    <tr>\n",
       "      <th>64131</th>\n",
       "      <td>1</td>\n",
       "      <td>43</td>\n",
       "      <td>0</td>\n",
       "      <td>1</td>\n",
       "      <td>1</td>\n",
       "      <td>0</td>\n",
       "      <td>0</td>\n",
       "      <td>0</td>\n",
       "      <td>1</td>\n",
       "      <td>8.0</td>\n",
       "      <td>1</td>\n",
       "    </tr>\n",
       "    <tr>\n",
       "      <th>109197</th>\n",
       "      <td>1</td>\n",
       "      <td>35</td>\n",
       "      <td>0</td>\n",
       "      <td>0</td>\n",
       "      <td>0</td>\n",
       "      <td>0</td>\n",
       "      <td>0</td>\n",
       "      <td>1</td>\n",
       "      <td>0</td>\n",
       "      <td>19.0</td>\n",
       "      <td>3</td>\n",
       "    </tr>\n",
       "  </tbody>\n",
       "</table>\n",
       "</div>"
      ],
      "text/plain": [
       "        Gender  Age  Scholarship  Hipertension  Diabetes  Alcoholism  Handcap  \\\n",
       "36985        1   40            0             0         0           1        0   \n",
       "53946        0   40            0             0         0           0        0   \n",
       "53982        0   51            0             1         1           0        0   \n",
       "64131        1   43            0             1         1           0        0   \n",
       "109197       1   35            0             0         0           0        0   \n",
       "\n",
       "        SMS_received  No-show  ScheduleToAppointment  ScheduleWeekDay  \n",
       "36985              0        1                    5.0                2  \n",
       "53946              0        0                    0.0                2  \n",
       "53982              0        1                    7.0                1  \n",
       "64131              0        1                    8.0                1  \n",
       "109197             1        0                   19.0                3  "
      ]
     },
     "execution_count": 16,
     "metadata": {},
     "output_type": "execute_result"
    }
   ],
   "source": [
    "df.sample(5)"
   ]
  },
  {
   "cell_type": "code",
   "execution_count": 17,
   "id": "5fc51067",
   "metadata": {},
   "outputs": [
    {
     "name": "stdout",
     "output_type": "stream",
     "text": [
      "<class 'pandas.core.frame.DataFrame'>\n",
      "Int64Index: 110521 entries, 0 to 110526\n",
      "Data columns (total 11 columns):\n",
      " #   Column                 Non-Null Count   Dtype  \n",
      "---  ------                 --------------   -----  \n",
      " 0   Gender                 110521 non-null  int64  \n",
      " 1   Age                    110521 non-null  int64  \n",
      " 2   Scholarship            110521 non-null  int64  \n",
      " 3   Hipertension           110521 non-null  int64  \n",
      " 4   Diabetes               110521 non-null  int64  \n",
      " 5   Alcoholism             110521 non-null  int64  \n",
      " 6   Handcap                110521 non-null  int64  \n",
      " 7   SMS_received           110521 non-null  int64  \n",
      " 8   No-show                110521 non-null  int64  \n",
      " 9   ScheduleToAppointment  110521 non-null  float64\n",
      " 10  ScheduleWeekDay        110521 non-null  int64  \n",
      "dtypes: float64(1), int64(10)\n",
      "memory usage: 10.1 MB\n"
     ]
    }
   ],
   "source": [
    "df.info()"
   ]
  },
  {
   "cell_type": "code",
   "execution_count": 18,
   "id": "73c72539",
   "metadata": {},
   "outputs": [],
   "source": [
    "# df['Age'] = df['Age'].cat.codes\n",
    "# df['ScheduleToAppointment'] = df['ScheduleToAppointment'].cat.codes"
   ]
  },
  {
   "cell_type": "markdown",
   "id": "678b0fbc",
   "metadata": {},
   "source": [
    "# Primeiro Modelo"
   ]
  },
  {
   "cell_type": "code",
   "execution_count": 19,
   "id": "be6ef223",
   "metadata": {},
   "outputs": [],
   "source": [
    "df_model = df.copy()"
   ]
  },
  {
   "cell_type": "code",
   "execution_count": 20,
   "id": "41715c03",
   "metadata": {},
   "outputs": [],
   "source": [
    "target = df_model.pop('No-show')"
   ]
  },
  {
   "cell_type": "code",
   "execution_count": 21,
   "id": "b2925088",
   "metadata": {},
   "outputs": [],
   "source": [
    "dataset = tf.data.Dataset.from_tensor_slices((df_model.values, target.values))"
   ]
  },
  {
   "cell_type": "code",
   "execution_count": 22,
   "id": "cec4d2fb",
   "metadata": {},
   "outputs": [],
   "source": [
    "train_dataset = dataset.shuffle(len(df_model)).batch(32)"
   ]
  },
  {
   "cell_type": "markdown",
   "id": "bd34740b",
   "metadata": {},
   "source": [
    "Começaremos com um modelo bem simples. Composto apenas por três camadas."
   ]
  },
  {
   "cell_type": "code",
   "execution_count": 23,
   "id": "c7547882",
   "metadata": {},
   "outputs": [],
   "source": [
    "model1 = tf.keras.Sequential([\n",
    "    tf.keras.layers.Dense(11, activation='relu'),\n",
    "    tf.keras.layers.Dense(11, activation='relu'),\n",
    "    tf.keras.layers.Dense(1)\n",
    "  ])"
   ]
  },
  {
   "cell_type": "code",
   "execution_count": 24,
   "id": "aea8a55b",
   "metadata": {},
   "outputs": [],
   "source": [
    "model1.compile(optimizer='adam',\n",
    "                loss=tf.keras.losses.BinaryCrossentropy(from_logits=True),\n",
    "                metrics=['accuracy'])"
   ]
  },
  {
   "cell_type": "code",
   "execution_count": 25,
   "id": "61e5ac15",
   "metadata": {},
   "outputs": [
    {
     "name": "stdout",
     "output_type": "stream",
     "text": [
      "Epoch 1/10\n",
      "3454/3454 [==============================] - 20s 6ms/step - loss: 0.4987 - accuracy: 0.7928\n",
      "Epoch 2/10\n",
      "3454/3454 [==============================] - 19s 5ms/step - loss: 0.4499 - accuracy: 0.7981\n",
      "Epoch 3/10\n",
      "3454/3454 [==============================] - 18s 5ms/step - loss: 0.4481 - accuracy: 0.7981\n",
      "Epoch 4/10\n",
      "3454/3454 [==============================] - 18s 5ms/step - loss: 0.4473 - accuracy: 0.7981\n",
      "Epoch 5/10\n",
      "3454/3454 [==============================] - 19s 5ms/step - loss: 0.4467 - accuracy: 0.7981\n",
      "Epoch 6/10\n",
      "3454/3454 [==============================] - 18s 5ms/step - loss: 0.4466 - accuracy: 0.7981\n",
      "Epoch 7/10\n",
      "3454/3454 [==============================] - 19s 5ms/step - loss: 0.4464 - accuracy: 0.7981\n",
      "Epoch 8/10\n",
      "3454/3454 [==============================] - 19s 5ms/step - loss: 0.4460 - accuracy: 0.7981\n",
      "Epoch 9/10\n",
      "3454/3454 [==============================] - 21s 6ms/step - loss: 0.4458 - accuracy: 0.7981\n",
      "Epoch 10/10\n",
      "3454/3454 [==============================] - 22s 6ms/step - loss: 0.4455 - accuracy: 0.7981\n"
     ]
    }
   ],
   "source": [
    "model1_performance = model1.fit(train_dataset, epochs=10)"
   ]
  },
  {
   "cell_type": "markdown",
   "id": "86b272e8",
   "metadata": {},
   "source": [
    "Como podemos notar, ao utilizar o dataset como ele foi fornecido, chegamos numa acurácia de 79.81%. \n",
    "\n",
    "Coincidentemente (veremos que não é coincidência), esse é o valor do balanço das nossas classes, como podemos ver:"
   ]
  },
  {
   "cell_type": "code",
   "execution_count": 26,
   "id": "2b5a84d9",
   "metadata": {},
   "outputs": [
    {
     "data": {
      "text/plain": [
       "0.2018982817745044"
      ]
     },
     "execution_count": 26,
     "metadata": {},
     "output_type": "execute_result"
    }
   ],
   "source": [
    "df[df['No-show'] == True].shape[0]/df.shape[0]"
   ]
  },
  {
   "cell_type": "code",
   "execution_count": 27,
   "id": "358b1e05",
   "metadata": {},
   "outputs": [
    {
     "data": {
      "text/plain": [
       "0.7981017182254956"
      ]
     },
     "execution_count": 27,
     "metadata": {},
     "output_type": "execute_result"
    }
   ],
   "source": [
    "df[df['No-show'] == False].shape[0]/df.shape[0]"
   ]
  },
  {
   "cell_type": "markdown",
   "id": "d368570a",
   "metadata": {},
   "source": [
    "Ou seja, podemos imaginar que nosso modelo está prevendo \"Presença\" para todas predições, mas só acerta 79.81% das vezes.\n",
    "Podemos conferir isso com uma matriz de confusão."
   ]
  },
  {
   "cell_type": "code",
   "execution_count": 28,
   "id": "c17dc4b2",
   "metadata": {},
   "outputs": [],
   "source": [
    "y_pred_model1 = model1.predict(df_model)"
   ]
  },
  {
   "cell_type": "code",
   "execution_count": 29,
   "id": "6d329b30",
   "metadata": {},
   "outputs": [
    {
     "name": "stdout",
     "output_type": "stream",
     "text": [
      "tf.Tensor(\n",
      "[[88207     0]\n",
      " [22314     0]], shape=(2, 2), dtype=int32) \n",
      "\n",
      "acuracia: \t 1.0\n",
      "f1_scr: \t 1.0\n",
      "precisao: \t 1.0\n",
      "recall: \t 1.0\n"
     ]
    }
   ],
   "source": [
    "matriz_confusao1 = tf.math.confusion_matrix(labels=target, predictions=y_pred_model1.ravel()>0.5)\n",
    "TP = matriz_confusao1.numpy()[0][0]\n",
    "FP = matriz_confusao1.numpy()[0][1]\n",
    "TN = matriz_confusao1.numpy()[1][0]\n",
    "FN = matriz_confusao1.numpy()[1][1]\n",
    "acuracia = (TP+TN)/(TP+TN+FP+FN)\n",
    "f1_scr = (2*TP)/(2*TP + FP + FN)\n",
    "precisao = (TP)/(TP + FP)\n",
    "recall = (TP)/(TP+FN)\n",
    "print(matriz_confusao1, \"\\n\")\n",
    "print(\"acuracia: \\t\", acuracia)\n",
    "print(\"f1_scr: \\t\", f1_scr)\n",
    "print(\"precisao: \\t\", precisao)\n",
    "print(\"recall: \\t\", recall)"
   ]
  },
  {
   "attachments": {
    "confusion_matrix.png": {
     "image/png": "[encoded data removed]"
    }
   },
   "cell_type": "markdown",
   "id": "325eed82",
   "metadata": {},
   "source": [
    "![Matriz de Confusao](attachment:confusion_matrix.png)"
   ]
  },
  {
   "cell_type": "markdown",
   "id": "1c1b5a4b",
   "metadata": {},
   "source": [
    "Comparando com a imagem acima (fonte), podemos notar que temos:\n",
    "    88207 casos de positivos verdadeiros.\n",
    "    22314 casos de falsos negativos.\n",
    "    \n",
    "Que nos dá a acurácia de 79.81%.\n",
    "\n",
    "Indo além, podemos verificar pelo próprio resultado da predição, que retorna 110521 predições de \"Falso\":"
   ]
  },
  {
   "cell_type": "code",
   "execution_count": 30,
   "id": "07836a56",
   "metadata": {},
   "outputs": [
    {
     "data": {
      "text/plain": [
       "array([False, False, False, ..., False, False, False])"
      ]
     },
     "execution_count": 30,
     "metadata": {},
     "output_type": "execute_result"
    }
   ],
   "source": [
    "y_pred_model1.ravel()>0.5"
   ]
  },
  {
   "cell_type": "code",
   "execution_count": 31,
   "id": "b8561063",
   "metadata": {},
   "outputs": [
    {
     "data": {
      "text/plain": [
       "(array([False]), array([110521], dtype=int64))"
      ]
     },
     "execution_count": 31,
     "metadata": {},
     "output_type": "execute_result"
    }
   ],
   "source": [
    "np.unique(y_pred_model1.ravel()>0.5, return_counts=True)"
   ]
  },
  {
   "cell_type": "markdown",
   "id": "197ad067",
   "metadata": {},
   "source": [
    "# Segundo Modelo"
   ]
  },
  {
   "cell_type": "markdown",
   "id": "ce6c15e1",
   "metadata": {},
   "source": [
    "O que notamos que aconteceu no primeiro modelo é o chamado \"paradoxo da acurácia\", onde descobrimos que a acurácia não é um método \"certeiro\" de medir a previsibilidade do nosso modelo. Devemos alterar dois itens no nosso primeiro modelo:\n",
    "- Consertar o desbalanço das classes\n",
    "- Alterar a métrica de cálculo da previsibilidade do modelo"
   ]
  },
  {
   "cell_type": "markdown",
   "id": "778d0f21",
   "metadata": {},
   "source": [
    "Para o primeiro item acima, temos várias opções: undersampling, oversampling, etc. Neste segundo modelo, vamos alterar as métricas para ver o impacto que a métrica errada tinha sobre o modelo, assim como realizar um undersampling da classe majoritária e um oversampling da classe minoritária."
   ]
  },
  {
   "cell_type": "markdown",
   "id": "9516f853",
   "metadata": {},
   "source": [
    "Temos inúmeras opções de métricas diferentes, citamos algumas, com suas nomenclaturas em inglês (para evitar traduções errôneas):\n",
    "- Precision = TP/(TP+FP)\n",
    "- Recall = TP/(TP+FN)\n",
    "- F1 Score = 2 * Recall * Precision / (Recall + Precision)\n",
    "- Area Under ROC Curve\n",
    "- G-Measure = sqrt(Precision * Recall)\n",
    "- Jaccard Index = TP/(TP+FP+FN)\n",
    "\n",
    "\n",
    "onde \n",
    "\n",
    "TP = True Positive\n",
    "\n",
    "FP = False Positive\n",
    "\n",
    "FN = False Negative"
   ]
  },
  {
   "cell_type": "code",
   "execution_count": 32,
   "id": "1ff64bef",
   "metadata": {},
   "outputs": [
    {
     "name": "stdout",
     "output_type": "stream",
     "text": [
      "88207 22314\n"
     ]
    }
   ],
   "source": [
    "count_class_0, count_class_1 = df['No-show'].value_counts()\n",
    "print(count_class_0, count_class_1)"
   ]
  },
  {
   "cell_type": "code",
   "execution_count": 33,
   "id": "b3e1b634",
   "metadata": {},
   "outputs": [],
   "source": [
    "df_class_0 = df[df['No-show'] == 0]\n",
    "df_class_1 = df[df['No-show'] == 1]"
   ]
  },
  {
   "cell_type": "markdown",
   "id": "16384dc5",
   "metadata": {},
   "source": [
    "Undersampling"
   ]
  },
  {
   "cell_type": "code",
   "execution_count": 34,
   "id": "83148378",
   "metadata": {},
   "outputs": [
    {
     "data": {
      "text/plain": [
       "1    22314\n",
       "0    22314\n",
       "Name: No-show, dtype: int64"
      ]
     },
     "execution_count": 34,
     "metadata": {},
     "output_type": "execute_result"
    }
   ],
   "source": [
    "df_class_0_resampled = df_class_0.sample(count_class_1)\n",
    "df_undersampled = pd.concat([df_class_1, df_class_0_resampled])\n",
    "df_undersampled['No-show'].value_counts()"
   ]
  },
  {
   "cell_type": "markdown",
   "id": "fdc3d23f",
   "metadata": {},
   "source": [
    "Oversampling"
   ]
  },
  {
   "cell_type": "code",
   "execution_count": 35,
   "id": "653cae71",
   "metadata": {},
   "outputs": [
    {
     "data": {
      "text/plain": [
       "0    88207\n",
       "1    88207\n",
       "Name: No-show, dtype: int64"
      ]
     },
     "execution_count": 35,
     "metadata": {},
     "output_type": "execute_result"
    }
   ],
   "source": [
    "df_class_1_resampled = df_class_1.sample(count_class_0, replace=True)\n",
    "df_oversampled = pd.concat([df_class_0, df_class_1_resampled])\n",
    "df_oversampled['No-show'].value_counts()"
   ]
  },
  {
   "cell_type": "code",
   "execution_count": 36,
   "id": "98381d53",
   "metadata": {},
   "outputs": [
    {
     "name": "stdout",
     "output_type": "stream",
     "text": [
      "Epoch 1/15\n",
      "1395/1395 [==============================] - 13s 9ms/step - loss: 0.6830 - auc: 0.6631\n",
      "Epoch 2/15\n",
      "1395/1395 [==============================] - 12s 8ms/step - loss: 0.6350 - auc: 0.6855\n",
      "Epoch 3/15\n",
      "1395/1395 [==============================] - 12s 9ms/step - loss: 0.6287 - auc: 0.6897\n",
      "Epoch 4/15\n",
      "1395/1395 [==============================] - 13s 9ms/step - loss: 0.6234 - auc: 0.6963\n",
      "Epoch 5/15\n",
      "1395/1395 [==============================] - 13s 9ms/step - loss: 0.6198 - auc: 0.6993\n",
      "Epoch 6/15\n",
      "1395/1395 [==============================] - 12s 9ms/step - loss: 0.6173 - auc: 0.6994\n",
      "Epoch 7/15\n",
      "1395/1395 [==============================] - 13s 9ms/step - loss: 0.6147 - auc: 0.7006: 0s - loss: 0.6152 - auc\n",
      "Epoch 8/15\n",
      "1395/1395 [==============================] - 12s 8ms/step - loss: 0.6134 - auc: 0.7029\n",
      "Epoch 9/15\n",
      "1395/1395 [==============================] - 12s 8ms/step - loss: 0.6119 - auc: 0.7043\n",
      "Epoch 10/15\n",
      "1395/1395 [==============================] - 12s 9ms/step - loss: 0.6104 - auc: 0.7050\n",
      "Epoch 11/15\n",
      "1395/1395 [==============================] - 14s 10ms/step - loss: 0.6093 - auc: 0.7061\n",
      "Epoch 12/15\n",
      "1395/1395 [==============================] - 13s 9ms/step - loss: 0.6089 - auc: 0.7073\n",
      "Epoch 13/15\n",
      "1395/1395 [==============================] - 12s 8ms/step - loss: 0.6079 - auc: 0.7089\n",
      "Epoch 14/15\n",
      "1395/1395 [==============================] - 12s 9ms/step - loss: 0.6078 - auc: 0.7099\n",
      "Epoch 15/15\n",
      "1395/1395 [==============================] - 12s 9ms/step - loss: 0.6065 - auc: 0.7108\n"
     ]
    }
   ],
   "source": [
    "df_model = df_undersampled.copy()\n",
    "\n",
    "target = df_model.pop('No-show')\n",
    "\n",
    "dataset = tf.data.Dataset.from_tensor_slices((df_model.values, target.values))\n",
    "\n",
    "train_dataset = dataset.shuffle(len(df_model)).batch(32)\n",
    "\n",
    "model2 = tf.keras.Sequential([\n",
    "    tf.keras.layers.Dense(11, activation='relu'),\n",
    "    tf.keras.layers.Dense(11, activation='relu'),\n",
    "    tf.keras.layers.Dense(1, activation='sigmoid')\n",
    "  ])\n",
    "\n",
    "model2.compile(optimizer='sgd',\n",
    "                loss=tf.keras.losses.BinaryCrossentropy(from_logits=False),\n",
    "                metrics=[tf.keras.metrics.AUC()])\n",
    "\n",
    "model2_performance = model2.fit(train_dataset, epochs=15)"
   ]
  },
  {
   "cell_type": "code",
   "execution_count": 37,
   "id": "9c3809bc",
   "metadata": {},
   "outputs": [],
   "source": [
    "\n",
    "reduce_lr = tf.keras.callbacks.ReduceLROnPlateau(monitor='loss', # qual metrica sera monitorada\n",
    "                              factor=0.2, # fator de multiplicacao (no caso reducao) do learning rate\n",
    "                              patience=2, # quantas epocas esperamos o \"plateau\"\n",
    "                              min_lr=0.0001 # menor learning rate possivel\n",
    "                                )"
   ]
  },
  {
   "cell_type": "code",
   "execution_count": 38,
   "id": "dcb14b79",
   "metadata": {},
   "outputs": [
    {
     "name": "stdout",
     "output_type": "stream",
     "text": [
      "Epoch 1/10\n",
      "5513/5513 [==============================] - 71s 13ms/step - loss: 0.6677 - recall: 0.5590 - auc_1: 0.6394 - precision: 0.6075\n",
      "Epoch 2/10\n",
      "5513/5513 [==============================] - 73s 13ms/step - loss: 0.6477 - recall: 0.6177 - auc_1: 0.6681 - precision: 0.63081s - loss: 0.6477 - recall: \n",
      "Epoch 3/10\n",
      "5513/5513 [==============================] - 86s 16ms/step - loss: 0.6400 - recall: 0.6708 - auc_1: 0.6748 - precision: 0.6289\n",
      "Epoch 4/10\n",
      "5513/5513 [==============================] - 78s 14ms/step - loss: 0.6378 - recall: 0.6975 - auc_1: 0.6783 - precision: 0.6298\n",
      "Epoch 5/10\n",
      "5513/5513 [==============================] - 97s 18ms/step - loss: 0.6419 - recall: 0.7289 - auc_1: 0.6700 - precision: 0.6260\n",
      "Epoch 6/10\n",
      "5513/5513 [==============================] - 103s 18ms/step - loss: 0.6393 - recall: 0.7526 - auc_1: 0.6726 - precision: 0.6239\n",
      "Epoch 7/10\n",
      "5513/5513 [==============================] - 125s 22ms/step - loss: 0.6343 - recall: 0.7870 - auc_1: 0.6787 - precision: 0.6200\n",
      "Epoch 8/10\n",
      "5513/5513 [==============================] - 121s 22ms/step - loss: 0.6328 - recall: 0.7966 - auc_1: 0.6794 - precision: 0.6199\n",
      "Epoch 9/10\n",
      "5513/5513 [==============================] - 107s 19ms/step - loss: 0.6333 - recall: 0.8008 - auc_1: 0.6795 - precision: 0.6187\n",
      "Epoch 10/10\n",
      "5513/5513 [==============================] - 113s 21ms/step - loss: 0.6330 - recall: 0.8018 - auc_1: 0.6794 - precision: 0.6189s - loss: 0.6331 - recall: 0.8018 - auc_1: 0. - ETA: 0s - los\n"
     ]
    }
   ],
   "source": [
    "df_model = df_oversampled.copy()\n",
    "\n",
    "target = df_model.pop('No-show')\n",
    "\n",
    "dataset = tf.data.Dataset.from_tensor_slices((df_model.values, target.values))\n",
    "\n",
    "train_dataset = dataset.shuffle(len(df_model)).batch(32)\n",
    "\n",
    "model2 = tf.keras.Sequential([\n",
    "    tf.keras.layers.Dense(11, activation='relu'),\n",
    "    tf.keras.layers.Dropout(0.6),\n",
    "    tf.keras.layers.Dense(11, activation='relu'),\n",
    "    tf.keras.layers.Dense(11, activation='relu'),\n",
    "    tf.keras.layers.Dense(11, activation='relu'),\n",
    "    tf.keras.layers.Dense(1, activation='sigmoid')\n",
    "  ])\n",
    "\n",
    "model2.compile(optimizer=tf.keras.optimizers.SGD(learning_rate=0.01) ,\n",
    "                loss=tf.keras.losses.BinaryCrossentropy(from_logits=False),\n",
    "                metrics=[tf.keras.metrics.Recall(),\n",
    "                        tf.keras.metrics.AUC(),\n",
    "                        tf.keras.metrics.Precision()])\n",
    "\n",
    "model2_performance = model2.fit(train_dataset, callbacks=[reduce_lr], epochs=10)"
   ]
  },
  {
   "cell_type": "code",
   "execution_count": 39,
   "id": "0fd106ed",
   "metadata": {},
   "outputs": [
    {
     "name": "stdout",
     "output_type": "stream",
     "text": [
      "tf.Tensor(\n",
      "[[40716 47491]\n",
      " [11295 76912]], shape=(2, 2), dtype=int32) \n",
      "\n",
      "acuracia: \t 0.2948235400818529\n",
      "f1_scr: \t 0.3956178492481842\n",
      "precisao: \t 0.4615960184565851\n",
      "recall: \t 0.34614207501615263\n"
     ]
    }
   ],
   "source": [
    "y_pred_model2 = model2.predict(df_model)\n",
    "matriz_confusao2 = tf.math.confusion_matrix(labels=target, predictions=y_pred_model2.ravel()>0.5)\n",
    "TP = matriz_confusao2.numpy()[0][0]\n",
    "FP = matriz_confusao2.numpy()[0][1]\n",
    "TN = matriz_confusao2.numpy()[1][0]\n",
    "FN = matriz_confusao2.numpy()[1][1]\n",
    "acuracia = (TP+TN)/(TP+TN+FP+FN)\n",
    "f1_scr = (2*TP)/(2*TP + FP + FN)\n",
    "precisao = (TP)/(TP + FP)\n",
    "recall = (TP)/(TP+FN)\n",
    "print(matriz_confusao2, \"\\n\")\n",
    "print(\"acuracia: \\t\", acuracia)\n",
    "print(\"f1_scr: \\t\", f1_scr)\n",
    "print(\"precisao: \\t\", precisao)\n",
    "print(\"recall: \\t\", recall)"
   ]
  },
  {
   "cell_type": "markdown",
   "id": "0b021396",
   "metadata": {},
   "source": [
    "Pela matriz de confusão podemos perceber uma melhora na predição do modelo, porém ainda não temos resultados totalmente satisfatórios."
   ]
  },
  {
   "cell_type": "markdown",
   "id": "04305392",
   "metadata": {},
   "source": [
    "# Terceiro Modelo"
   ]
  },
  {
   "cell_type": "markdown",
   "id": "a7ce275a",
   "metadata": {},
   "source": [
    "Para esse modelo, vamos deixar para trás a utilização de redes neurais e utilizar um mobelo de gradient boosting."
   ]
  },
  {
   "cell_type": "code",
   "execution_count": 40,
   "id": "1990d7a6",
   "metadata": {},
   "outputs": [],
   "source": [
    "import lightgbm as lgb\n",
    "from sklearn.metrics import roc_auc_score, accuracy_score, RocCurveDisplay"
   ]
  },
  {
   "cell_type": "code",
   "execution_count": 41,
   "id": "8206fce4",
   "metadata": {},
   "outputs": [],
   "source": [
    "target = 'No-show'\n",
    "feat_cols = [col for col in df.columns if col != target]"
   ]
  },
  {
   "cell_type": "code",
   "execution_count": 42,
   "id": "0ab72a4b",
   "metadata": {},
   "outputs": [
    {
     "name": "stdout",
     "output_type": "stream",
     "text": [
      "[LightGBM] [Warning] feature_fraction is set=0.7, colsample_bytree=0.5 will be ignored. Current value: feature_fraction=0.7\n",
      "[LightGBM] [Warning] min_data_in_leaf is set=100, min_child_samples=20 will be ignored. Current value: min_data_in_leaf=100\n",
      "[LightGBM] [Warning] bagging_fraction is set=0.7, subsample=1.0 will be ignored. Current value: bagging_fraction=0.7\n",
      "[LightGBM] [Warning] bagging_freq is set=4, subsample_freq=0 will be ignored. Current value: bagging_freq=4\n",
      "0.7192157948702199\n"
     ]
    }
   ],
   "source": [
    "train_split = 70000\n",
    "\n",
    "x = df.iloc[:train_split][feat_cols]\n",
    "y = df.iloc[:train_split][target]\n",
    "\n",
    "model_params = {\n",
    "    \"objective\": 'binary',\n",
    "    \"max_depth\": -1,\n",
    "    \"num_leaves\": 9,\n",
    "    \"learning_rate\": 0.1,\n",
    "    \"n_estimators\": 100,\n",
    "    \"boosting_type\": \"rf\",\n",
    "    \"min_data_in_leaf\": 100,\n",
    "    \"bagging_freq\": 4,\n",
    "    \"bagging_fraction\": 0.7,\n",
    "    \"feature_fraction\": 0.7,\n",
    "    \"colsample_bytree\": 0.5,\n",
    "#     \"is_unbalance\": True,\n",
    "    \"scale_pos_weight\": 1.78,\n",
    "    \"metric\": \"auc\"\n",
    "}\n",
    "\n",
    "model3 = lgb.LGBMRegressor(**model_params).fit(x, y)\n",
    "\n",
    "test_df = (\n",
    "    df\n",
    "    .iloc[train_split:]\n",
    "    .assign(pred = lambda df: pd.DataFrame(model3.predict(df[feat_cols])).values)\n",
    ")\n",
    "\n",
    "print(roc_auc_score(test_df[target], test_df['pred']))"
   ]
  },
  {
   "cell_type": "code",
   "execution_count": 43,
   "id": "524e117d",
   "metadata": {},
   "outputs": [
    {
     "data": {
      "text/plain": [
       "<sklearn.metrics._plot.roc_curve.RocCurveDisplay at 0x231c7bf3f40>"
      ]
     },
     "execution_count": 43,
     "metadata": {},
     "output_type": "execute_result"
    },
    {
     "data": {
      "image/png": "[encoded data removed]",
      "text/plain": [
       "<Figure size 432x288 with 1 Axes>"
      ]
     },
     "metadata": {
      "needs_background": "light"
     },
     "output_type": "display_data"
    }
   ],
   "source": [
    "RocCurveDisplay.from_predictions(test_df[target], test_df['pred'])"
   ]
  },
  {
   "cell_type": "code",
   "execution_count": 44,
   "id": "bae2740f",
   "metadata": {},
   "outputs": [
    {
     "data": {
      "text/plain": [
       "<AxesSubplot:>"
      ]
     },
     "execution_count": 44,
     "metadata": {},
     "output_type": "execute_result"
    },
    {
     "data": {
      "image/png": "[encoded data removed]",
      "text/plain": [
       "<Figure size 432x288 with 1 Axes>"
      ]
     },
     "metadata": {
      "needs_background": "light"
     },
     "output_type": "display_data"
    }
   ],
   "source": [
    "test_df['pred'].hist(bins=100) "
   ]
  },
  {
   "cell_type": "code",
   "execution_count": 45,
   "id": "c0c9f1d1",
   "metadata": {},
   "outputs": [
    {
     "name": "stdout",
     "output_type": "stream",
     "text": [
      "tf.Tensor(\n",
      "[[79618  8589]\n",
      " [17304  5010]], shape=(2, 2), dtype=int32) \n",
      "\n",
      "acuracia: \t 0.8769555107174202\n",
      "f1_scr: \t 0.921318020076952\n",
      "precisao: \t 0.902626775652726\n",
      "recall: \t 0.9407997353121899\n"
     ]
    }
   ],
   "source": [
    "y_pred_model3 = model3.predict(df[feat_cols])\n",
    "matriz_confusao = tf.math.confusion_matrix(labels=df[target], predictions=y_pred_model3.ravel()>0.53)\n",
    "TP = matriz_confusao.numpy()[0][0]\n",
    "FP = matriz_confusao.numpy()[0][1]\n",
    "TN = matriz_confusao.numpy()[1][0]\n",
    "FN = matriz_confusao.numpy()[1][1]\n",
    "acuracia = (TP+TN)/(TP+TN+FP+FN)\n",
    "f1_scr = (2*TP)/(2*TP + FP + FN)\n",
    "precisao = (TP)/(TP + FP)\n",
    "recall = (TP)/(TP+FN)\n",
    "print(matriz_confusao, \"\\n\")\n",
    "print(\"acuracia: \\t\", acuracia)\n",
    "print(\"f1_scr: \\t\", f1_scr)\n",
    "print(\"precisao: \\t\", precisao)\n",
    "print(\"recall: \\t\", recall)\n"
   ]
  },
  {
   "cell_type": "code",
   "execution_count": 46,
   "id": "9b34481f",
   "metadata": {},
   "outputs": [
    {
     "data": {
      "text/plain": [
       "<sklearn.metrics._plot.roc_curve.RocCurveDisplay at 0x231dae96df0>"
      ]
     },
     "execution_count": 46,
     "metadata": {},
     "output_type": "execute_result"
    },
    {
     "data": {
      "image/png": "[encoded data removed]",
      "text/plain": [
       "<Figure size 432x288 with 1 Axes>"
      ]
     },
     "metadata": {
      "needs_background": "light"
     },
     "output_type": "display_data"
    }
   ],
   "source": [
    "RocCurveDisplay.from_predictions(df[target], y_pred_model3)"
   ]
  },
  {
   "cell_type": "markdown",
   "id": "3bedd896",
   "metadata": {},
   "source": [
    "Finalmente, chegamos a um modelo, de certo modo, satisfatório. Ainda temos 17304+8589 = 25893 casos de erro, dentre 110521 instâncias totais. Um alto erro, porém, a maioria (17304) dessas instâncias erradas é um Erro Tipo 1, ou seja, Falso Negativo. "
   ]
  },
  {
   "cell_type": "markdown",
   "id": "98fc586f",
   "metadata": {},
   "source": [
    "Esse tipo de erro, para nosso negócio, nao é tão problemático. Trata-se dos casos onde o modelo preveu que o paciente não faltaria à consulta, mas acabou faltando (lembrando que nossa classe 1 significa ausência à consulta). Esses casos de erro são pouco prejudiciais para nossa análise. Pois a ideia do modelo é que a clínica/consultório médico que o utilize, possa tomar ações baseadas na predição que o paciente irá se ausentar, seja realizando um \"overbooking\" para o horário da consulta deste paciente, ou liberando o médico de seu compromisso.\n",
    "\n",
    "Já para o caso do Erro Tipo 2 (8589 ocorrências), o modelo prevê que o paciente irá se ausentar, mas ele acaba comparecendo a clínica, portanto, esse erro é extremamente indesejado para nosso negócio."
   ]
  },
  {
   "cell_type": "markdown",
   "id": "e52e54d3",
   "metadata": {},
   "source": [
    "Podemos concluir, com base nas métricas F1 Score, Precisão e Recall, além claro da Acurácia, que nosso modelo tem uma boa predição, ainda assim. Claramente longe do ideal, como podemos perceber pela área abaixo da curva de característica de operação do receptor (abreviaremos para AUC), que em nosso modelo final estabilizou em 0.72, uma medida que coloca nosso modelo levemente abaixo de um modelo moderado, que seria entre 0.75 e 0.85 (D' Agostino, Rodgers, & Mauck, 2018).\n"
   ]
  },
  {
   "cell_type": "markdown",
   "id": "e0cff360",
   "metadata": {},
   "source": [
    "# Problemas"
   ]
  },
  {
   "cell_type": "markdown",
   "id": "7cd392e2",
   "metadata": {},
   "source": [
    "Concluímos que nosso dataset não dispõe de atributos suficientes e significativos para construir um modelo preditivo com métricas satisfatórias. Acreditamos que caso fosse empenhado muito mais horas de trabalho sobre o modelo, seria possível elevar suas métricas para, no máximo, encaixar-se na definição de um modelo moderado, com AUC próximo a 0.75.\n",
    "\n",
    "A ausência de outros modelos construídos sobre esse dataset com predições mais precisas que o nosso reforça nosso pensamento, poucos modelos foram capazes de passar a acurácia de 70%. Poderíamos ter utilizado `Neighbourhood` como um atributo a mais, entretanto, como relatado na Análise Exploratória dos Dados, a amostragem de alguns bairros era muito baixa, com alguns bairros tendo menos de 10 amostras cada, portanto, mantemos nosso entendimento de que o bairro não é significante para o modelo."
   ]
  },
  {
   "cell_type": "markdown",
   "id": "24501a7e",
   "metadata": {},
   "source": [
    "Outro dado removido que repensamos seu uso foi o identificador único do paciente. Partimos, agora, da hipótese que alguém que já faltou tenderá a faltar de novo outra consulta, verificaremos:"
   ]
  },
  {
   "cell_type": "code",
   "execution_count": 47,
   "id": "4f1d3459",
   "metadata": {},
   "outputs": [],
   "source": [
    "df = pd.read_csv('https://raw.githubusercontent.com/GFerrazzo/INE5644/main/KaggleV2-May-2016.csv',\n",
    "                 sep = ',', \n",
    "                 usecols=['PatientId', 'No-show'], \n",
    "                 dtype={'PatientId':'str'})"
   ]
  },
  {
   "cell_type": "code",
   "execution_count": 48,
   "id": "312d5fd3",
   "metadata": {},
   "outputs": [
    {
     "data": {
      "text/plain": [
       "<AxesSubplot:xlabel='PatientId'>"
      ]
     },
     "execution_count": 48,
     "metadata": {},
     "output_type": "execute_result"
    },
    {
     "data": {
      "image/png": "[encoded data removed]",
      "text/plain": [
       "<Figure size 432x288 with 1 Axes>"
      ]
     },
     "metadata": {
      "needs_background": "light"
     },
     "output_type": "display_data"
    }
   ],
   "source": [
    "df = df.groupby(['PatientId', 'No-show']).size().to_frame(name = 'size').reset_index()\n",
    "df.pivot(index='PatientId', columns='No-show', values='size').plot()"
   ]
  },
  {
   "cell_type": "markdown",
   "id": "5ab9a4e1",
   "metadata": {},
   "source": [
    "Podemos verificar visualmente acima que a taxa de ausência para cada paciente segue um claro padrão, ou seja, não conseguiríamos extrair informações adicionais deste atributo."
   ]
  },
  {
   "cell_type": "markdown",
   "id": "4d9d07e2",
   "metadata": {},
   "source": [
    "# Conclusão"
   ]
  },
  {
   "cell_type": "markdown",
   "id": "e8f4051a",
   "metadata": {},
   "source": [
    "Por fim, concluímos que o modelo pode trazer uma predição razoável da ausência à consultas agendadas em consultórios médicos, mas percebemos a ausência de atributos mais significativos no dataset, por isso o resultado não-ideal."
   ]
  },
  {
   "cell_type": "markdown",
   "id": "ae1921d8",
   "metadata": {},
   "source": [
    "# Referências"
   ]
  },
  {
   "cell_type": "markdown",
   "id": "f8e783fc",
   "metadata": {},
   "source": [
    "- Addressing Inadequacies of the Observation Survey of Early Literacy Achievement;\n",
    "    - D'Agostino, Jerome V.; Rodgers, Emily; Mauck, Susan;\n",
    "    - Jan-Mar 2018\n",
    "    - encontrado em https://eric.ed.gov/?id=EJ1165286"
   ]
  }
 ],
 "metadata": {
  "kernelspec": {
   "display_name": "Python 3 (ipykernel)",
   "language": "python",
   "name": "python3"
  },
  "language_info": {
   "codemirror_mode": {
    "name": "ipython",
    "version": 3
   },
   "file_extension": ".py",
   "mimetype": "text/x-python",
   "name": "python",
   "nbconvert_exporter": "python",
   "pygments_lexer": "ipython3",
   "version": "3.9.7"
  }
 },
 "nbformat": 4,
 "nbformat_minor": 5
}
