{
 "cells": [
  {
   "cell_type": "code",
   "execution_count": 2,
   "id": "069a1b60",
   "metadata": {},
   "outputs": [],
   "source": [
    "# importacao de bibliotecas necessarias\n",
    "\n",
    "# bibliotecas de redes neurais\n",
    "import tensorflow as tf\n",
    "from tensorflow import keras\n",
    "from keras.utils.vis_utils import plot_model\n",
    "import sklearn\n",
    "from sklearn.model_selection import StratifiedKFold\n",
    "\n",
    "# bibliotecas de manipulacao de variaveis de ambiente e acesso a diretorios\n",
    "import os, warnings\n",
    "import glob\n",
    "\n",
    "# bibliotecas de manipulacao e visualizacao de dados\n",
    "import pandas as pd\n",
    "import numpy as np\n",
    "import matplotlib.pyplot as plt"
   ]
  },
  {
   "cell_type": "markdown",
   "id": "8d926e8a",
   "metadata": {},
   "source": [
    "# Preparação dos Dados"
   ]
  },
  {
   "cell_type": "markdown",
   "id": "a532f8e6",
   "metadata": {},
   "source": [
    "Retomamos a mesma preparação dos dados abordada na [primeira entrega](https://github.com/GFerrazzo/INE5644/blob/main/Primeira%20Entrega%20-%20Trabalho%20Final.ipynb). Dessa vez, retiramos os blocos de código com propósito de visualização da preparação."
   ]
  },
  {
   "cell_type": "code",
   "execution_count": 3,
   "id": "206018f9",
   "metadata": {},
   "outputs": [],
   "source": [
    "# df = pd.read_csv('https://raw.githubusercontent.com/GFerrazzo/INE5644/main/KaggleV2-May-2016.csv', sep = ',')\n",
    "\n",
    "df = pd.read_csv('KaggleV2-May-2016.csv', sep = ',')"
   ]
  },
  {
   "cell_type": "code",
   "execution_count": 4,
   "id": "d9b47bfe",
   "metadata": {},
   "outputs": [],
   "source": [
    "df['ScheduledDay'] = pd.to_datetime(df['ScheduledDay'])\n",
    "df['AppointmentDay'] = pd.to_datetime(df['AppointmentDay'])"
   ]
  },
  {
   "cell_type": "code",
   "execution_count": 5,
   "id": "5f8b25bf",
   "metadata": {},
   "outputs": [],
   "source": [
    "df['Gender'] = df['Gender'].map({'M' : 1, 'F' : 0})\n",
    "df['No-show'] = df['No-show'].map({'Yes' : 1, 'No' : 0})\n",
    "\n",
    "# esse bloco foi alterado para nao utilizarmos mais o dtype boolean. o Keras teve algum problema em trabalhar com esse dtype."
   ]
  },
  {
   "cell_type": "code",
   "execution_count": 6,
   "id": "fdeab724",
   "metadata": {},
   "outputs": [],
   "source": [
    "df['ScheduleToAppointment'] = (df['AppointmentDay'] - df['ScheduledDay']).astype('timedelta64[D]') + 1"
   ]
  },
  {
   "cell_type": "code",
   "execution_count": 7,
   "id": "3cc47ca0",
   "metadata": {},
   "outputs": [],
   "source": [
    "df['ScheduleWeekDay'] = df['ScheduledDay'].dt.weekday"
   ]
  },
  {
   "cell_type": "code",
   "execution_count": 8,
   "id": "5a94d980",
   "metadata": {},
   "outputs": [],
   "source": [
    "df.drop(columns=['PatientId','AppointmentID','ScheduledDay','AppointmentDay'], inplace=True)"
   ]
  },
  {
   "cell_type": "code",
   "execution_count": 9,
   "id": "4a6c1012",
   "metadata": {},
   "outputs": [],
   "source": [
    "df.drop(df[df['Age'] < 0].index, inplace=True)"
   ]
  },
  {
   "cell_type": "code",
   "execution_count": 10,
   "id": "20de48e0",
   "metadata": {},
   "outputs": [],
   "source": [
    "df.drop(df[df['ScheduleToAppointment'] < 0].index, inplace=True)"
   ]
  },
  {
   "cell_type": "code",
   "execution_count": 11,
   "id": "76270e2a",
   "metadata": {},
   "outputs": [
    {
     "data": {
      "text/plain": [
       "0.2018982817745044"
      ]
     },
     "execution_count": 11,
     "metadata": {},
     "output_type": "execute_result"
    }
   ],
   "source": [
    "df[df['No-show'] == True].shape[0]/df.shape[0]"
   ]
  },
  {
   "cell_type": "code",
   "execution_count": 12,
   "id": "24d3673c",
   "metadata": {},
   "outputs": [],
   "source": [
    "df.drop(columns=['Neighbourhood'], inplace=True)"
   ]
  },
  {
   "cell_type": "code",
   "execution_count": 13,
   "id": "fad07d81",
   "metadata": {},
   "outputs": [],
   "source": [
    "# df['Age'] = pd.cut(df['Age'], bins=29, precision=0)"
   ]
  },
  {
   "cell_type": "code",
   "execution_count": 14,
   "id": "ee238533",
   "metadata": {},
   "outputs": [],
   "source": [
    "# df['Handcap'] = df['Handcap'].map({1 : True, 2 : True, 3 : True, 4 : True, 0 : False})"
   ]
  },
  {
   "cell_type": "code",
   "execution_count": 15,
   "id": "bb48b92c",
   "metadata": {},
   "outputs": [],
   "source": [
    "# df['ScheduleToAppointment'] = pd.cut(df['ScheduleToAppointment'], bins=30, precision=0)"
   ]
  },
  {
   "cell_type": "code",
   "execution_count": 16,
   "id": "dda88b19",
   "metadata": {},
   "outputs": [
    {
     "data": {
      "text/html": [
       "<div>\n",
       "<style scoped>\n",
       "    .dataframe tbody tr th:only-of-type {\n",
       "        vertical-align: middle;\n",
       "    }\n",
       "\n",
       "    .dataframe tbody tr th {\n",
       "        vertical-align: top;\n",
       "    }\n",
       "\n",
       "    .dataframe thead th {\n",
       "        text-align: right;\n",
       "    }\n",
       "</style>\n",
       "<table border=\"1\" class=\"dataframe\">\n",
       "  <thead>\n",
       "    <tr style=\"text-align: right;\">\n",
       "      <th></th>\n",
       "      <th>Gender</th>\n",
       "      <th>Age</th>\n",
       "      <th>Scholarship</th>\n",
       "      <th>Hipertension</th>\n",
       "      <th>Diabetes</th>\n",
       "      <th>Alcoholism</th>\n",
       "      <th>Handcap</th>\n",
       "      <th>SMS_received</th>\n",
       "      <th>No-show</th>\n",
       "      <th>ScheduleToAppointment</th>\n",
       "      <th>ScheduleWeekDay</th>\n",
       "    </tr>\n",
       "  </thead>\n",
       "  <tbody>\n",
       "    <tr>\n",
       "      <th>103110</th>\n",
       "      <td>0</td>\n",
       "      <td>50</td>\n",
       "      <td>0</td>\n",
       "      <td>0</td>\n",
       "      <td>0</td>\n",
       "      <td>0</td>\n",
       "      <td>0</td>\n",
       "      <td>0</td>\n",
       "      <td>0</td>\n",
       "      <td>2.0</td>\n",
       "      <td>0</td>\n",
       "    </tr>\n",
       "    <tr>\n",
       "      <th>12204</th>\n",
       "      <td>0</td>\n",
       "      <td>17</td>\n",
       "      <td>0</td>\n",
       "      <td>0</td>\n",
       "      <td>0</td>\n",
       "      <td>0</td>\n",
       "      <td>0</td>\n",
       "      <td>0</td>\n",
       "      <td>0</td>\n",
       "      <td>7.0</td>\n",
       "      <td>0</td>\n",
       "    </tr>\n",
       "    <tr>\n",
       "      <th>42183</th>\n",
       "      <td>0</td>\n",
       "      <td>29</td>\n",
       "      <td>0</td>\n",
       "      <td>0</td>\n",
       "      <td>0</td>\n",
       "      <td>0</td>\n",
       "      <td>0</td>\n",
       "      <td>1</td>\n",
       "      <td>0</td>\n",
       "      <td>26.0</td>\n",
       "      <td>4</td>\n",
       "    </tr>\n",
       "    <tr>\n",
       "      <th>102314</th>\n",
       "      <td>0</td>\n",
       "      <td>50</td>\n",
       "      <td>1</td>\n",
       "      <td>1</td>\n",
       "      <td>0</td>\n",
       "      <td>0</td>\n",
       "      <td>0</td>\n",
       "      <td>0</td>\n",
       "      <td>0</td>\n",
       "      <td>2.0</td>\n",
       "      <td>1</td>\n",
       "    </tr>\n",
       "    <tr>\n",
       "      <th>86704</th>\n",
       "      <td>1</td>\n",
       "      <td>49</td>\n",
       "      <td>0</td>\n",
       "      <td>1</td>\n",
       "      <td>0</td>\n",
       "      <td>0</td>\n",
       "      <td>0</td>\n",
       "      <td>1</td>\n",
       "      <td>0</td>\n",
       "      <td>7.0</td>\n",
       "      <td>0</td>\n",
       "    </tr>\n",
       "  </tbody>\n",
       "</table>\n",
       "</div>"
      ],
      "text/plain": [
       "        Gender  Age  Scholarship  Hipertension  Diabetes  Alcoholism  Handcap  \\\n",
       "103110       0   50            0             0         0           0        0   \n",
       "12204        0   17            0             0         0           0        0   \n",
       "42183        0   29            0             0         0           0        0   \n",
       "102314       0   50            1             1         0           0        0   \n",
       "86704        1   49            0             1         0           0        0   \n",
       "\n",
       "        SMS_received  No-show  ScheduleToAppointment  ScheduleWeekDay  \n",
       "103110             0        0                    2.0                0  \n",
       "12204              0        0                    7.0                0  \n",
       "42183              1        0                   26.0                4  \n",
       "102314             0        0                    2.0                1  \n",
       "86704              1        0                    7.0                0  "
      ]
     },
     "execution_count": 16,
     "metadata": {},
     "output_type": "execute_result"
    }
   ],
   "source": [
    "df.sample(5)"
   ]
  },
  {
   "cell_type": "code",
   "execution_count": 17,
   "id": "5fc51067",
   "metadata": {},
   "outputs": [
    {
     "name": "stdout",
     "output_type": "stream",
     "text": [
      "<class 'pandas.core.frame.DataFrame'>\n",
      "Int64Index: 110521 entries, 0 to 110526\n",
      "Data columns (total 11 columns):\n",
      " #   Column                 Non-Null Count   Dtype  \n",
      "---  ------                 --------------   -----  \n",
      " 0   Gender                 110521 non-null  int64  \n",
      " 1   Age                    110521 non-null  int64  \n",
      " 2   Scholarship            110521 non-null  int64  \n",
      " 3   Hipertension           110521 non-null  int64  \n",
      " 4   Diabetes               110521 non-null  int64  \n",
      " 5   Alcoholism             110521 non-null  int64  \n",
      " 6   Handcap                110521 non-null  int64  \n",
      " 7   SMS_received           110521 non-null  int64  \n",
      " 8   No-show                110521 non-null  int64  \n",
      " 9   ScheduleToAppointment  110521 non-null  float64\n",
      " 10  ScheduleWeekDay        110521 non-null  int64  \n",
      "dtypes: float64(1), int64(10)\n",
      "memory usage: 10.1 MB\n"
     ]
    }
   ],
   "source": [
    "df.info()"
   ]
  },
  {
   "cell_type": "code",
   "execution_count": 109,
   "id": "73c72539",
   "metadata": {},
   "outputs": [],
   "source": [
    "# df['Age'] = df['Age'].cat.codes\n",
    "# df['ScheduleToAppointment'] = df['ScheduleToAppointment'].cat.codes"
   ]
  },
  {
   "cell_type": "markdown",
   "id": "678b0fbc",
   "metadata": {},
   "source": [
    "# Primeiro Modelo"
   ]
  },
  {
   "cell_type": "code",
   "execution_count": 18,
   "id": "be6ef223",
   "metadata": {},
   "outputs": [],
   "source": [
    "df_model = df.copy()"
   ]
  },
  {
   "cell_type": "code",
   "execution_count": 19,
   "id": "41715c03",
   "metadata": {},
   "outputs": [],
   "source": [
    "target = df_model.pop('No-show')"
   ]
  },
  {
   "cell_type": "code",
   "execution_count": 20,
   "id": "b2925088",
   "metadata": {},
   "outputs": [],
   "source": [
    "dataset = tf.data.Dataset.from_tensor_slices((df_model.values, target.values))"
   ]
  },
  {
   "cell_type": "code",
   "execution_count": 21,
   "id": "cec4d2fb",
   "metadata": {},
   "outputs": [],
   "source": [
    "train_dataset = dataset.shuffle(len(df_model)).batch(32)"
   ]
  },
  {
   "cell_type": "markdown",
   "id": "bd34740b",
   "metadata": {},
   "source": [
    "Começaremos com um modelo bem simples. Composto apenas por três camadas."
   ]
  },
  {
   "cell_type": "code",
   "execution_count": 22,
   "id": "c7547882",
   "metadata": {},
   "outputs": [],
   "source": [
    "model1 = tf.keras.Sequential([\n",
    "    tf.keras.layers.Dense(11, activation='relu'),\n",
    "    tf.keras.layers.Dense(11, activation='relu'),\n",
    "    tf.keras.layers.Dense(1)\n",
    "  ])"
   ]
  },
  {
   "cell_type": "code",
   "execution_count": 23,
   "id": "aea8a55b",
   "metadata": {},
   "outputs": [],
   "source": [
    "model1.compile(optimizer='adam',\n",
    "                loss=tf.keras.losses.BinaryCrossentropy(from_logits=True),\n",
    "                metrics=['accuracy'])"
   ]
  },
  {
   "cell_type": "code",
   "execution_count": 24,
   "id": "61e5ac15",
   "metadata": {},
   "outputs": [
    {
     "name": "stdout",
     "output_type": "stream",
     "text": [
      "Epoch 1/5\n",
      "3454/3454 [==============================] - 28s 7ms/step - loss: 0.4835 - accuracy: 0.7977\n",
      "Epoch 2/5\n",
      "3454/3454 [==============================] - 24s 7ms/step - loss: 0.4682 - accuracy: 0.7981\n",
      "Epoch 3/5\n",
      "3454/3454 [==============================] - 22s 6ms/step - loss: 0.4675 - accuracy: 0.7981\n",
      "Epoch 4/5\n",
      "3454/3454 [==============================] - 68s 20ms/step - loss: 0.4668 - accuracy: 0.7981\n",
      "Epoch 5/5\n",
      "3454/3454 [==============================] - 27s 8ms/step - loss: 0.4665 - accuracy: 0.7981\n"
     ]
    }
   ],
   "source": [
    "model1_performance = model1.fit(train_dataset, epochs=5)"
   ]
  },
  {
   "cell_type": "markdown",
   "id": "86b272e8",
   "metadata": {},
   "source": [
    "Como podemos notar, ao utilizar o dataset como ele foi fornecido, chegamos numa acurácia de 79.81%. \n",
    "\n",
    "Coincidentemente (veremos que não é coincidência), esse é o valor do balanço das nossas classes, como podemos ver:"
   ]
  },
  {
   "cell_type": "code",
   "execution_count": 25,
   "id": "2b5a84d9",
   "metadata": {},
   "outputs": [
    {
     "data": {
      "text/plain": [
       "0.2018982817745044"
      ]
     },
     "execution_count": 25,
     "metadata": {},
     "output_type": "execute_result"
    }
   ],
   "source": [
    "df[df['No-show'] == True].shape[0]/df.shape[0]"
   ]
  },
  {
   "cell_type": "code",
   "execution_count": 26,
   "id": "358b1e05",
   "metadata": {},
   "outputs": [
    {
     "data": {
      "text/plain": [
       "0.7981017182254956"
      ]
     },
     "execution_count": 26,
     "metadata": {},
     "output_type": "execute_result"
    }
   ],
   "source": [
    "df[df['No-show'] == False].shape[0]/df.shape[0]"
   ]
  },
  {
   "cell_type": "markdown",
   "id": "d368570a",
   "metadata": {},
   "source": [
    "Ou seja, podemos imaginar que nosso modelo está prevendo \"Presença\" para todas predições, mas só acerta 79.81% das vezes.\n",
    "Podemos conferir isso com uma matriz de confusão."
   ]
  },
  {
   "cell_type": "code",
   "execution_count": 27,
   "id": "c17dc4b2",
   "metadata": {},
   "outputs": [],
   "source": [
    "y_pred_model1 = model1.predict(df_model)"
   ]
  },
  {
   "cell_type": "code",
   "execution_count": 28,
   "id": "6d329b30",
   "metadata": {},
   "outputs": [
    {
     "data": {
      "text/plain": [
       "<tf.Tensor: shape=(2, 2), dtype=int32, numpy=\n",
       "array([[88207,     0],\n",
       "       [22314,     0]])>"
      ]
     },
     "execution_count": 28,
     "metadata": {},
     "output_type": "execute_result"
    }
   ],
   "source": [
    "tf.math.confusion_matrix(labels=target, predictions=y_pred_model1.ravel()>0.5)"
   ]
  },
  {
   "attachments": {
    "confusion_matrix.png": {
     "image/png": "[encoded data removed]"
    }
   },
   "cell_type": "markdown",
   "id": "325eed82",
   "metadata": {},
   "source": [
    "![Matriz de Confusao](attachment:confusion_matrix.png)"
   ]
  },
  {
   "cell_type": "markdown",
   "id": "1c1b5a4b",
   "metadata": {},
   "source": [
    "Comparando com a imagem acima (fonte), podemos notar que temos:\n",
    "    88207 casos de positivos verdadeiros.\n",
    "    22314 casos de falsos negativos.\n",
    "    \n",
    "Que nos dá a acurácia de 79.81%.\n",
    "\n",
    "Indo além, podemos verificar pelo próprio resultado da predição, que retorna 110521 predições de \"Falso\":"
   ]
  },
  {
   "cell_type": "code",
   "execution_count": 29,
   "id": "07836a56",
   "metadata": {},
   "outputs": [
    {
     "data": {
      "text/plain": [
       "array([False, False, False, ..., False, False, False])"
      ]
     },
     "execution_count": 29,
     "metadata": {},
     "output_type": "execute_result"
    }
   ],
   "source": [
    "y_pred_model1.ravel()>0.5"
   ]
  },
  {
   "cell_type": "code",
   "execution_count": 30,
   "id": "b8561063",
   "metadata": {},
   "outputs": [
    {
     "data": {
      "text/plain": [
       "(array([False]), array([110521], dtype=int64))"
      ]
     },
     "execution_count": 30,
     "metadata": {},
     "output_type": "execute_result"
    }
   ],
   "source": [
    "np.unique(y_pred_model1.ravel()>0.5, return_counts=True)"
   ]
  },
  {
   "cell_type": "markdown",
   "id": "197ad067",
   "metadata": {},
   "source": [
    "# Segundo Modelo"
   ]
  },
  {
   "cell_type": "markdown",
   "id": "ce6c15e1",
   "metadata": {},
   "source": [
    "O que notamos que aconteceu no primeiro modelo é o chamado \"paradoxo da acurácia\", onde descobrimos que a acurácia não é um método \"certeiro\" de medir a previsibilidade do nosso modelo. Devemos alterar dois itens no nosso primeiro modelo:\n",
    "- Consertar o desbalanço das classes\n",
    "- Alterar a métrica de cálculo da previsibilidade do modelo"
   ]
  },
  {
   "cell_type": "markdown",
   "id": "778d0f21",
   "metadata": {},
   "source": [
    "Para o primeiro item acima, temos várias opções: undersampling, oversampling, etc. Neste segundo modelo, vamos alterar as métricas para ver o impacto que a métrica errada tinha sobre o modelo, assim como realizar um oversampling da classe minoritária."
   ]
  },
  {
   "cell_type": "markdown",
   "id": "9516f853",
   "metadata": {},
   "source": [
    "Temos inúmeras opções de métricas diferentes, citamos algumas, com suas nomenclaturas em inglês (para evitar traduções errôneas):\n",
    "- Precision = TP/(TP+FP)\n",
    "- Recall = TP/(TP+FN)\n",
    "- F1 Score = 2 * Recall * Precision / (Recall + Precision)\n",
    "- Area Under ROC Curve\n",
    "- G-Measure = sqrt(Precision * Recall)\n",
    "- Jaccard Index = TP/(TP+FP+FN)\n",
    "\n",
    "\n",
    "onde \n",
    "\n",
    "TP = True Positive\n",
    "\n",
    "FP = False Positive\n",
    "\n",
    "FN = False Negative"
   ]
  },
  {
   "cell_type": "code",
   "execution_count": 40,
   "id": "1ff64bef",
   "metadata": {},
   "outputs": [
    {
     "name": "stdout",
     "output_type": "stream",
     "text": [
      "88207 22314\n"
     ]
    }
   ],
   "source": [
    "count_class_0, count_class_1 = df['No-show'].value_counts()\n",
    "print(count_class_0, count_class_1)"
   ]
  },
  {
   "cell_type": "code",
   "execution_count": 41,
   "id": "b3e1b634",
   "metadata": {},
   "outputs": [],
   "source": [
    "df_class_0 = df[df['No-show'] == 0]\n",
    "df_class_1 = df[df['No-show'] == 1]"
   ]
  },
  {
   "cell_type": "markdown",
   "id": "16384dc5",
   "metadata": {},
   "source": [
    "Undersampling"
   ]
  },
  {
   "cell_type": "code",
   "execution_count": 38,
   "id": "83148378",
   "metadata": {},
   "outputs": [
    {
     "data": {
      "text/plain": [
       "1    22314\n",
       "0    22314\n",
       "Name: No-show, dtype: int64"
      ]
     },
     "execution_count": 38,
     "metadata": {},
     "output_type": "execute_result"
    }
   ],
   "source": [
    "df_class_0_resampled = df_class_0.sample(count_class_1)\n",
    "df_undersampled = pd.concat([df_class_1, df_class_0_resampled])\n",
    "df_undersampled['No-show'].value_counts()"
   ]
  },
  {
   "cell_type": "markdown",
   "id": "fdc3d23f",
   "metadata": {},
   "source": [
    "Oversampling"
   ]
  },
  {
   "cell_type": "code",
   "execution_count": 42,
   "id": "653cae71",
   "metadata": {},
   "outputs": [
    {
     "data": {
      "text/plain": [
       "0    88207\n",
       "1    88207\n",
       "Name: No-show, dtype: int64"
      ]
     },
     "execution_count": 42,
     "metadata": {},
     "output_type": "execute_result"
    }
   ],
   "source": [
    "df_class_1_resampled = df_class_1.sample(count_class_0, replace=True)\n",
    "df_oversampled = pd.concat([df_class_0, df_class_1_resampled])\n",
    "df_oversampled['No-show'].value_counts()"
   ]
  },
  {
   "cell_type": "code",
   "execution_count": 34,
   "id": "98381d53",
   "metadata": {},
   "outputs": [
    {
     "name": "stdout",
     "output_type": "stream",
     "text": [
      "Epoch 1/10\n",
      "1395/1395 [==============================] - 11s 7ms/step - loss: 0.6661 - auc: 0.6427\n",
      "Epoch 2/10\n",
      "1395/1395 [==============================] - 9s 7ms/step - loss: 0.6555 - auc: 0.6594\n",
      "Epoch 3/10\n",
      "1395/1395 [==============================] - 9s 7ms/step - loss: 0.6510 - auc: 0.6652\n",
      "Epoch 4/10\n",
      "1395/1395 [==============================] - 10s 7ms/step - loss: 0.6480 - auc: 0.6690\n",
      "Epoch 5/10\n",
      "1395/1395 [==============================] - 10s 7ms/step - loss: 0.6462 - auc: 0.6721\n",
      "Epoch 6/10\n",
      "1395/1395 [==============================] - 9s 7ms/step - loss: 0.6446 - auc: 0.6738\n",
      "Epoch 7/10\n",
      "1395/1395 [==============================] - 9s 7ms/step - loss: 0.6431 - auc: 0.6764\n",
      "Epoch 8/10\n",
      "1395/1395 [==============================] - 9s 7ms/step - loss: 0.6423 - auc: 0.6770\n",
      "Epoch 9/10\n",
      "1395/1395 [==============================] - 9s 7ms/step - loss: 0.6417 - auc: 0.6774\n",
      "Epoch 10/10\n",
      "1395/1395 [==============================] - 9s 7ms/step - loss: 0.6412 - auc: 0.6787\n"
     ]
    }
   ],
   "source": [
    "df_model = df_undersampled.copy()\n",
    "\n",
    "target = df_model.pop('No-show')\n",
    "\n",
    "dataset = tf.data.Dataset.from_tensor_slices((df_model.values, target.values))\n",
    "\n",
    "train_dataset = dataset.shuffle(len(df_model)).batch(32)\n",
    "\n",
    "model2 = tf.keras.Sequential([\n",
    "    tf.keras.layers.Dense(11, activation='relu'),\n",
    "    tf.keras.layers.Dense(11, activation='relu'),\n",
    "    tf.keras.layers.Dense(1, activation='sigmoid')\n",
    "  ])\n",
    "j\n",
    "model2.compile(optimizer='sgd',\n",
    "                loss=tf.keras.losses.BinaryCrossentropy(from_logits=False),\n",
    "                metrics=[tf.keras.metrics.AUC()])\n",
    "\n",
    "model2_performance = model2.fit(train_dataset, epochs=10)"
   ]
  },
  {
   "cell_type": "code",
   "execution_count": 80,
   "id": "9c3809bc",
   "metadata": {},
   "outputs": [],
   "source": [
    "\n",
    "reduce_lr = tf.keras.callbacks.ReduceLROnPlateau(monitor='loss', # qual metrica sera monitorada\n",
    "                              factor=0.2, # fator de multiplicacao (no caso reducao) do learning rate\n",
    "                              patience=2, # quantas epocas esperamos o \"plateau\"\n",
    "                              min_lr=0.0001 # menor learning rate possivel\n",
    "                                )"
   ]
  },
  {
   "cell_type": "code",
   "execution_count": 81,
   "id": "dcb14b79",
   "metadata": {},
   "outputs": [
    {
     "name": "stdout",
     "output_type": "stream",
     "text": [
      "Epoch 1/180\n",
      "5513/5513 [==============================] - 58s 10ms/step - loss: 0.6832 - recall_12: 0.4905 - auc_12: 0.5848 - precision_10: 0.5686\n",
      "Epoch 2/180\n",
      "5513/5513 [==============================] - 61s 11ms/step - loss: 0.6695 - recall_12: 0.5083 - auc_12: 0.6279 - precision_10: 0.6265\n",
      "Epoch 3/180\n",
      "5513/5513 [==============================] - 55s 10ms/step - loss: 0.6640 - recall_12: 0.5190 - auc_12: 0.6377 - precision_10: 0.6381\n",
      "Epoch 4/180\n",
      "5513/5513 [==============================] - 56s 10ms/step - loss: 0.6603 - recall_12: 0.5322 - auc_12: 0.6442 - precision_10: 0.6418\n",
      "Epoch 5/180\n",
      "5513/5513 [==============================] - 79s 14ms/step - loss: 0.6585 - recall_12: 0.5511 - auc_12: 0.6467 - precision_10: 0.6422\n",
      "Epoch 6/180\n",
      "5513/5513 [==============================] - 66s 12ms/step - loss: 0.6561 - recall_12: 0.5866 - auc_12: 0.6512 - precision_10: 0.6397\n",
      "Epoch 7/180\n",
      "5513/5513 [==============================] - 65s 12ms/step - loss: 0.6552 - recall_12: 0.5930 - auc_12: 0.6524 - precision_10: 0.6380\n",
      "Epoch 8/180\n",
      "5513/5513 [==============================] - 64s 12ms/step - loss: 0.6539 - recall_12: 0.5938 - auc_12: 0.6557 - precision_10: 0.6396\n",
      "Epoch 9/180\n",
      "5513/5513 [==============================] - 62s 11ms/step - loss: 0.6537 - recall_12: 0.5908 - auc_12: 0.6554 - precision_10: 0.6409\n",
      "Epoch 10/180\n",
      "5513/5513 [==============================] - 67s 12ms/step - loss: 0.6540 - recall_12: 0.5953 - auc_12: 0.6546 - precision_10: 0.6383 4s - loss: 0.6541 - recall - ETA: 1s - loss: 0.6540 - recal\n",
      "Epoch 11/180\n",
      "5513/5513 [==============================] - 78s 14ms/step - loss: 0.6530 - recall_12: 0.5939 - auc_12: 0.6568 - precision_10: 0.6406\n",
      "Epoch 12/180\n",
      "5513/5513 [==============================] - 76s 14ms/step - loss: 0.6534 - recall_12: 0.5962 - auc_12: 0.6557 - precision_10: 0.6393\n",
      "Epoch 13/180\n",
      "5513/5513 [==============================] - 84s 15ms/step - loss: 0.6530 - recall_12: 0.6013 - auc_12: 0.6569 - precision_10: 0.6383\n",
      "Epoch 14/180\n",
      "5513/5513 [==============================] - 69s 13ms/step - loss: 0.6525 - recall_12: 0.5950 - auc_12: 0.6581 - precision_10: 0.6404\n",
      "Epoch 15/180\n",
      "5513/5513 [==============================] - 72s 13ms/step - loss: 0.6515 - recall_12: 0.5998 - auc_12: 0.6589 - precision_10: 0.6404\n",
      "Epoch 16/180\n",
      "5513/5513 [==============================] - 74s 13ms/step - loss: 0.6519 - recall_12: 0.5993 - auc_12: 0.6587 - precision_10: 0.6404\n",
      "Epoch 17/180\n",
      "5513/5513 [==============================] - 64s 12ms/step - loss: 0.6524 - recall_12: 0.6035 - auc_12: 0.6580 - precision_10: 0.6372\n",
      "Epoch 18/180\n",
      "5513/5513 [==============================] - 63s 11ms/step - loss: 0.6517 - recall_12: 0.5984 - auc_12: 0.6593 - precision_10: 0.6408\n",
      "Epoch 19/180\n",
      "5513/5513 [==============================] - 66s 12ms/step - loss: 0.6520 - recall_12: 0.6021 - auc_12: 0.6582 - precision_10: 0.6396\n",
      "Epoch 20/180\n",
      "5513/5513 [==============================] - 82s 15ms/step - loss: 0.6516 - recall_12: 0.6000 - auc_12: 0.6591 - precision_10: 0.6397\n",
      "Epoch 21/180\n",
      "5513/5513 [==============================] - 81s 15ms/step - loss: 0.6519 - recall_12: 0.6017 - auc_12: 0.6584 - precision_10: 0.6404\n",
      "Epoch 22/180\n",
      "5513/5513 [==============================] - 83s 15ms/step - loss: 0.6519 - recall_12: 0.6004 - auc_12: 0.6586 - precision_10: 0.6401\n",
      "Epoch 23/180\n",
      "5513/5513 [==============================] - 83s 15ms/step - loss: 0.6512 - recall_12: 0.6018 - auc_12: 0.6600 - precision_10: 0.6413\n",
      "Epoch 24/180\n",
      "5513/5513 [==============================] - 81s 15ms/step - loss: 0.6514 - recall_12: 0.6030 - auc_12: 0.6597 - precision_10: 0.6407\n",
      "Epoch 25/180\n",
      "5513/5513 [==============================] - 82s 15ms/step - loss: 0.6512 - recall_12: 0.6025 - auc_12: 0.6598 - precision_10: 0.6408\n",
      "Epoch 26/180\n",
      "5513/5513 [==============================] - 81s 15ms/step - loss: 0.6519 - recall_12: 0.6017 - auc_12: 0.6591 - precision_10: 0.6392\n",
      "Epoch 27/180\n",
      "5513/5513 [==============================] - 84s 15ms/step - loss: 0.6515 - recall_12: 0.6040 - auc_12: 0.6598 - precision_10: 0.6404\n",
      "Epoch 28/180\n",
      "5513/5513 [==============================] - 77s 14ms/step - loss: 0.6522 - recall_12: 0.6003 - auc_12: 0.6581 - precision_10: 0.6391\n",
      "Epoch 29/180\n",
      "5513/5513 [==============================] - 78s 14ms/step - loss: 0.6518 - recall_12: 0.6019 - auc_12: 0.6590 - precision_10: 0.6395\n",
      "Epoch 30/180\n",
      "5513/5513 [==============================] - 76s 14ms/step - loss: 0.6519 - recall_12: 0.6018 - auc_12: 0.6584 - precision_10: 0.6399\n",
      "Epoch 31/180\n",
      "5513/5513 [==============================] - 79s 14ms/step - loss: 0.6520 - recall_12: 0.5996 - auc_12: 0.6584 - precision_10: 0.6396 3s \n",
      "Epoch 32/180\n",
      "5513/5513 [==============================] - 88s 16ms/step - loss: 0.6519 - recall_12: 0.5988 - auc_12: 0.6591 - precision_10: 0.6401\n",
      "Epoch 33/180\n",
      "5513/5513 [==============================] - 76s 14ms/step - loss: 0.6522 - recall_12: 0.6011 - auc_12: 0.6582 - precision_10: 0.6387\n",
      "Epoch 34/180\n",
      "5513/5513 [==============================] - 77s 14ms/step - loss: 0.6516 - recall_12: 0.6007 - auc_12: 0.6590 - precision_10: 0.6400\n",
      "Epoch 35/180\n",
      "5513/5513 [==============================] - 78s 14ms/step - loss: 0.6518 - recall_12: 0.6008 - auc_12: 0.6589 - precision_10: 0.6392\n",
      "Epoch 36/180\n",
      "5513/5513 [==============================] - 75s 14ms/step - loss: 0.6523 - recall_12: 0.6003 - auc_12: 0.6579 - precision_10: 0.6390\n",
      "Epoch 37/180\n",
      "5513/5513 [==============================] - 72s 13ms/step - loss: 0.6514 - recall_12: 0.6053 - auc_12: 0.6598 - precision_10: 0.6406\n",
      "Epoch 38/180\n",
      "5513/5513 [==============================] - 73s 13ms/step - loss: 0.6522 - recall_12: 0.6017 - auc_12: 0.6585 - precision_10: 0.6385\n",
      "Epoch 39/180\n",
      "5513/5513 [==============================] - 64s 11ms/step - loss: 0.6518 - recall_12: 0.6014 - auc_12: 0.6591 - precision_10: 0.6392\n",
      "Epoch 40/180\n",
      "5513/5513 [==============================] - 59s 11ms/step - loss: 0.6521 - recall_12: 0.6016 - auc_12: 0.6586 - precision_10: 0.6404\n",
      "Epoch 41/180\n",
      "5513/5513 [==============================] - 59s 11ms/step - loss: 0.6518 - recall_12: 0.6005 - auc_12: 0.6589 - precision_10: 0.6398\n",
      "Epoch 42/180\n",
      "5513/5513 [==============================] - 59s 11ms/step - loss: 0.6519 - recall_12: 0.6011 - auc_12: 0.6587 - precision_10: 0.6401\n",
      "Epoch 43/180\n",
      "5513/5513 [==============================] - 60s 11ms/step - loss: 0.6521 - recall_12: 0.6031 - auc_12: 0.6584 - precision_10: 0.6392\n",
      "Epoch 44/180\n",
      "5513/5513 [==============================] - 59s 11ms/step - loss: 0.6521 - recall_12: 0.6045 - auc_12: 0.6585 - precision_10: 0.6392\n",
      "Epoch 45/180\n",
      "5513/5513 [==============================] - 59s 11ms/step - loss: 0.6511 - recall_12: 0.6011 - auc_12: 0.6605 - precision_10: 0.6401\n",
      "Epoch 46/180\n",
      "5513/5513 [==============================] - 60s 11ms/step - loss: 0.6523 - recall_12: 0.6017 - auc_12: 0.6580 - precision_10: 0.6386\n",
      "Epoch 47/180\n",
      "5513/5513 [==============================] - 60s 11ms/step - loss: 0.6519 - recall_12: 0.6031 - auc_12: 0.6589 - precision_10: 0.6401\n",
      "Epoch 48/180\n",
      "5513/5513 [==============================] - 59s 11ms/step - loss: 0.6516 - recall_12: 0.6030 - auc_12: 0.6591 - precision_10: 0.6396\n",
      "Epoch 49/180\n",
      "5513/5513 [==============================] - 60s 11ms/step - loss: 0.6513 - recall_12: 0.6056 - auc_12: 0.6601 - precision_10: 0.6405\n",
      "Epoch 50/180\n",
      "5513/5513 [==============================] - 59s 11ms/step - loss: 0.6519 - recall_12: 0.6025 - auc_12: 0.6589 - precision_10: 0.6394\n",
      "Epoch 51/180\n",
      "5513/5513 [==============================] - 59s 11ms/step - loss: 0.6515 - recall_12: 0.6022 - auc_12: 0.6592 - precision_10: 0.6399\n",
      "Epoch 52/180\n",
      "5513/5513 [==============================] - 59s 11ms/step - loss: 0.6522 - recall_12: 0.6015 - auc_12: 0.6580 - precision_10: 0.6395\n",
      "Epoch 53/180\n",
      "5513/5513 [==============================] - 59s 11ms/step - loss: 0.6523 - recall_12: 0.5996 - auc_12: 0.6583 - precision_10: 0.6387\n",
      "Epoch 54/180\n",
      "5513/5513 [==============================] - 59s 11ms/step - loss: 0.6517 - recall_12: 0.6036 - auc_12: 0.6591 - precision_10: 0.6399\n",
      "Epoch 55/180\n",
      "5513/5513 [==============================] - 59s 11ms/step - loss: 0.6522 - recall_12: 0.6006 - auc_12: 0.6584 - precision_10: 0.6387\n",
      "Epoch 56/180\n",
      "5513/5513 [==============================] - 60s 11ms/step - loss: 0.6518 - recall_12: 0.6003 - auc_12: 0.6590 - precision_10: 0.6398\n",
      "Epoch 57/180\n",
      "5513/5513 [==============================] - 59s 11ms/step - loss: 0.6516 - recall_12: 0.6010 - auc_12: 0.6596 - precision_10: 0.6404\n",
      "Epoch 58/180\n",
      "5513/5513 [==============================] - 59s 11ms/step - loss: 0.6515 - recall_12: 0.6021 - auc_12: 0.6593 - precision_10: 0.6394\n",
      "Epoch 59/180\n",
      "5513/5513 [==============================] - 59s 11ms/step - loss: 0.6522 - recall_12: 0.6024 - auc_12: 0.6582 - precision_10: 0.6386\n",
      "Epoch 60/180\n",
      "5513/5513 [==============================] - 59s 11ms/step - loss: 0.6518 - recall_12: 0.6033 - auc_12: 0.6588 - precision_10: 0.6395\n",
      "Epoch 61/180\n",
      "5513/5513 [==============================] - 59s 11ms/step - loss: 0.6516 - recall_12: 0.6020 - auc_12: 0.6594 - precision_10: 0.6404\n",
      "Epoch 62/180\n",
      "5513/5513 [==============================] - 59s 11ms/step - loss: 0.6521 - recall_12: 0.6014 - auc_12: 0.6586 - precision_10: 0.6390\n",
      "Epoch 63/180\n",
      "5513/5513 [==============================] - 61s 11ms/step - loss: 0.6515 - recall_12: 0.6044 - auc_12: 0.6595 - precision_10: 0.6403\n",
      "Epoch 64/180\n",
      "5513/5513 [==============================] - 61s 11ms/step - loss: 0.6518 - recall_12: 0.6015 - auc_12: 0.6591 - precision_10: 0.6392\n",
      "Epoch 65/180\n",
      "5513/5513 [==============================] - 59s 11ms/step - loss: 0.6521 - recall_12: 0.6009 - auc_12: 0.6586 - precision_10: 0.6395\n",
      "Epoch 66/180\n",
      "5513/5513 [==============================] - 60s 11ms/step - loss: 0.6518 - recall_12: 0.6030 - auc_12: 0.6590 - precision_10: 0.6388\n",
      "Epoch 67/180\n",
      "5513/5513 [==============================] - 59s 11ms/step - loss: 0.6515 - recall_12: 0.6010 - auc_12: 0.6592 - precision_10: 0.6413\n",
      "Epoch 68/180\n",
      "5513/5513 [==============================] - 59s 11ms/step - loss: 0.6518 - recall_12: 0.6010 - auc_12: 0.6589 - precision_10: 0.6391\n",
      "Epoch 69/180\n",
      "5513/5513 [==============================] - 59s 11ms/step - loss: 0.6517 - recall_12: 0.5999 - auc_12: 0.6592 - precision_10: 0.6399\n",
      "Epoch 70/180\n",
      "5513/5513 [==============================] - 59s 11ms/step - loss: 0.6515 - recall_12: 0.6020 - auc_12: 0.6597 - precision_10: 0.6411\n",
      "Epoch 71/180\n",
      "5513/5513 [==============================] - 59s 11ms/step - loss: 0.6517 - recall_12: 0.6016 - auc_12: 0.6591 - precision_10: 0.6401\n",
      "Epoch 72/180\n",
      "5513/5513 [==============================] - 59s 11ms/step - loss: 0.6518 - recall_12: 0.6007 - auc_12: 0.6591 - precision_10: 0.6402\n",
      "Epoch 73/180\n",
      "5513/5513 [==============================] - 59s 11ms/step - loss: 0.6520 - recall_12: 0.6008 - auc_12: 0.6581 - precision_10: 0.6400\n",
      "Epoch 74/180\n",
      "5513/5513 [==============================] - 59s 11ms/step - loss: 0.6519 - recall_12: 0.6007 - auc_12: 0.6591 - precision_10: 0.6393\n",
      "Epoch 75/180\n",
      "5513/5513 [==============================] - 59s 11ms/step - loss: 0.6512 - recall_12: 0.6030 - auc_12: 0.6597 - precision_10: 0.6408\n",
      "Epoch 76/180\n",
      "5513/5513 [==============================] - 60s 11ms/step - loss: 0.6521 - recall_12: 0.6014 - auc_12: 0.6584 - precision_10: 0.6395\n",
      "Epoch 77/180\n",
      "5513/5513 [==============================] - 59s 11ms/step - loss: 0.6522 - recall_12: 0.6014 - auc_12: 0.6586 - precision_10: 0.6395\n",
      "Epoch 78/180\n",
      "5513/5513 [==============================] - 59s 11ms/step - loss: 0.6514 - recall_12: 0.6029 - auc_12: 0.6597 - precision_10: 0.6402\n",
      "Epoch 79/180\n",
      "5513/5513 [==============================] - 59s 11ms/step - loss: 0.6517 - recall_12: 0.6019 - auc_12: 0.6591 - precision_10: 0.6400\n",
      "Epoch 80/180\n",
      "5513/5513 [==============================] - 59s 11ms/step - loss: 0.6518 - recall_12: 0.6018 - auc_12: 0.6593 - precision_10: 0.6393\n",
      "Epoch 81/180\n",
      "5513/5513 [==============================] - 59s 11ms/step - loss: 0.6520 - recall_12: 0.6002 - auc_12: 0.6592 - precision_10: 0.6393\n",
      "Epoch 82/180\n",
      "5513/5513 [==============================] - 59s 11ms/step - loss: 0.6513 - recall_12: 0.5999 - auc_12: 0.6600 - precision_10: 0.6401\n",
      "Epoch 83/180\n",
      "5513/5513 [==============================] - 59s 11ms/step - loss: 0.6518 - recall_12: 0.6002 - auc_12: 0.6590 - precision_10: 0.6393\n",
      "Epoch 84/180\n",
      "5513/5513 [==============================] - 59s 11ms/step - loss: 0.6514 - recall_12: 0.6030 - auc_12: 0.6599 - precision_10: 0.6401\n",
      "Epoch 85/180\n",
      "5513/5513 [==============================] - 59s 11ms/step - loss: 0.6521 - recall_12: 0.6008 - auc_12: 0.6585 - precision_10: 0.6391\n",
      "Epoch 86/180\n",
      "5513/5513 [==============================] - 60s 11ms/step - loss: 0.6517 - recall_12: 0.6010 - auc_12: 0.6592 - precision_10: 0.6407\n",
      "Epoch 87/180\n",
      "5513/5513 [==============================] - 59s 11ms/step - loss: 0.6514 - recall_12: 0.6018 - auc_12: 0.6599 - precision_10: 0.6400\n",
      "Epoch 88/180\n",
      "5513/5513 [==============================] - 59s 11ms/step - loss: 0.6519 - recall_12: 0.6008 - auc_12: 0.6584 - precision_10: 0.6399\n",
      "Epoch 89/180\n",
      "5513/5513 [==============================] - 59s 11ms/step - loss: 0.6516 - recall_12: 0.5996 - auc_12: 0.6593 - precision_10: 0.6393\n",
      "Epoch 90/180\n",
      "5513/5513 [==============================] - 59s 11ms/step - loss: 0.6525 - recall_12: 0.5997 - auc_12: 0.6574 - precision_10: 0.6386\n",
      "Epoch 91/180\n",
      "5513/5513 [==============================] - 59s 11ms/step - loss: 0.6519 - recall_12: 0.6009 - auc_12: 0.6591 - precision_10: 0.6398\n",
      "Epoch 92/180\n",
      "5513/5513 [==============================] - 59s 11ms/step - loss: 0.6520 - recall_12: 0.5994 - auc_12: 0.6587 - precision_10: 0.6395\n",
      "Epoch 93/180\n",
      "5513/5513 [==============================] - 59s 11ms/step - loss: 0.6514 - recall_12: 0.6029 - auc_12: 0.6597 - precision_10: 0.6407\n",
      "Epoch 94/180\n",
      "5513/5513 [==============================] - 59s 11ms/step - loss: 0.6522 - recall_12: 0.5999 - auc_12: 0.6584 - precision_10: 0.6390\n",
      "Epoch 95/180\n",
      "5513/5513 [==============================] - 59s 11ms/step - loss: 0.6516 - recall_12: 0.5997 - auc_12: 0.6591 - precision_10: 0.6410\n",
      "Epoch 96/180\n",
      "5513/5513 [==============================] - 60s 11ms/step - loss: 0.6518 - recall_12: 0.6005 - auc_12: 0.6589 - precision_10: 0.6408\n",
      "Epoch 97/180\n",
      "5513/5513 [==============================] - 59s 11ms/step - loss: 0.6520 - recall_12: 0.6018 - auc_12: 0.6590 - precision_10: 0.6402\n",
      "Epoch 98/180\n",
      "5513/5513 [==============================] - 59s 11ms/step - loss: 0.6513 - recall_12: 0.6021 - auc_12: 0.6594 - precision_10: 0.6413\n",
      "Epoch 99/180\n",
      "5513/5513 [==============================] - 59s 11ms/step - loss: 0.6516 - recall_12: 0.6013 - auc_12: 0.6597 - precision_10: 0.6410\n",
      "Epoch 100/180\n",
      "5513/5513 [==============================] - 59s 11ms/step - loss: 0.6519 - recall_12: 0.6013 - auc_12: 0.6587 - precision_10: 0.6394\n",
      "Epoch 101/180\n",
      "5513/5513 [==============================] - 59s 11ms/step - loss: 0.6509 - recall_12: 0.6044 - auc_12: 0.6608 - precision_10: 0.6414\n",
      "Epoch 102/180\n",
      "5513/5513 [==============================] - 59s 11ms/step - loss: 0.6514 - recall_12: 0.6012 - auc_12: 0.6596 - precision_10: 0.6404\n",
      "Epoch 103/180\n",
      "5513/5513 [==============================] - 59s 11ms/step - loss: 0.6514 - recall_12: 0.6027 - auc_12: 0.6600 - precision_10: 0.6404\n",
      "Epoch 104/180\n",
      "5513/5513 [==============================] - 59s 11ms/step - loss: 0.6518 - recall_12: 0.6017 - auc_12: 0.6592 - precision_10: 0.6395\n",
      "Epoch 105/180\n",
      "5513/5513 [==============================] - 59s 11ms/step - loss: 0.6517 - recall_12: 0.6019 - auc_12: 0.6596 - precision_10: 0.6403\n",
      "Epoch 106/180\n",
      "5513/5513 [==============================] - 59s 11ms/step - loss: 0.6520 - recall_12: 0.6010 - auc_12: 0.6583 - precision_10: 0.6394\n",
      "Epoch 107/180\n",
      "5513/5513 [==============================] - 59s 11ms/step - loss: 0.6518 - recall_12: 0.6015 - auc_12: 0.6589 - precision_10: 0.6394\n",
      "Epoch 108/180\n",
      "5513/5513 [==============================] - 59s 11ms/step - loss: 0.6514 - recall_12: 0.6026 - auc_12: 0.6596 - precision_10: 0.6405\n",
      "Epoch 109/180\n",
      "5513/5513 [==============================] - 59s 11ms/step - loss: 0.6519 - recall_12: 0.6018 - auc_12: 0.6590 - precision_10: 0.6400\n",
      "Epoch 110/180\n",
      "5513/5513 [==============================] - 60s 11ms/step - loss: 0.6515 - recall_12: 0.6020 - auc_12: 0.6592 - precision_10: 0.6397\n",
      "Epoch 111/180\n"
     ]
    },
    {
     "name": "stdout",
     "output_type": "stream",
     "text": [
      "5513/5513 [==============================] - 59s 11ms/step - loss: 0.6515 - recall_12: 0.6008 - auc_12: 0.6601 - precision_10: 0.6400\n",
      "Epoch 112/180\n",
      "5513/5513 [==============================] - 59s 11ms/step - loss: 0.6513 - recall_12: 0.6004 - auc_12: 0.6602 - precision_10: 0.6400\n",
      "Epoch 113/180\n",
      "5513/5513 [==============================] - 59s 11ms/step - loss: 0.6517 - recall_12: 0.6008 - auc_12: 0.6593 - precision_10: 0.6399\n",
      "Epoch 114/180\n",
      "5513/5513 [==============================] - 59s 11ms/step - loss: 0.6522 - recall_12: 0.5989 - auc_12: 0.6583 - precision_10: 0.6387\n",
      "Epoch 115/180\n",
      "5513/5513 [==============================] - 59s 11ms/step - loss: 0.6516 - recall_12: 0.6004 - auc_12: 0.6593 - precision_10: 0.6402\n",
      "Epoch 116/180\n",
      "5513/5513 [==============================] - 59s 11ms/step - loss: 0.6515 - recall_12: 0.6026 - auc_12: 0.6593 - precision_10: 0.6412\n",
      "Epoch 117/180\n",
      "5513/5513 [==============================] - 60s 11ms/step - loss: 0.6517 - recall_12: 0.6000 - auc_12: 0.6593 - precision_10: 0.6397\n",
      "Epoch 118/180\n",
      "5513/5513 [==============================] - 59s 11ms/step - loss: 0.6523 - recall_12: 0.5987 - auc_12: 0.6580 - precision_10: 0.6399 0s - loss: 0.6524 - recall_12: 0.5986 - auc_12: 0.6579 - precision_\n",
      "Epoch 119/180\n",
      "5513/5513 [==============================] - 59s 11ms/step - loss: 0.6513 - recall_12: 0.6001 - auc_12: 0.6599 - precision_10: 0.6411\n",
      "Epoch 120/180\n",
      "5513/5513 [==============================] - 59s 11ms/step - loss: 0.6522 - recall_12: 0.5993 - auc_12: 0.6581 - precision_10: 0.6399\n",
      "Epoch 121/180\n",
      "5513/5513 [==============================] - 59s 11ms/step - loss: 0.6516 - recall_12: 0.6020 - auc_12: 0.6593 - precision_10: 0.6401\n",
      "Epoch 122/180\n",
      "5513/5513 [==============================] - 59s 11ms/step - loss: 0.6519 - recall_12: 0.5980 - auc_12: 0.6593 - precision_10: 0.6401\n",
      "Epoch 123/180\n",
      "5513/5513 [==============================] - 60s 11ms/step - loss: 0.6514 - recall_12: 0.6020 - auc_12: 0.6595 - precision_10: 0.6408\n",
      "Epoch 124/180\n",
      "5513/5513 [==============================] - 59s 11ms/step - loss: 0.6516 - recall_12: 0.6019 - auc_12: 0.6592 - precision_10: 0.6407\n",
      "Epoch 125/180\n",
      "5513/5513 [==============================] - 60s 11ms/step - loss: 0.6521 - recall_12: 0.5997 - auc_12: 0.6583 - precision_10: 0.6393\n",
      "Epoch 126/180\n",
      "5513/5513 [==============================] - 59s 11ms/step - loss: 0.6511 - recall_12: 0.6049 - auc_12: 0.6601 - precision_10: 0.6420\n",
      "Epoch 127/180\n",
      "5513/5513 [==============================] - 59s 11ms/step - loss: 0.6513 - recall_12: 0.6015 - auc_12: 0.6599 - precision_10: 0.6406\n",
      "Epoch 128/180\n",
      "5513/5513 [==============================] - 59s 11ms/step - loss: 0.6520 - recall_12: 0.6015 - auc_12: 0.6584 - precision_10: 0.6404\n",
      "Epoch 129/180\n",
      "5513/5513 [==============================] - 59s 11ms/step - loss: 0.6517 - recall_12: 0.5999 - auc_12: 0.6591 - precision_10: 0.6404\n",
      "Epoch 130/180\n",
      "5513/5513 [==============================] - 59s 11ms/step - loss: 0.6517 - recall_12: 0.6007 - auc_12: 0.6590 - precision_10: 0.6404\n",
      "Epoch 131/180\n",
      "5513/5513 [==============================] - 59s 11ms/step - loss: 0.6513 - recall_12: 0.6009 - auc_12: 0.6602 - precision_10: 0.6409\n",
      "Epoch 132/180\n",
      "5513/5513 [==============================] - 59s 11ms/step - loss: 0.6517 - recall_12: 0.6004 - auc_12: 0.6595 - precision_10: 0.6402\n",
      "Epoch 133/180\n",
      "5513/5513 [==============================] - ETA: 0s - loss: 0.6516 - recall_12: 0.6028 - auc_12: 0.6594 - precision_10: 0.640 - 59s 11ms/step - loss: 0.6516 - recall_12: 0.6028 - auc_12: 0.6594 - precision_10: 0.6404\n",
      "Epoch 134/180\n",
      "5513/5513 [==============================] - 59s 11ms/step - loss: 0.6520 - recall_12: 0.6007 - auc_12: 0.6589 - precision_10: 0.6396\n",
      "Epoch 135/180\n",
      "5513/5513 [==============================] - 59s 11ms/step - loss: 0.6520 - recall_12: 0.6026 - auc_12: 0.6590 - precision_10: 0.6393\n",
      "Epoch 136/180\n",
      "5513/5513 [==============================] - 59s 11ms/step - loss: 0.6519 - recall_12: 0.6008 - auc_12: 0.6586 - precision_10: 0.6397\n",
      "Epoch 137/180\n",
      "5513/5513 [==============================] - 60s 11ms/step - loss: 0.6516 - recall_12: 0.6008 - auc_12: 0.6590 - precision_10: 0.6402\n",
      "Epoch 138/180\n",
      "5513/5513 [==============================] - 59s 11ms/step - loss: 0.6515 - recall_12: 0.6011 - auc_12: 0.6597 - precision_10: 0.6402\n",
      "Epoch 139/180\n",
      "5513/5513 [==============================] - 59s 11ms/step - loss: 0.6520 - recall_12: 0.5999 - auc_12: 0.6586 - precision_10: 0.6399\n",
      "Epoch 140/180\n",
      "5513/5513 [==============================] - 59s 11ms/step - loss: 0.6521 - recall_12: 0.5991 - auc_12: 0.6585 - precision_10: 0.6392\n",
      "Epoch 141/180\n",
      "5513/5513 [==============================] - 59s 11ms/step - loss: 0.6522 - recall_12: 0.5997 - auc_12: 0.6586 - precision_10: 0.6392\n",
      "Epoch 142/180\n",
      "5513/5513 [==============================] - 59s 11ms/step - loss: 0.6519 - recall_12: 0.5997 - auc_12: 0.6587 - precision_10: 0.6397\n",
      "Epoch 143/180\n",
      "5513/5513 [==============================] - 59s 11ms/step - loss: 0.6516 - recall_12: 0.6026 - auc_12: 0.6596 - precision_10: 0.6406\n",
      "Epoch 144/180\n",
      "5513/5513 [==============================] - 59s 11ms/step - loss: 0.6512 - recall_12: 0.6013 - auc_12: 0.6598 - precision_10: 0.6412\n",
      "Epoch 145/180\n",
      "5513/5513 [==============================] - 59s 11ms/step - loss: 0.6515 - recall_12: 0.6024 - auc_12: 0.6598 - precision_10: 0.6406\n",
      "Epoch 146/180\n",
      "5513/5513 [==============================] - 59s 11ms/step - loss: 0.6517 - recall_12: 0.6020 - auc_12: 0.6590 - precision_10: 0.6402\n",
      "Epoch 147/180\n",
      "5513/5513 [==============================] - 60s 11ms/step - loss: 0.6518 - recall_12: 0.6013 - auc_12: 0.6589 - precision_10: 0.6396\n",
      "Epoch 148/180\n",
      "5513/5513 [==============================] - 59s 11ms/step - loss: 0.6513 - recall_12: 0.6029 - auc_12: 0.6598 - precision_10: 0.6406\n",
      "Epoch 149/180\n",
      "5513/5513 [==============================] - 59s 11ms/step - loss: 0.6513 - recall_12: 0.6021 - auc_12: 0.6602 - precision_10: 0.6409\n",
      "Epoch 150/180\n",
      "5513/5513 [==============================] - 59s 11ms/step - loss: 0.6517 - recall_12: 0.6008 - auc_12: 0.6592 - precision_10: 0.6400\n",
      "Epoch 151/180\n",
      "5513/5513 [==============================] - 59s 11ms/step - loss: 0.6518 - recall_12: 0.6024 - auc_12: 0.6590 - precision_10: 0.6405\n",
      "Epoch 152/180\n",
      "5513/5513 [==============================] - 59s 11ms/step - loss: 0.6518 - recall_12: 0.6005 - auc_12: 0.6588 - precision_10: 0.6398\n",
      "Epoch 153/180\n",
      "5513/5513 [==============================] - 59s 11ms/step - loss: 0.6515 - recall_12: 0.6021 - auc_12: 0.6591 - precision_10: 0.6399\n",
      "Epoch 154/180\n",
      "5513/5513 [==============================] - 59s 11ms/step - loss: 0.6515 - recall_12: 0.6023 - auc_12: 0.6596 - precision_10: 0.6405\n",
      "Epoch 155/180\n",
      "5513/5513 [==============================] - 59s 11ms/step - loss: 0.6515 - recall_12: 0.6005 - auc_12: 0.6593 - precision_10: 0.6409\n",
      "Epoch 156/180\n",
      "5513/5513 [==============================] - 59s 11ms/step - loss: 0.6516 - recall_12: 0.6018 - auc_12: 0.6593 - precision_10: 0.6407\n",
      "Epoch 157/180\n",
      "5513/5513 [==============================] - 60s 11ms/step - loss: 0.6512 - recall_12: 0.6009 - auc_12: 0.6598 - precision_10: 0.6402\n",
      "Epoch 158/180\n",
      "5513/5513 [==============================] - 59s 11ms/step - loss: 0.6519 - recall_12: 0.6009 - auc_12: 0.6590 - precision_10: 0.6398\n",
      "Epoch 159/180\n",
      "5513/5513 [==============================] - 59s 11ms/step - loss: 0.6517 - recall_12: 0.6022 - auc_12: 0.6592 - precision_10: 0.6400\n",
      "Epoch 160/180\n",
      "5513/5513 [==============================] - 59s 11ms/step - loss: 0.6514 - recall_12: 0.6029 - auc_12: 0.6596 - precision_10: 0.6401\n",
      "Epoch 161/180\n",
      "5513/5513 [==============================] - 59s 11ms/step - loss: 0.6515 - recall_12: 0.6022 - auc_12: 0.6594 - precision_10: 0.6405\n",
      "Epoch 162/180\n",
      "5513/5513 [==============================] - 59s 11ms/step - loss: 0.6519 - recall_12: 0.6036 - auc_12: 0.6586 - precision_10: 0.6398\n",
      "Epoch 163/180\n",
      "5513/5513 [==============================] - 59s 11ms/step - loss: 0.6518 - recall_12: 0.6023 - auc_12: 0.6588 - precision_10: 0.6401\n",
      "Epoch 164/180\n",
      "5513/5513 [==============================] - 59s 11ms/step - loss: 0.6511 - recall_12: 0.6017 - auc_12: 0.6604 - precision_10: 0.6409\n",
      "Epoch 165/180\n",
      "5513/5513 [==============================] - 59s 11ms/step - loss: 0.6517 - recall_12: 0.6004 - auc_12: 0.6592 - precision_10: 0.6399\n",
      "Epoch 166/180\n",
      "5513/5513 [==============================] - 59s 11ms/step - loss: 0.6517 - recall_12: 0.6011 - auc_12: 0.6591 - precision_10: 0.6410\n",
      "Epoch 167/180\n",
      "5513/5513 [==============================] - 60s 11ms/step - loss: 0.6516 - recall_12: 0.6015 - auc_12: 0.6597 - precision_10: 0.6405\n",
      "Epoch 168/180\n",
      "5513/5513 [==============================] - 59s 11ms/step - loss: 0.6516 - recall_12: 0.6005 - auc_12: 0.6594 - precision_10: 0.6399\n",
      "Epoch 169/180\n",
      "5513/5513 [==============================] - 59s 11ms/step - loss: 0.6511 - recall_12: 0.6028 - auc_12: 0.6601 - precision_10: 0.6409\n",
      "Epoch 170/180\n",
      "5513/5513 [==============================] - 59s 11ms/step - loss: 0.6516 - recall_12: 0.6010 - auc_12: 0.6590 - precision_10: 0.6407\n",
      "Epoch 171/180\n",
      "5513/5513 [==============================] - 60s 11ms/step - loss: 0.6513 - recall_12: 0.6011 - auc_12: 0.6595 - precision_10: 0.6405\n",
      "Epoch 172/180\n",
      "5513/5513 [==============================] - 59s 11ms/step - loss: 0.6517 - recall_12: 0.6008 - auc_12: 0.6591 - precision_10: 0.6403\n",
      "Epoch 173/180\n",
      "5513/5513 [==============================] - 59s 11ms/step - loss: 0.6511 - recall_12: 0.6017 - auc_12: 0.6602 - precision_10: 0.6416\n",
      "Epoch 174/180\n",
      "5513/5513 [==============================] - 59s 11ms/step - loss: 0.6513 - recall_12: 0.5994 - auc_12: 0.6600 - precision_10: 0.6400\n",
      "Epoch 175/180\n",
      "5513/5513 [==============================] - 59s 11ms/step - loss: 0.6514 - recall_12: 0.6028 - auc_12: 0.6595 - precision_10: 0.6407\n",
      "Epoch 176/180\n",
      "5513/5513 [==============================] - 59s 11ms/step - loss: 0.6518 - recall_12: 0.6005 - auc_12: 0.6592 - precision_10: 0.6399\n",
      "Epoch 177/180\n",
      "5513/5513 [==============================] - 60s 11ms/step - loss: 0.6512 - recall_12: 0.6009 - auc_12: 0.6600 - precision_10: 0.6411\n",
      "Epoch 178/180\n",
      "5513/5513 [==============================] - 59s 11ms/step - loss: 0.6514 - recall_12: 0.6026 - auc_12: 0.6594 - precision_10: 0.6413\n",
      "Epoch 179/180\n",
      "5513/5513 [==============================] - 60s 11ms/step - loss: 0.6512 - recall_12: 0.6016 - auc_12: 0.6601 - precision_10: 0.6407\n",
      "Epoch 180/180\n",
      "5513/5513 [==============================] - 59s 11ms/step - loss: 0.6514 - recall_12: 0.6022 - auc_12: 0.6598 - precision_10: 0.6403\n"
     ]
    }
   ],
   "source": [
    "df_model = df_oversampled.copy()\n",
    "\n",
    "target = df_model.pop('No-show')\n",
    "\n",
    "dataset = tf.data.Dataset.from_tensor_slices((df_model.values, target.values))\n",
    "\n",
    "train_dataset = dataset.shuffle(len(df_model)).batch(32)\n",
    "\n",
    "model2 = tf.keras.Sequential([\n",
    "    tf.keras.layers.Dense(11, activation='relu'),\n",
    "    tf.keras.layers.Dropout(0.6),\n",
    "    tf.keras.layers.Dense(11, activation='relu'),\n",
    "    tf.keras.layers.Dense(11, activation='relu'),\n",
    "    tf.keras.layers.Dense(11, activation='relu'),\n",
    "    tf.keras.layers.Dense(1, activation='sigmoid')\n",
    "  ])\n",
    "\n",
    "model2.compile(optimizer=tf.keras.optimizers.SGD(learning_rate=0.01) ,\n",
    "                loss=tf.keras.losses.BinaryCrossentropy(from_logits=False),\n",
    "                metrics=[tf.keras.metrics.Recall(),\n",
    "                        tf.keras.metrics.AUC(),\n",
    "                        tf.keras.metrics.Precision()])\n",
    "\n",
    "model2_performance = model2.fit(train_dataset, callbacks=[reduce_lr], epochs=180)"
   ]
  },
  {
   "cell_type": "code",
   "execution_count": 82,
   "id": "0fd106ed",
   "metadata": {},
   "outputs": [
    {
     "data": {
      "text/plain": [
       "<tf.Tensor: shape=(2, 2), dtype=int32, numpy=\n",
       "array([[53274, 34933],\n",
       "       [26205, 62002]])>"
      ]
     },
     "execution_count": 82,
     "metadata": {},
     "output_type": "execute_result"
    }
   ],
   "source": [
    "y_pred_model2 = model2.predict(df_model)\n",
    "tf.math.confusion_matrix(labels=target, predictions=y_pred_model2.ravel()>0.5)"
   ]
  },
  {
   "cell_type": "markdown",
   "id": "0b021396",
   "metadata": {},
   "source": [
    "Pela matriz de confusão podemos perceber uma melhora na predição do modelo, porém ainda não temos resultados totalmente satisfatórios."
   ]
  },
  {
   "cell_type": "markdown",
   "id": "04305392",
   "metadata": {},
   "source": [
    "# Terceiro Modelo"
   ]
  },
  {
   "cell_type": "markdown",
   "id": "a7ce275a",
   "metadata": {},
   "source": [
    "Para esse modelo, vamos deixar para trás a utilização de redes neurais e utilizar um mobelo de gradient boosting."
   ]
  },
  {
   "cell_type": "code",
   "execution_count": 18,
   "id": "1990d7a6",
   "metadata": {},
   "outputs": [],
   "source": [
    "import lightgbm as lgb\n",
    "from sklearn.metrics import roc_auc_score, accuracy_score, RocCurveDisplay"
   ]
  },
  {
   "cell_type": "code",
   "execution_count": 19,
   "id": "8206fce4",
   "metadata": {},
   "outputs": [],
   "source": [
    "target = 'No-show'\n",
    "feat_cols = [col for col in df.columns if col != target]"
   ]
  },
  {
   "cell_type": "code",
   "execution_count": 75,
   "id": "0ab72a4b",
   "metadata": {},
   "outputs": [
    {
     "name": "stdout",
     "output_type": "stream",
     "text": [
      "[LightGBM] [Warning] feature_fraction is set=0.7, colsample_bytree=0.5 will be ignored. Current value: feature_fraction=0.7\n",
      "[LightGBM] [Warning] min_data_in_leaf is set=100, min_child_samples=20 will be ignored. Current value: min_data_in_leaf=100\n",
      "[LightGBM] [Warning] bagging_fraction is set=0.7, subsample=1.0 will be ignored. Current value: bagging_fraction=0.7\n",
      "[LightGBM] [Warning] bagging_freq is set=4, subsample_freq=0 will be ignored. Current value: bagging_freq=4\n",
      "0.7205098504295823\n"
     ]
    }
   ],
   "source": [
    "train_split = 70000\n",
    "\n",
    "x = df.iloc[:train_split][feat_cols]\n",
    "y = df.iloc[:train_split][target]\n",
    "\n",
    "model_params = {\n",
    "    \"objective\": 'binary',\n",
    "    \"max_depth\": -1,\n",
    "    \"num_leaves\": 9,\n",
    "    \"learning_rate\": 0.0001,\n",
    "    \"n_estimators\": 10000,\n",
    "    \"boosting_type\": \"rf\",\n",
    "    \"min_data_in_leaf\": 100,\n",
    "    \"bagging_freq\": 4,\n",
    "    \"bagging_fraction\": 0.7,\n",
    "    \"feature_fraction\": 0.7,\n",
    "    \"colsample_bytree\": 0.5,\n",
    "#     \"is_unbalance\": True,\n",
    "    \"scale_pos_weight\": 1.8,\n",
    "    \"metric\": \"auc\"\n",
    "}\n",
    "\n",
    "model3 = lgb.LGBMRegressor(**model_params).fit(x, y)\n",
    "\n",
    "test_df = (\n",
    "    df\n",
    "    .iloc[train_split:]\n",
    "    .assign(pred = lambda df: pd.DataFrame(model3.predict(df[feat_cols])).values)\n",
    ")\n",
    "\n",
    "print(roc_auc_score(test_df[target], test_df['pred']))"
   ]
  },
  {
   "cell_type": "code",
   "execution_count": 76,
   "id": "524e117d",
   "metadata": {},
   "outputs": [
    {
     "data": {
      "text/plain": [
       "<sklearn.metrics._plot.roc_curve.RocCurveDisplay at 0x295804a7340>"
      ]
     },
     "execution_count": 76,
     "metadata": {},
     "output_type": "execute_result"
    },
    {
     "data": {
      "image/png": "[encoded data removed]",
      "text/plain": [
       "<Figure size 432x288 with 1 Axes>"
      ]
     },
     "metadata": {
      "needs_background": "light"
     },
     "output_type": "display_data"
    }
   ],
   "source": [
    "RocCurveDisplay.from_predictions(test_df[target], test_df['pred'])"
   ]
  },
  {
   "cell_type": "code",
   "execution_count": 77,
   "id": "bae2740f",
   "metadata": {},
   "outputs": [
    {
     "data": {
      "text/plain": [
       "<AxesSubplot:>"
      ]
     },
     "execution_count": 77,
     "metadata": {},
     "output_type": "execute_result"
    },
    {
     "data": {
      "image/png": "[encoded data removed]",
      "text/plain": [
       "<Figure size 432x288 with 1 Axes>"
      ]
     },
     "metadata": {
      "needs_background": "light"
     },
     "output_type": "display_data"
    }
   ],
   "source": [
    "test_df['pred'].hist(bins=100)"
   ]
  },
  {
   "cell_type": "code",
   "execution_count": 78,
   "id": "c0c9f1d1",
   "metadata": {},
   "outputs": [
    {
     "data": {
      "text/plain": [
       "<tf.Tensor: shape=(2, 2), dtype=int32, numpy=\n",
       "array([[72148, 16059],\n",
       "       [13193,  9121]])>"
      ]
     },
     "execution_count": 78,
     "metadata": {},
     "output_type": "execute_result"
    }
   ],
   "source": [
    "y_pred_model3 = model3.predict(df[feat_cols])\n",
    "tf.math.confusion_matrix(labels=df[target], predictions=y_pred_model3.ravel()>0.5)"
   ]
  },
  {
   "cell_type": "code",
   "execution_count": null,
   "id": "51fb1b57",
   "metadata": {},
   "outputs": [],
   "source": []
  }
 ],
 "metadata": {
  "kernelspec": {
   "display_name": "Python 3 (ipykernel)",
   "language": "python",
   "name": "python3"
  },
  "language_info": {
   "codemirror_mode": {
    "name": "ipython",
    "version": 3
   },
   "file_extension": ".py",
   "mimetype": "text/x-python",
   "name": "python",
   "nbconvert_exporter": "python",
   "pygments_lexer": "ipython3",
   "version": "3.9.7"
  }
 },
 "nbformat": 4,
 "nbformat_minor": 5
}
