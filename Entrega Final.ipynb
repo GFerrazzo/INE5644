{
 "cells": [
  {
   "cell_type": "code",
   "execution_count": 21,
   "id": "069a1b60",
   "metadata": {},
   "outputs": [],
   "source": [
    "# importacao de bibliotecas necessarias\n",
    "\n",
    "# bibliotecas de redes neurais\n",
    "import tensorflow as tf\n",
    "from tensorflow import keras\n",
    "from keras.utils.vis_utils import plot_model\n",
    "import sklearn\n",
    "\n",
    "# bibliotecas de manipulacao de variaveis de ambiente e acesso a diretorios\n",
    "import os, warnings\n",
    "import glob\n",
    "\n",
    "# bibliotecas de manipulacao e visualizacao de dados\n",
    "import pandas as pd\n",
    "import numpy as np\n",
    "import matplotlib.pyplot as plt"
   ]
  },
  {
   "cell_type": "markdown",
   "id": "8d926e8a",
   "metadata": {},
   "source": [
    "# Preparação dos Dados"
   ]
  },
  {
   "cell_type": "markdown",
   "id": "a532f8e6",
   "metadata": {},
   "source": [
    "Retomamos a mesma preparação dos dados abordada na [primeira entrega](https://github.com/GFerrazzo/INE5644/blob/main/Primeira%20Entrega%20-%20Trabalho%20Final.ipynb). Dessa vez, retiramos os blocos de código com propósito de visualização da preparação."
   ]
  },
  {
   "cell_type": "code",
   "execution_count": 2,
   "id": "206018f9",
   "metadata": {},
   "outputs": [],
   "source": [
    "# df = pd.read_csv('https://raw.githubusercontent.com/GFerrazzo/INE5644/main/KaggleV2-May-2016.csv', sep = ',')\n",
    "\n",
    "df = pd.read_csv('KaggleV2-May-2016.csv', sep = ',')"
   ]
  },
  {
   "cell_type": "code",
   "execution_count": 3,
   "id": "d9b47bfe",
   "metadata": {},
   "outputs": [],
   "source": [
    "df['ScheduledDay'] = pd.to_datetime(df['ScheduledDay'])\n",
    "df['AppointmentDay'] = pd.to_datetime(df['AppointmentDay'])"
   ]
  },
  {
   "cell_type": "code",
   "execution_count": 4,
   "id": "5f8b25bf",
   "metadata": {},
   "outputs": [],
   "source": [
    "df['Gender'] = df['Gender'].map({'M' : 1, 'F' : 0})\n",
    "df['No-show'] = df['No-show'].map({'Yes' : 1, 'No' : 0})\n",
    "\n",
    "# esse bloco foi alterado para nao utilizarmos mais o dtype boolean. o Keras teve algum problema em trabalhar com esse dtype."
   ]
  },
  {
   "cell_type": "code",
   "execution_count": 5,
   "id": "fdeab724",
   "metadata": {},
   "outputs": [],
   "source": [
    "df['ScheduleToAppointment'] = (df['AppointmentDay'] - df['ScheduledDay']).astype('timedelta64[D]') + 1"
   ]
  },
  {
   "cell_type": "code",
   "execution_count": 6,
   "id": "3cc47ca0",
   "metadata": {},
   "outputs": [],
   "source": [
    "df['ScheduleWeekDay'] = df['ScheduledDay'].dt.weekday"
   ]
  },
  {
   "cell_type": "code",
   "execution_count": 7,
   "id": "5a94d980",
   "metadata": {},
   "outputs": [],
   "source": [
    "df.drop(columns=['PatientId','AppointmentID','ScheduledDay','AppointmentDay'], inplace=True)"
   ]
  },
  {
   "cell_type": "code",
   "execution_count": 8,
   "id": "4a6c1012",
   "metadata": {},
   "outputs": [],
   "source": [
    "df.drop(df[df['Age'] < 0].index, inplace=True)"
   ]
  },
  {
   "cell_type": "code",
   "execution_count": 9,
   "id": "20de48e0",
   "metadata": {},
   "outputs": [],
   "source": [
    "df.drop(df[df['ScheduleToAppointment'] < 0].index, inplace=True)"
   ]
  },
  {
   "cell_type": "code",
   "execution_count": 10,
   "id": "76270e2a",
   "metadata": {},
   "outputs": [
    {
     "data": {
      "text/plain": [
       "0.2018982817745044"
      ]
     },
     "execution_count": 10,
     "metadata": {},
     "output_type": "execute_result"
    }
   ],
   "source": [
    "df[df['No-show'] == True].shape[0]/df.shape[0]"
   ]
  },
  {
   "cell_type": "code",
   "execution_count": 11,
   "id": "24d3673c",
   "metadata": {},
   "outputs": [],
   "source": [
    "df.drop(columns=['Neighbourhood'], inplace=True)"
   ]
  },
  {
   "cell_type": "code",
   "execution_count": 12,
   "id": "fad07d81",
   "metadata": {},
   "outputs": [],
   "source": [
    "df['Age'] = pd.cut(df['Age'], bins=29, precision=0)"
   ]
  },
  {
   "cell_type": "code",
   "execution_count": 13,
   "id": "ee238533",
   "metadata": {},
   "outputs": [],
   "source": [
    "# df['Handcap'] = df['Handcap'].map({1 : True, 2 : True, 3 : True, 4 : True, 0 : False})"
   ]
  },
  {
   "cell_type": "code",
   "execution_count": 14,
   "id": "bb48b92c",
   "metadata": {},
   "outputs": [],
   "source": [
    "df['ScheduleToAppointment'] = pd.cut(df['ScheduleToAppointment'], bins=30, precision=0)"
   ]
  },
  {
   "cell_type": "code",
   "execution_count": 15,
   "id": "dda88b19",
   "metadata": {},
   "outputs": [
    {
     "data": {
      "text/html": [
       "<div>\n",
       "<style scoped>\n",
       "    .dataframe tbody tr th:only-of-type {\n",
       "        vertical-align: middle;\n",
       "    }\n",
       "\n",
       "    .dataframe tbody tr th {\n",
       "        vertical-align: top;\n",
       "    }\n",
       "\n",
       "    .dataframe thead th {\n",
       "        text-align: right;\n",
       "    }\n",
       "</style>\n",
       "<table border=\"1\" class=\"dataframe\">\n",
       "  <thead>\n",
       "    <tr style=\"text-align: right;\">\n",
       "      <th></th>\n",
       "      <th>Gender</th>\n",
       "      <th>Age</th>\n",
       "      <th>Scholarship</th>\n",
       "      <th>Hipertension</th>\n",
       "      <th>Diabetes</th>\n",
       "      <th>Alcoholism</th>\n",
       "      <th>Handcap</th>\n",
       "      <th>SMS_received</th>\n",
       "      <th>No-show</th>\n",
       "      <th>ScheduleToAppointment</th>\n",
       "      <th>ScheduleWeekDay</th>\n",
       "    </tr>\n",
       "  </thead>\n",
       "  <tbody>\n",
       "    <tr>\n",
       "      <th>95112</th>\n",
       "      <td>1</td>\n",
       "      <td>(75.0, 79.0]</td>\n",
       "      <td>0</td>\n",
       "      <td>0</td>\n",
       "      <td>0</td>\n",
       "      <td>0</td>\n",
       "      <td>0</td>\n",
       "      <td>0</td>\n",
       "      <td>0</td>\n",
       "      <td>(24.0, 30.0]</td>\n",
       "      <td>0</td>\n",
       "    </tr>\n",
       "    <tr>\n",
       "      <th>98130</th>\n",
       "      <td>1</td>\n",
       "      <td>(-0.0, 4.0]</td>\n",
       "      <td>0</td>\n",
       "      <td>0</td>\n",
       "      <td>0</td>\n",
       "      <td>0</td>\n",
       "      <td>0</td>\n",
       "      <td>0</td>\n",
       "      <td>0</td>\n",
       "      <td>(-0.0, 6.0]</td>\n",
       "      <td>3</td>\n",
       "    </tr>\n",
       "    <tr>\n",
       "      <th>104409</th>\n",
       "      <td>1</td>\n",
       "      <td>(20.0, 24.0]</td>\n",
       "      <td>1</td>\n",
       "      <td>0</td>\n",
       "      <td>0</td>\n",
       "      <td>0</td>\n",
       "      <td>0</td>\n",
       "      <td>1</td>\n",
       "      <td>1</td>\n",
       "      <td>(18.0, 24.0]</td>\n",
       "      <td>1</td>\n",
       "    </tr>\n",
       "    <tr>\n",
       "      <th>72625</th>\n",
       "      <td>0</td>\n",
       "      <td>(56.0, 59.0]</td>\n",
       "      <td>0</td>\n",
       "      <td>0</td>\n",
       "      <td>0</td>\n",
       "      <td>0</td>\n",
       "      <td>0</td>\n",
       "      <td>1</td>\n",
       "      <td>1</td>\n",
       "      <td>(-0.0, 6.0]</td>\n",
       "      <td>4</td>\n",
       "    </tr>\n",
       "    <tr>\n",
       "      <th>63909</th>\n",
       "      <td>0</td>\n",
       "      <td>(44.0, 48.0]</td>\n",
       "      <td>0</td>\n",
       "      <td>0</td>\n",
       "      <td>0</td>\n",
       "      <td>0</td>\n",
       "      <td>0</td>\n",
       "      <td>0</td>\n",
       "      <td>1</td>\n",
       "      <td>(-0.0, 6.0]</td>\n",
       "      <td>2</td>\n",
       "    </tr>\n",
       "  </tbody>\n",
       "</table>\n",
       "</div>"
      ],
      "text/plain": [
       "        Gender           Age  Scholarship  Hipertension  Diabetes  Alcoholism  \\\n",
       "95112        1  (75.0, 79.0]            0             0         0           0   \n",
       "98130        1   (-0.0, 4.0]            0             0         0           0   \n",
       "104409       1  (20.0, 24.0]            1             0         0           0   \n",
       "72625        0  (56.0, 59.0]            0             0         0           0   \n",
       "63909        0  (44.0, 48.0]            0             0         0           0   \n",
       "\n",
       "        Handcap  SMS_received  No-show ScheduleToAppointment  ScheduleWeekDay  \n",
       "95112         0             0        0          (24.0, 30.0]                0  \n",
       "98130         0             0        0           (-0.0, 6.0]                3  \n",
       "104409        0             1        1          (18.0, 24.0]                1  \n",
       "72625         0             1        1           (-0.0, 6.0]                4  \n",
       "63909         0             0        1           (-0.0, 6.0]                2  "
      ]
     },
     "execution_count": 15,
     "metadata": {},
     "output_type": "execute_result"
    }
   ],
   "source": [
    "df.sample(5)"
   ]
  },
  {
   "cell_type": "code",
   "execution_count": 16,
   "id": "5fc51067",
   "metadata": {},
   "outputs": [
    {
     "name": "stdout",
     "output_type": "stream",
     "text": [
      "<class 'pandas.core.frame.DataFrame'>\n",
      "Int64Index: 110521 entries, 0 to 110526\n",
      "Data columns (total 11 columns):\n",
      " #   Column                 Non-Null Count   Dtype   \n",
      "---  ------                 --------------   -----   \n",
      " 0   Gender                 110521 non-null  int64   \n",
      " 1   Age                    110521 non-null  category\n",
      " 2   Scholarship            110521 non-null  int64   \n",
      " 3   Hipertension           110521 non-null  int64   \n",
      " 4   Diabetes               110521 non-null  int64   \n",
      " 5   Alcoholism             110521 non-null  int64   \n",
      " 6   Handcap                110521 non-null  int64   \n",
      " 7   SMS_received           110521 non-null  int64   \n",
      " 8   No-show                110521 non-null  int64   \n",
      " 9   ScheduleToAppointment  110521 non-null  category\n",
      " 10  ScheduleWeekDay        110521 non-null  int64   \n",
      "dtypes: category(2), int64(9)\n",
      "memory usage: 8.6 MB\n"
     ]
    }
   ],
   "source": [
    "df.info()"
   ]
  },
  {
   "cell_type": "code",
   "execution_count": 17,
   "id": "73c72539",
   "metadata": {},
   "outputs": [],
   "source": [
    "df['Age'] = df['Age'].cat.codes\n",
    "df['ScheduleToAppointment'] = df['ScheduleToAppointment'].cat.codes"
   ]
  },
  {
   "cell_type": "markdown",
   "id": "678b0fbc",
   "metadata": {},
   "source": [
    "# Primeiro Modelo"
   ]
  },
  {
   "cell_type": "code",
   "execution_count": 18,
   "id": "be6ef223",
   "metadata": {},
   "outputs": [],
   "source": [
    "df_model = df.copy()"
   ]
  },
  {
   "cell_type": "code",
   "execution_count": 19,
   "id": "41715c03",
   "metadata": {},
   "outputs": [],
   "source": [
    "target = df_model.pop('No-show')"
   ]
  },
  {
   "cell_type": "code",
   "execution_count": 20,
   "id": "b2925088",
   "metadata": {},
   "outputs": [],
   "source": [
    "dataset = tf.data.Dataset.from_tensor_slices((df_model.values, target.values))"
   ]
  },
  {
   "cell_type": "code",
   "execution_count": 21,
   "id": "cec4d2fb",
   "metadata": {},
   "outputs": [],
   "source": [
    "train_dataset = dataset.shuffle(len(df_model)).batch(32)"
   ]
  },
  {
   "cell_type": "markdown",
   "id": "bd34740b",
   "metadata": {},
   "source": [
    "Começaremos com um modelo bem simples. Composto apenas por três camadas."
   ]
  },
  {
   "cell_type": "code",
   "execution_count": 22,
   "id": "c7547882",
   "metadata": {},
   "outputs": [],
   "source": [
    "model1 = tf.keras.Sequential([\n",
    "    tf.keras.layers.Dense(11, activation='relu'),\n",
    "    tf.keras.layers.Dense(11, activation='relu'),\n",
    "    tf.keras.layers.Dense(1)\n",
    "  ])"
   ]
  },
  {
   "cell_type": "code",
   "execution_count": 23,
   "id": "aea8a55b",
   "metadata": {},
   "outputs": [],
   "source": [
    "model1.compile(optimizer='adam',\n",
    "                loss=tf.keras.losses.BinaryCrossentropy(from_logits=True),\n",
    "                metrics=['accuracy'])"
   ]
  },
  {
   "cell_type": "code",
   "execution_count": 24,
   "id": "61e5ac15",
   "metadata": {},
   "outputs": [
    {
     "name": "stdout",
     "output_type": "stream",
     "text": [
      "Epoch 1/5\n",
      "3454/3454 [==============================] - 28s 7ms/step - loss: 0.4835 - accuracy: 0.7977\n",
      "Epoch 2/5\n",
      "3454/3454 [==============================] - 24s 7ms/step - loss: 0.4682 - accuracy: 0.7981\n",
      "Epoch 3/5\n",
      "3454/3454 [==============================] - 22s 6ms/step - loss: 0.4675 - accuracy: 0.7981\n",
      "Epoch 4/5\n",
      "3454/3454 [==============================] - 68s 20ms/step - loss: 0.4668 - accuracy: 0.7981\n",
      "Epoch 5/5\n",
      "3454/3454 [==============================] - 27s 8ms/step - loss: 0.4665 - accuracy: 0.7981\n"
     ]
    }
   ],
   "source": [
    "model1_performance = model1.fit(train_dataset, epochs=5)"
   ]
  },
  {
   "cell_type": "markdown",
   "id": "86b272e8",
   "metadata": {},
   "source": [
    "Como podemos notar, ao utilizar o dataset como ele foi fornecido, chegamos numa acurácia de 79.81%. \n",
    "\n",
    "Coincidentemente (veremos que não é coincidência), esse é o valor do balanço das nossas classes, como podemos ver:"
   ]
  },
  {
   "cell_type": "code",
   "execution_count": 25,
   "id": "2b5a84d9",
   "metadata": {},
   "outputs": [
    {
     "data": {
      "text/plain": [
       "0.2018982817745044"
      ]
     },
     "execution_count": 25,
     "metadata": {},
     "output_type": "execute_result"
    }
   ],
   "source": [
    "df[df['No-show'] == True].shape[0]/df.shape[0]"
   ]
  },
  {
   "cell_type": "code",
   "execution_count": 26,
   "id": "358b1e05",
   "metadata": {},
   "outputs": [
    {
     "data": {
      "text/plain": [
       "0.7981017182254956"
      ]
     },
     "execution_count": 26,
     "metadata": {},
     "output_type": "execute_result"
    }
   ],
   "source": [
    "df[df['No-show'] == False].shape[0]/df.shape[0]"
   ]
  },
  {
   "cell_type": "markdown",
   "id": "d368570a",
   "metadata": {},
   "source": [
    "Ou seja, podemos imaginar que nosso modelo está prevendo \"Presença\" para todas predições, mas só acerta 79.81% das vezes.\n",
    "Podemos conferir isso com uma matriz de confusão."
   ]
  },
  {
   "cell_type": "code",
   "execution_count": 27,
   "id": "c17dc4b2",
   "metadata": {},
   "outputs": [],
   "source": [
    "y_pred_model1 = model1.predict(df_model)"
   ]
  },
  {
   "cell_type": "code",
   "execution_count": 28,
   "id": "6d329b30",
   "metadata": {},
   "outputs": [
    {
     "data": {
      "text/plain": [
       "<tf.Tensor: shape=(2, 2), dtype=int32, numpy=\n",
       "array([[88207,     0],\n",
       "       [22314,     0]])>"
      ]
     },
     "execution_count": 28,
     "metadata": {},
     "output_type": "execute_result"
    }
   ],
   "source": [
    "tf.math.confusion_matrix(labels=target, predictions=y_pred_model1.ravel()>0.5)"
   ]
  },
  {
   "attachments": {
    "confusion_matrix.png": {
     "image/png": "[encoded data removed]"
    }
   },
   "cell_type": "markdown",
   "id": "325eed82",
   "metadata": {},
   "source": [
    "![Matriz de Confusao](attachment:confusion_matrix.png)"
   ]
  },
  {
   "cell_type": "markdown",
   "id": "1c1b5a4b",
   "metadata": {},
   "source": [
    "Comparando com a imagem acima (fonte), podemos notar que temos:\n",
    "    88207 casos de positivos verdadeiros.\n",
    "    22314 casos de falsos negativos.\n",
    "    \n",
    "Que nos dá a acurácia de 79.81%.\n",
    "\n",
    "Indo além, podemos verificar pelo próprio resultado da predição, que retorna 110521 predições de \"Falso\":"
   ]
  },
  {
   "cell_type": "code",
   "execution_count": 29,
   "id": "07836a56",
   "metadata": {},
   "outputs": [
    {
     "data": {
      "text/plain": [
       "array([False, False, False, ..., False, False, False])"
      ]
     },
     "execution_count": 29,
     "metadata": {},
     "output_type": "execute_result"
    }
   ],
   "source": [
    "y_pred_model1.ravel()>0.5"
   ]
  },
  {
   "cell_type": "code",
   "execution_count": 30,
   "id": "b8561063",
   "metadata": {},
   "outputs": [
    {
     "data": {
      "text/plain": [
       "(array([False]), array([110521], dtype=int64))"
      ]
     },
     "execution_count": 30,
     "metadata": {},
     "output_type": "execute_result"
    }
   ],
   "source": [
    "np.unique(y_pred_model1.ravel()>0.5, return_counts=True)"
   ]
  },
  {
   "cell_type": "markdown",
   "id": "197ad067",
   "metadata": {},
   "source": [
    "# Segundo Modelo"
   ]
  },
  {
   "cell_type": "markdown",
   "id": "ce6c15e1",
   "metadata": {},
   "source": [
    "O que notamos que aconteceu no primeiro modelo é o chamado \"paradoxo da acurácia\", onde descobrimos que a acurácia não é um método \"certeiro\" de medir a previsibilidade do nosso modelo. Devemos alterar dois itens no nosso primeiro modelo:\n",
    "- Consertar o desbalanço das classes\n",
    "- Alterar a métrica de cálculo da previsibilidade do modelo"
   ]
  },
  {
   "cell_type": "markdown",
   "id": "778d0f21",
   "metadata": {},
   "source": [
    "Para o primeiro item acima, temos várias opções: undersampling, oversampling, etc. Porém, neste segundo modelo, vamos tentar alterar somente a métrica para ver o impacto que a métrica errada tinha sobre o modelo."
   ]
  },
  {
   "cell_type": "markdown",
   "id": "9516f853",
   "metadata": {},
   "source": [
    "Temos inúmeras opções de métricas diferentes, citamos algumas, com suas nomenclaturas em inglês (para evitar traduções errôneas):\n",
    "- Precision = TP/(TP+FP)\n",
    "- Recall = TP/(TP+FN)\n",
    "- F1 Score = 2 * Recall * Precision / (Recall + Precision)\n",
    "- Area Under ROC Curve\n",
    "- G-Measure = sqrt(Precision * Recall)\n",
    "- Jaccard Index = TP/(TP+FP+FN)\n",
    "\n",
    "\n",
    "onde \n",
    "\n",
    "TP = True Positive\n",
    "\n",
    "FP = False Positive\n",
    "\n",
    "FN = False Negative"
   ]
  },
  {
   "cell_type": "code",
   "execution_count": 36,
   "id": "2b122b8e",
   "metadata": {},
   "outputs": [
    {
     "name": "stdout",
     "output_type": "stream",
     "text": [
      "88207 22314\n"
     ]
    }
   ],
   "source": [
    "count_class_0, count_class_1 = df['No-show'].value_counts()\n",
    "print(count_class_0, count_class_1)"
   ]
  },
  {
   "cell_type": "code",
   "execution_count": 37,
   "id": "f038f493",
   "metadata": {},
   "outputs": [],
   "source": [
    "df_class_0 = df[df['No-show'] == 0]\n",
    "df_class_1 = df[df['No-show'] == 1]"
   ]
  },
  {
   "cell_type": "markdown",
   "id": "46e1e858",
   "metadata": {},
   "source": [
    "Undersampling"
   ]
  },
  {
   "cell_type": "code",
   "execution_count": 38,
   "id": "3a3bf009",
   "metadata": {},
   "outputs": [
    {
     "data": {
      "text/plain": [
       "1    22314\n",
       "0    22314\n",
       "Name: No-show, dtype: int64"
      ]
     },
     "execution_count": 38,
     "metadata": {},
     "output_type": "execute_result"
    }
   ],
   "source": [
    "df_class_0_resampled = df_class_0.sample(count_class_1)\n",
    "df_undersampled = pd.concat([df_class_1, df_class_0_resampled])\n",
    "df_undersampled['No-show'].value_counts()"
   ]
  },
  {
   "cell_type": "markdown",
   "id": "3c51d8b2",
   "metadata": {},
   "source": [
    "Oversampling"
   ]
  },
  {
   "cell_type": "code",
   "execution_count": 39,
   "id": "a613adcd",
   "metadata": {},
   "outputs": [
    {
     "data": {
      "text/plain": [
       "0    88207\n",
       "1    88207\n",
       "Name: No-show, dtype: int64"
      ]
     },
     "execution_count": 39,
     "metadata": {},
     "output_type": "execute_result"
    }
   ],
   "source": [
    "df_class_1_resampled = df_class_1.sample(count_class_0, replace=True)\n",
    "df_oversampled = pd.concat([df_class_0, df_class_1_resampled])\n",
    "df_oversampled['No-show'].value_counts()"
   ]
  },
  {
   "cell_type": "code",
   "execution_count": 34,
   "id": "98381d53",
   "metadata": {},
   "outputs": [
    {
     "name": "stdout",
     "output_type": "stream",
     "text": [
      "Epoch 1/10\n",
      "1395/1395 [==============================] - 11s 7ms/step - loss: 0.6661 - auc: 0.6427\n",
      "Epoch 2/10\n",
      "1395/1395 [==============================] - 9s 7ms/step - loss: 0.6555 - auc: 0.6594\n",
      "Epoch 3/10\n",
      "1395/1395 [==============================] - 9s 7ms/step - loss: 0.6510 - auc: 0.6652\n",
      "Epoch 4/10\n",
      "1395/1395 [==============================] - 10s 7ms/step - loss: 0.6480 - auc: 0.6690\n",
      "Epoch 5/10\n",
      "1395/1395 [==============================] - 10s 7ms/step - loss: 0.6462 - auc: 0.6721\n",
      "Epoch 6/10\n",
      "1395/1395 [==============================] - 9s 7ms/step - loss: 0.6446 - auc: 0.6738\n",
      "Epoch 7/10\n",
      "1395/1395 [==============================] - 9s 7ms/step - loss: 0.6431 - auc: 0.6764\n",
      "Epoch 8/10\n",
      "1395/1395 [==============================] - 9s 7ms/step - loss: 0.6423 - auc: 0.6770\n",
      "Epoch 9/10\n",
      "1395/1395 [==============================] - 9s 7ms/step - loss: 0.6417 - auc: 0.6774\n",
      "Epoch 10/10\n",
      "1395/1395 [==============================] - 9s 7ms/step - loss: 0.6412 - auc: 0.6787\n"
     ]
    }
   ],
   "source": [
    "df_model = df_undersampled.copy()\n",
    "\n",
    "target = df_model.pop('No-show')\n",
    "\n",
    "dataset = tf.data.Dataset.from_tensor_slices((df_model.values, target.values))\n",
    "\n",
    "train_dataset = dataset.shuffle(len(df_model)).batch(32)\n",
    "\n",
    "model2 = tf.keras.Sequential([\n",
    "    tf.keras.layers.Dense(11, activation='relu'),\n",
    "    tf.keras.layers.Dense(11, activation='relu'),\n",
    "    tf.keras.layers.Dense(1, activation='sigmoid')\n",
    "  ])\n",
    "j\n",
    "model2.compile(optimizer='sgd',\n",
    "                loss=tf.keras.losses.BinaryCrossentropy(from_logits=False),\n",
    "                metrics=[tf.keras.metrics.AUC()])\n",
    "\n",
    "model2_performance = model2.fit(train_dataset, epochs=10)"
   ]
  },
  {
   "cell_type": "code",
   "execution_count": 69,
   "id": "5144c5a4",
   "metadata": {},
   "outputs": [],
   "source": [
    "\n",
    "reduce_lr = tf.keras.callbacks.ReduceLROnPlateau(monitor='loss', # qual metrica sera monitorada\n",
    "                              factor=0.2, # fator de multiplicacao (no caso reducao) do learning rate\n",
    "                              patience=2, # quantas epocas esperamos o \"plateau\"\n",
    "                              min_lr=0.0001 # menor learning rate possivel\n",
    "                                )"
   ]
  },
  {
   "cell_type": "code",
   "execution_count": null,
   "id": "d0ddfaae",
   "metadata": {},
   "outputs": [
    {
     "name": "stdout",
     "output_type": "stream",
     "text": [
      "Epoch 1/25\n",
      "5513/5513 [==============================] - 74s 13ms/step - loss: 0.6847 - recall_11: 0.5512 - auc_11: 0.5792 - precision_9: 0.5561\n",
      "Epoch 2/25\n",
      "5513/5513 [==============================] - 63s 11ms/step - loss: 0.6735 - recall_11: 0.5873 - auc_11: 0.6209 - precision_9: 0.5895\n",
      "Epoch 3/25\n",
      "5513/5513 [==============================] - 63s 11ms/step - loss: 0.6674 - recall_11: 0.5939 - auc_11: 0.6366 - precision_9: 0.6079\n",
      "Epoch 4/25\n",
      "5513/5513 [==============================] - 63s 11ms/step - loss: 0.6594 - recall_11: 0.6027 - auc_11: 0.6496 - precision_9: 0.6237\n",
      "Epoch 5/25\n",
      "5513/5513 [==============================] - 65s 12ms/step - loss: 0.6555 - recall_11: 0.5972 - auc_11: 0.6538 - precision_9: 0.6363\n",
      "Epoch 6/25\n",
      "5513/5513 [==============================] - 64s 11ms/step - loss: 0.6537 - recall_11: 0.6067 - auc_11: 0.6561 - precision_9: 0.6373\n",
      "Epoch 7/25\n",
      "5513/5513 [==============================] - 63s 11ms/step - loss: 0.6524 - recall_11: 0.6100 - auc_11: 0.6580 - precision_9: 0.6388\n",
      "Epoch 8/25\n",
      "5513/5513 [==============================] - 63s 11ms/step - loss: 0.6518 - recall_11: 0.6219 - auc_11: 0.6578 - precision_9: 0.6378\n",
      "Epoch 9/25\n",
      "5513/5513 [==============================] - 63s 11ms/step - loss: 0.6505 - recall_11: 0.6257 - auc_11: 0.6591 - precision_9: 0.6380\n",
      "Epoch 10/25\n",
      "5513/5513 [==============================] - 63s 11ms/step - loss: 0.6505 - recall_11: 0.6280 - auc_11: 0.6599 - precision_9: 0.6373\n",
      "Epoch 11/25\n",
      "5513/5513 [==============================] - 63s 11ms/step - loss: 0.6501 - recall_11: 0.6311 - auc_11: 0.6608 - precision_9: 0.6363\n",
      "Epoch 12/25\n",
      "5513/5513 [==============================] - 63s 11ms/step - loss: 0.6501 - recall_11: 0.6233 - auc_11: 0.6609 - precision_9: 0.6385\n",
      "Epoch 13/25\n",
      "5513/5513 [==============================] - 63s 11ms/step - loss: 0.6490 - recall_11: 0.6460 - auc_11: 0.6622 - precision_9: 0.6340\n",
      "Epoch 14/25\n",
      "5513/5513 [==============================] - 63s 11ms/step - loss: 0.6487 - recall_11: 0.6670 - auc_11: 0.6627 - precision_9: 0.6296\n",
      "Epoch 15/25\n",
      "5513/5513 [==============================] - 62s 11ms/step - loss: 0.6486 - recall_11: 0.7191 - auc_11: 0.6623 - precision_9: 0.6185\n",
      "Epoch 16/25\n",
      "5513/5513 [==============================] - 63s 11ms/step - loss: 0.6480 - recall_11: 0.7013 - auc_11: 0.6637 - precision_9: 0.6223\n",
      "Epoch 17/25\n",
      "5513/5513 [==============================] - 63s 11ms/step - loss: 0.6476 - recall_11: 0.7253 - auc_11: 0.6640 - precision_9: 0.6179\n",
      "Epoch 18/25\n",
      "5513/5513 [==============================] - 64s 12ms/step - loss: 0.6479 - recall_11: 0.6985 - auc_11: 0.6631 - precision_9: 0.6222\n",
      "Epoch 19/25\n",
      "5513/5513 [==============================] - 63s 11ms/step - loss: 0.6479 - recall_11: 0.7308 - auc_11: 0.6634 - precision_9: 0.6168\n",
      "Epoch 20/25\n",
      "5513/5513 [==============================] - 67s 12ms/step - loss: 0.6461 - recall_11: 0.7500 - auc_11: 0.6662 - precision_9: 0.6149\n",
      "Epoch 21/25\n",
      "2391/5513 [============>.................] - ETA: 39s - loss: 0.6458 - recall_11: 0.7509 - auc_11: 0.6655 - precision_9: 0.6145"
     ]
    }
   ],
   "source": [
    "df_model = df_oversampled.copy()\n",
    "\n",
    "target = df_model.pop('No-show')\n",
    "\n",
    "dataset = tf.data.Dataset.from_tensor_slices((df_model.values, target.values))\n",
    "\n",
    "train_dataset = dataset.shuffle(len(df_model)).batch(32)\n",
    "\n",
    "model2 = tf.keras.Sequential([\n",
    "    tf.keras.layers.Dense(11, activation='relu'),\n",
    "    tf.keras.layers.Dropout(0.6),\n",
    "    tf.keras.layers.Dense(11, activation='relu'),\n",
    "    tf.keras.layers.Dense(11, activation='relu'),\n",
    "    tf.keras.layers.Dense(11, activation='relu'),\n",
    "    tf.keras.layers.Dense(1, activation='sigmoid')\n",
    "  ])\n",
    "\n",
    "model2.compile(optimizer=tf.keras.optimizers.SGD(learning_rate=0.01) ,\n",
    "                loss=tf.keras.losses.BinaryCrossentropy(from_logits=False),\n",
    "                metrics=[tf.keras.metrics.Recall(),\n",
    "                        tf.keras.metrics.AUC(),\n",
    "                        tf.keras.metrics.Precision()])\n",
    "\n",
    "model2_performance = model2.fit(train_dataset, callbacks=[reduce_lr], epochs=25)"
   ]
  },
  {
   "cell_type": "code",
   "execution_count": null,
   "id": "21bdcd60",
   "metadata": {},
   "outputs": [],
   "source": [
    "y_pred_model2 = model2.predict(df_model)\n",
    "tf.math.confusion_matrix(labels=target, predictions=y_pred_model2.ravel()>0.5)"
   ]
  },
  {
   "cell_type": "code",
   "execution_count": null,
   "id": "fc10032d",
   "metadata": {},
   "outputs": [],
   "source": []
  }
 ],
 "metadata": {
  "kernelspec": {
   "display_name": "Python 3 (ipykernel)",
   "language": "python",
   "name": "python3"
  },
  "language_info": {
   "codemirror_mode": {
    "name": "ipython",
    "version": 3
   },
   "file_extension": ".py",
   "mimetype": "text/x-python",
   "name": "python",
   "nbconvert_exporter": "python",
   "pygments_lexer": "ipython3",
   "version": "3.9.7"
  }
 },
 "nbformat": 4,
 "nbformat_minor": 5
}
