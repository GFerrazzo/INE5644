{
 "cells": [
  {
   "cell_type": "code",
   "execution_count": 1,
   "id": "069a1b60",
   "metadata": {},
   "outputs": [],
   "source": [
    "# importacao de bibliotecas necessarias\n",
    "\n",
    "# bibliotecas de redes neurais\n",
    "import tensorflow as tf\n",
    "from tensorflow import keras\n",
    "from keras.utils.vis_utils import plot_model\n",
    "import sklearn\n",
    "from sklearn.model_selection import StratifiedKFold\n",
    "\n",
    "\n",
    "# bibliotecas de manipulacao de variaveis de ambiente e acesso a diretorios\n",
    "import os, warnings\n",
    "import glob\n",
    "\n",
    "# bibliotecas de manipulacao e visualizacao de dados\n",
    "import pandas as pd\n",
    "import numpy as np\n",
    "import matplotlib.pyplot as plt"
   ]
  },
  {
   "cell_type": "markdown",
   "id": "8d926e8a",
   "metadata": {},
   "source": [
    "# Preparação dos Dados"
   ]
  },
  {
   "cell_type": "markdown",
   "id": "a532f8e6",
   "metadata": {},
   "source": [
    "Retomamos a mesma preparação dos dados abordada na [primeira entrega](https://github.com/GFerrazzo/INE5644/blob/main/Primeira%20Entrega%20-%20Trabalho%20Final.ipynb). Dessa vez, retiramos os blocos de código com propósito de visualização da preparação."
   ]
  },
  {
   "cell_type": "code",
   "execution_count": 2,
   "id": "206018f9",
   "metadata": {},
   "outputs": [],
   "source": [
    "# df = pd.read_csv('https://raw.githubusercontent.com/GFerrazzo/INE5644/main/KaggleV2-May-2016.csv', sep = ',')\n",
    "\n",
    "df = pd.read_csv('KaggleV2-May-2016.csv', sep = ',')"
   ]
  },
  {
   "cell_type": "code",
   "execution_count": 3,
   "id": "d9b47bfe",
   "metadata": {},
   "outputs": [],
   "source": [
    "df['ScheduledDay'] = pd.to_datetime(df['ScheduledDay'])\n",
    "df['AppointmentDay'] = pd.to_datetime(df['AppointmentDay'])"
   ]
  },
  {
   "cell_type": "code",
   "execution_count": 4,
   "id": "5f8b25bf",
   "metadata": {},
   "outputs": [],
   "source": [
    "df['Gender'] = df['Gender'].map({'M' : 1, 'F' : 0})\n",
    "df['No-show'] = df['No-show'].map({'Yes' : 1, 'No' : 0})\n",
    "\n",
    "# esse bloco foi alterado para nao utilizarmos mais o dtype boolean. o Keras teve algum problema em trabalhar com esse dtype."
   ]
  },
  {
   "cell_type": "code",
   "execution_count": 5,
   "id": "fdeab724",
   "metadata": {},
   "outputs": [],
   "source": [
    "df['ScheduleToAppointment'] = (df['AppointmentDay'] - df['ScheduledDay']).astype('timedelta64[D]') + 1"
   ]
  },
  {
   "cell_type": "code",
   "execution_count": 6,
   "id": "3cc47ca0",
   "metadata": {},
   "outputs": [],
   "source": [
    "df['ScheduleWeekDay'] = df['ScheduledDay'].dt.weekday"
   ]
  },
  {
   "cell_type": "code",
   "execution_count": 7,
   "id": "5a94d980",
   "metadata": {},
   "outputs": [],
   "source": [
    "df.drop(columns=['PatientId','AppointmentID','ScheduledDay','AppointmentDay'], inplace=True)"
   ]
  },
  {
   "cell_type": "code",
   "execution_count": 8,
   "id": "4a6c1012",
   "metadata": {},
   "outputs": [],
   "source": [
    "df.drop(df[df['Age'] < 0].index, inplace=True)"
   ]
  },
  {
   "cell_type": "code",
   "execution_count": 9,
   "id": "20de48e0",
   "metadata": {},
   "outputs": [],
   "source": [
    "df.drop(df[df['ScheduleToAppointment'] < 0].index, inplace=True)"
   ]
  },
  {
   "cell_type": "code",
   "execution_count": 10,
   "id": "76270e2a",
   "metadata": {},
   "outputs": [
    {
     "data": {
      "text/plain": [
       "0.2018982817745044"
      ]
     },
     "execution_count": 10,
     "metadata": {},
     "output_type": "execute_result"
    }
   ],
   "source": [
    "df[df['No-show'] == True].shape[0]/df.shape[0]"
   ]
  },
  {
   "cell_type": "code",
   "execution_count": 11,
   "id": "24d3673c",
   "metadata": {},
   "outputs": [],
   "source": [
    "df.drop(columns=['Neighbourhood'], inplace=True)"
   ]
  },
  {
   "cell_type": "code",
   "execution_count": 12,
   "id": "fad07d81",
   "metadata": {},
   "outputs": [],
   "source": [
    "# df['Age'] = pd.cut(df['Age'], bins=29, precision=0)"
   ]
  },
  {
   "cell_type": "code",
   "execution_count": 13,
   "id": "ee238533",
   "metadata": {},
   "outputs": [],
   "source": [
    "# df['Handcap'] = df['Handcap'].map({1 : True, 2 : True, 3 : True, 4 : True, 0 : False})"
   ]
  },
  {
   "cell_type": "code",
   "execution_count": 14,
   "id": "bb48b92c",
   "metadata": {},
   "outputs": [],
   "source": [
    "# df['ScheduleToAppointment'] = pd.cut(df['ScheduleToAppointment'], bins=30, precision=0)"
   ]
  },
  {
   "cell_type": "code",
   "execution_count": 15,
   "id": "dda88b19",
   "metadata": {},
   "outputs": [
    {
     "data": {
      "text/html": [
       "<div>\n",
       "<style scoped>\n",
       "    .dataframe tbody tr th:only-of-type {\n",
       "        vertical-align: middle;\n",
       "    }\n",
       "\n",
       "    .dataframe tbody tr th {\n",
       "        vertical-align: top;\n",
       "    }\n",
       "\n",
       "    .dataframe thead th {\n",
       "        text-align: right;\n",
       "    }\n",
       "</style>\n",
       "<table border=\"1\" class=\"dataframe\">\n",
       "  <thead>\n",
       "    <tr style=\"text-align: right;\">\n",
       "      <th></th>\n",
       "      <th>Gender</th>\n",
       "      <th>Age</th>\n",
       "      <th>Scholarship</th>\n",
       "      <th>Hipertension</th>\n",
       "      <th>Diabetes</th>\n",
       "      <th>Alcoholism</th>\n",
       "      <th>Handcap</th>\n",
       "      <th>SMS_received</th>\n",
       "      <th>No-show</th>\n",
       "      <th>ScheduleToAppointment</th>\n",
       "      <th>ScheduleWeekDay</th>\n",
       "    </tr>\n",
       "  </thead>\n",
       "  <tbody>\n",
       "    <tr>\n",
       "      <th>104807</th>\n",
       "      <td>0</td>\n",
       "      <td>96</td>\n",
       "      <td>0</td>\n",
       "      <td>1</td>\n",
       "      <td>0</td>\n",
       "      <td>0</td>\n",
       "      <td>1</td>\n",
       "      <td>0</td>\n",
       "      <td>0</td>\n",
       "      <td>0.0</td>\n",
       "      <td>1</td>\n",
       "    </tr>\n",
       "    <tr>\n",
       "      <th>109146</th>\n",
       "      <td>1</td>\n",
       "      <td>35</td>\n",
       "      <td>0</td>\n",
       "      <td>0</td>\n",
       "      <td>0</td>\n",
       "      <td>0</td>\n",
       "      <td>0</td>\n",
       "      <td>0</td>\n",
       "      <td>0</td>\n",
       "      <td>4.0</td>\n",
       "      <td>0</td>\n",
       "    </tr>\n",
       "    <tr>\n",
       "      <th>23986</th>\n",
       "      <td>0</td>\n",
       "      <td>4</td>\n",
       "      <td>0</td>\n",
       "      <td>0</td>\n",
       "      <td>0</td>\n",
       "      <td>0</td>\n",
       "      <td>0</td>\n",
       "      <td>0</td>\n",
       "      <td>0</td>\n",
       "      <td>0.0</td>\n",
       "      <td>0</td>\n",
       "    </tr>\n",
       "    <tr>\n",
       "      <th>37583</th>\n",
       "      <td>1</td>\n",
       "      <td>56</td>\n",
       "      <td>0</td>\n",
       "      <td>1</td>\n",
       "      <td>0</td>\n",
       "      <td>0</td>\n",
       "      <td>0</td>\n",
       "      <td>0</td>\n",
       "      <td>0</td>\n",
       "      <td>0.0</td>\n",
       "      <td>2</td>\n",
       "    </tr>\n",
       "    <tr>\n",
       "      <th>99011</th>\n",
       "      <td>0</td>\n",
       "      <td>15</td>\n",
       "      <td>1</td>\n",
       "      <td>0</td>\n",
       "      <td>0</td>\n",
       "      <td>0</td>\n",
       "      <td>0</td>\n",
       "      <td>0</td>\n",
       "      <td>0</td>\n",
       "      <td>0.0</td>\n",
       "      <td>3</td>\n",
       "    </tr>\n",
       "  </tbody>\n",
       "</table>\n",
       "</div>"
      ],
      "text/plain": [
       "        Gender  Age  Scholarship  Hipertension  Diabetes  Alcoholism  Handcap  \\\n",
       "104807       0   96            0             1         0           0        1   \n",
       "109146       1   35            0             0         0           0        0   \n",
       "23986        0    4            0             0         0           0        0   \n",
       "37583        1   56            0             1         0           0        0   \n",
       "99011        0   15            1             0         0           0        0   \n",
       "\n",
       "        SMS_received  No-show  ScheduleToAppointment  ScheduleWeekDay  \n",
       "104807             0        0                    0.0                1  \n",
       "109146             0        0                    4.0                0  \n",
       "23986              0        0                    0.0                0  \n",
       "37583              0        0                    0.0                2  \n",
       "99011              0        0                    0.0                3  "
      ]
     },
     "execution_count": 15,
     "metadata": {},
     "output_type": "execute_result"
    }
   ],
   "source": [
    "df.sample(5)"
   ]
  },
  {
   "cell_type": "code",
   "execution_count": 16,
   "id": "5fc51067",
   "metadata": {},
   "outputs": [
    {
     "name": "stdout",
     "output_type": "stream",
     "text": [
      "<class 'pandas.core.frame.DataFrame'>\n",
      "Int64Index: 110521 entries, 0 to 110526\n",
      "Data columns (total 11 columns):\n",
      " #   Column                 Non-Null Count   Dtype  \n",
      "---  ------                 --------------   -----  \n",
      " 0   Gender                 110521 non-null  int64  \n",
      " 1   Age                    110521 non-null  int64  \n",
      " 2   Scholarship            110521 non-null  int64  \n",
      " 3   Hipertension           110521 non-null  int64  \n",
      " 4   Diabetes               110521 non-null  int64  \n",
      " 5   Alcoholism             110521 non-null  int64  \n",
      " 6   Handcap                110521 non-null  int64  \n",
      " 7   SMS_received           110521 non-null  int64  \n",
      " 8   No-show                110521 non-null  int64  \n",
      " 9   ScheduleToAppointment  110521 non-null  float64\n",
      " 10  ScheduleWeekDay        110521 non-null  int64  \n",
      "dtypes: float64(1), int64(10)\n",
      "memory usage: 10.1 MB\n"
     ]
    }
   ],
   "source": [
    "df.info()"
   ]
  },
  {
   "cell_type": "code",
   "execution_count": null,
   "id": "73c72539",
   "metadata": {},
   "outputs": [],
   "source": [
    "# df['Age'] = df['Age'].cat.codes\n",
    "# df['ScheduleToAppointment'] = df['ScheduleToAppointment'].cat.codes"
   ]
  },
  {
   "cell_type": "markdown",
   "id": "678b0fbc",
   "metadata": {},
   "source": [
    "# Primeiro Modelo"
   ]
  },
  {
   "cell_type": "code",
   "execution_count": null,
   "id": "be6ef223",
   "metadata": {},
   "outputs": [],
   "source": [
    "df_model = df.copy()"
   ]
  },
  {
   "cell_type": "code",
   "execution_count": null,
   "id": "41715c03",
   "metadata": {},
   "outputs": [],
   "source": [
    "target = df_model.pop('No-show')"
   ]
  },
  {
   "cell_type": "code",
   "execution_count": null,
   "id": "b2925088",
   "metadata": {},
   "outputs": [],
   "source": [
    "dataset = tf.data.Dataset.from_tensor_slices((df_model.values, target.values))"
   ]
  },
  {
   "cell_type": "code",
   "execution_count": null,
   "id": "cec4d2fb",
   "metadata": {},
   "outputs": [],
   "source": [
    "train_dataset = dataset.shuffle(len(df_model)).batch(32)"
   ]
  },
  {
   "cell_type": "markdown",
   "id": "bd34740b",
   "metadata": {},
   "source": [
    "Começaremos com um modelo bem simples. Composto apenas por três camadas."
   ]
  },
  {
   "cell_type": "code",
   "execution_count": null,
   "id": "c7547882",
   "metadata": {},
   "outputs": [],
   "source": [
    "model1 = tf.keras.Sequential([\n",
    "    tf.keras.layers.Dense(11, activation='relu'),\n",
    "    tf.keras.layers.Dense(11, activation='relu'),\n",
    "    tf.keras.layers.Dense(1)\n",
    "  ])"
   ]
  },
  {
   "cell_type": "code",
   "execution_count": null,
   "id": "aea8a55b",
   "metadata": {},
   "outputs": [],
   "source": [
    "model1.compile(optimizer='adam',\n",
    "                loss=tf.keras.losses.BinaryCrossentropy(from_logits=True),\n",
    "                metrics=['accuracy'])"
   ]
  },
  {
   "cell_type": "code",
   "execution_count": null,
   "id": "61e5ac15",
   "metadata": {},
   "outputs": [],
   "source": [
    "model1_performance = model1.fit(train_dataset, epochs=5)"
   ]
  },
  {
   "cell_type": "markdown",
   "id": "86b272e8",
   "metadata": {},
   "source": [
    "Como podemos notar, ao utilizar o dataset como ele foi fornecido, chegamos numa acurácia de 79.81%. \n",
    "\n",
    "Coincidentemente (veremos que não é coincidência), esse é o valor do balanço das nossas classes, como podemos ver:"
   ]
  },
  {
   "cell_type": "code",
   "execution_count": null,
   "id": "2b5a84d9",
   "metadata": {},
   "outputs": [],
   "source": [
    "df[df['No-show'] == True].shape[0]/df.shape[0]"
   ]
  },
  {
   "cell_type": "code",
   "execution_count": null,
   "id": "358b1e05",
   "metadata": {},
   "outputs": [],
   "source": [
    "df[df['No-show'] == False].shape[0]/df.shape[0]"
   ]
  },
  {
   "cell_type": "markdown",
   "id": "d368570a",
   "metadata": {},
   "source": [
    "Ou seja, podemos imaginar que nosso modelo está prevendo \"Presença\" para todas predições, mas só acerta 79.81% das vezes.\n",
    "Podemos conferir isso com uma matriz de confusão."
   ]
  },
  {
   "cell_type": "code",
   "execution_count": null,
   "id": "c17dc4b2",
   "metadata": {},
   "outputs": [],
   "source": [
    "y_pred_model1 = model1.predict(df_model)"
   ]
  },
  {
   "cell_type": "code",
   "execution_count": null,
   "id": "6d329b30",
   "metadata": {},
   "outputs": [],
   "source": [
    "tf.math.confusion_matrix(labels=target, predictions=y_pred_model1.ravel()>0.5)"
   ]
  },
  {
   "attachments": {
    "confusion_matrix.png": {
     "image/png": "[encoded data removed]"
    }
   },
   "cell_type": "markdown",
   "id": "325eed82",
   "metadata": {},
   "source": [
    "![Matriz de Confusao](attachment:confusion_matrix.png)"
   ]
  },
  {
   "cell_type": "markdown",
   "id": "1c1b5a4b",
   "metadata": {},
   "source": [
    "Comparando com a imagem acima (fonte), podemos notar que temos:\n",
    "    88207 casos de positivos verdadeiros.\n",
    "    22314 casos de falsos negativos.\n",
    "    \n",
    "Que nos dá a acurácia de 79.81%.\n",
    "\n",
    "Indo além, podemos verificar pelo próprio resultado da predição, que retorna 110521 predições de \"Falso\":"
   ]
  },
  {
   "cell_type": "code",
   "execution_count": null,
   "id": "07836a56",
   "metadata": {},
   "outputs": [],
   "source": [
    "y_pred_model1.ravel()>0.5"
   ]
  },
  {
   "cell_type": "code",
   "execution_count": null,
   "id": "b8561063",
   "metadata": {},
   "outputs": [],
   "source": [
    "np.unique(y_pred_model1.ravel()>0.5, return_counts=True)"
   ]
  },
  {
   "cell_type": "markdown",
   "id": "197ad067",
   "metadata": {},
   "source": [
    "# Segundo Modelo"
   ]
  },
  {
   "cell_type": "markdown",
   "id": "ce6c15e1",
   "metadata": {},
   "source": [
    "O que notamos que aconteceu no primeiro modelo é o chamado \"paradoxo da acurácia\", onde descobrimos que a acurácia não é um método \"certeiro\" de medir a previsibilidade do nosso modelo. Devemos alterar dois itens no nosso primeiro modelo:\n",
    "- Consertar o desbalanço das classes\n",
    "- Alterar a métrica de cálculo da previsibilidade do modelo"
   ]
  },
  {
   "cell_type": "markdown",
   "id": "778d0f21",
   "metadata": {},
   "source": [
    "Para o primeiro item acima, temos várias opções: undersampling, oversampling, etc. Neste segundo modelo, vamos alterar as métricas para ver o impacto que a métrica errada tinha sobre o modelo, assim como realizar um oversampling da classe minoritária."
   ]
  },
  {
   "cell_type": "markdown",
   "id": "9516f853",
   "metadata": {},
   "source": [
    "Temos inúmeras opções de métricas diferentes, citamos algumas, com suas nomenclaturas em inglês (para evitar traduções errôneas):\n",
    "- Precision = TP/(TP+FP)\n",
    "- Recall = TP/(TP+FN)\n",
    "- F1 Score = 2 * Recall * Precision / (Recall + Precision)\n",
    "- Area Under ROC Curve\n",
    "- G-Measure = sqrt(Precision * Recall)\n",
    "- Jaccard Index = TP/(TP+FP+FN)\n",
    "\n",
    "\n",
    "onde \n",
    "\n",
    "TP = True Positive\n",
    "\n",
    "FP = False Positive\n",
    "\n",
    "FN = False Negative"
   ]
  },
  {
   "cell_type": "code",
   "execution_count": null,
   "id": "1ff64bef",
   "metadata": {},
   "outputs": [],
   "source": [
    "count_class_0, count_class_1 = df['No-show'].value_counts()\n",
    "print(count_class_0, count_class_1)"
   ]
  },
  {
   "cell_type": "code",
   "execution_count": null,
   "id": "b3e1b634",
   "metadata": {},
   "outputs": [],
   "source": [
    "df_class_0 = df[df['No-show'] == 0]\n",
    "df_class_1 = df[df['No-show'] == 1]"
   ]
  },
  {
   "cell_type": "markdown",
   "id": "16384dc5",
   "metadata": {},
   "source": [
    "Undersampling"
   ]
  },
  {
   "cell_type": "code",
   "execution_count": null,
   "id": "83148378",
   "metadata": {},
   "outputs": [],
   "source": [
    "df_class_0_resampled = df_class_0.sample(count_class_1)\n",
    "df_undersampled = pd.concat([df_class_1, df_class_0_resampled])\n",
    "df_undersampled['No-show'].value_counts()"
   ]
  },
  {
   "cell_type": "markdown",
   "id": "fdc3d23f",
   "metadata": {},
   "source": [
    "Oversampling"
   ]
  },
  {
   "cell_type": "code",
   "execution_count": null,
   "id": "653cae71",
   "metadata": {},
   "outputs": [],
   "source": [
    "df_class_1_resampled = df_class_1.sample(count_class_0, replace=True)\n",
    "df_oversampled = pd.concat([df_class_0, df_class_1_resampled])\n",
    "df_oversampled['No-show'].value_counts()"
   ]
  },
  {
   "cell_type": "code",
   "execution_count": null,
   "id": "98381d53",
   "metadata": {},
   "outputs": [],
   "source": [
    "df_model = df_undersampled.copy()\n",
    "\n",
    "target = df_model.pop('No-show')\n",
    "\n",
    "dataset = tf.data.Dataset.from_tensor_slices((df_model.values, target.values))\n",
    "\n",
    "train_dataset = dataset.shuffle(len(df_model)).batch(32)\n",
    "\n",
    "model2 = tf.keras.Sequential([\n",
    "    tf.keras.layers.Dense(11, activation='relu'),\n",
    "    tf.keras.layers.Dense(11, activation='relu'),\n",
    "    tf.keras.layers.Dense(1, activation='sigmoid')\n",
    "  ])\n",
    "j\n",
    "model2.compile(optimizer='sgd',\n",
    "                loss=tf.keras.losses.BinaryCrossentropy(from_logits=False),\n",
    "                metrics=[tf.keras.metrics.AUC()])\n",
    "\n",
    "model2_performance = model2.fit(train_dataset, epochs=10)"
   ]
  },
  {
   "cell_type": "code",
   "execution_count": null,
   "id": "9c3809bc",
   "metadata": {},
   "outputs": [],
   "source": [
    "\n",
    "reduce_lr = tf.keras.callbacks.ReduceLROnPlateau(monitor='loss', # qual metrica sera monitorada\n",
    "                              factor=0.2, # fator de multiplicacao (no caso reducao) do learning rate\n",
    "                              patience=2, # quantas epocas esperamos o \"plateau\"\n",
    "                              min_lr=0.0001 # menor learning rate possivel\n",
    "                                )"
   ]
  },
  {
   "cell_type": "code",
   "execution_count": null,
   "id": "dcb14b79",
   "metadata": {},
   "outputs": [],
   "source": [
    "df_model = df_oversampled.copy()\n",
    "\n",
    "target = df_model.pop('No-show')\n",
    "\n",
    "dataset = tf.data.Dataset.from_tensor_slices((df_model.values, target.values))\n",
    "\n",
    "train_dataset = dataset.shuffle(len(df_model)).batch(32)\n",
    "\n",
    "model2 = tf.keras.Sequential([\n",
    "    tf.keras.layers.Dense(11, activation='relu'),\n",
    "    tf.keras.layers.Dropout(0.6),\n",
    "    tf.keras.layers.Dense(11, activation='relu'),\n",
    "    tf.keras.layers.Dense(11, activation='relu'),\n",
    "    tf.keras.layers.Dense(11, activation='relu'),\n",
    "    tf.keras.layers.Dense(1, activation='sigmoid')\n",
    "  ])\n",
    "\n",
    "model2.compile(optimizer=tf.keras.optimizers.SGD(learning_rate=0.01) ,\n",
    "                loss=tf.keras.losses.BinaryCrossentropy(from_logits=False),\n",
    "                metrics=[tf.keras.metrics.Recall(),\n",
    "                        tf.keras.metrics.AUC(),\n",
    "                        tf.keras.metrics.Precision()])\n",
    "\n",
    "model2_performance = model2.fit(train_dataset, callbacks=[reduce_lr], epochs=180)"
   ]
  },
  {
   "cell_type": "code",
   "execution_count": null,
   "id": "0fd106ed",
   "metadata": {},
   "outputs": [],
   "source": [
    "y_pred_model2 = model2.predict(df_model)\n",
    "tf.math.confusion_matrix(labels=target, predictions=y_pred_model2.ravel()>0.5)"
   ]
  },
  {
   "cell_type": "markdown",
   "id": "0b021396",
   "metadata": {},
   "source": [
    "Pela matriz de confusão podemos perceber uma melhora na predição do modelo, porém ainda não temos resultados totalmente satisfatórios."
   ]
  },
  {
   "cell_type": "markdown",
   "id": "04305392",
   "metadata": {},
   "source": [
    "# Terceiro Modelo"
   ]
  },
  {
   "cell_type": "markdown",
   "id": "a7ce275a",
   "metadata": {},
   "source": [
    "Para esse modelo, vamos deixar para trás a utilização de redes neurais e utilizar um mobelo de gradient boosting."
   ]
  },
  {
   "cell_type": "code",
   "execution_count": 17,
   "id": "1990d7a6",
   "metadata": {},
   "outputs": [],
   "source": [
    "import lightgbm as lgb\n",
    "from sklearn.metrics import roc_auc_score, accuracy_score, RocCurveDisplay"
   ]
  },
  {
   "cell_type": "code",
   "execution_count": 18,
   "id": "8206fce4",
   "metadata": {},
   "outputs": [],
   "source": [
    "target = 'No-show'\n",
    "feat_cols = [col for col in df.columns if col != target]"
   ]
  },
  {
   "cell_type": "code",
   "execution_count": 19,
   "id": "0ab72a4b",
   "metadata": {},
   "outputs": [
    {
     "name": "stdout",
     "output_type": "stream",
     "text": [
      "[LightGBM] [Warning] feature_fraction is set=0.7, colsample_bytree=0.5 will be ignored. Current value: feature_fraction=0.7\n",
      "[LightGBM] [Warning] min_data_in_leaf is set=100, min_child_samples=20 will be ignored. Current value: min_data_in_leaf=100\n",
      "[LightGBM] [Warning] bagging_fraction is set=0.7, subsample=1.0 will be ignored. Current value: bagging_fraction=0.7\n",
      "[LightGBM] [Warning] bagging_freq is set=4, subsample_freq=0 will be ignored. Current value: bagging_freq=4\n",
      "0.7192204508319895\n"
     ]
    }
   ],
   "source": [
    "train_split = 70000\n",
    "\n",
    "x = df.iloc[:train_split][feat_cols]\n",
    "y = df.iloc[:train_split][target]\n",
    "\n",
    "model_params = {\n",
    "    \"objective\": 'binary',\n",
    "    \"max_depth\": -1,\n",
    "    \"num_leaves\": 9,\n",
    "    \"learning_rate\": 0.1,\n",
    "    \"n_estimators\": 100,\n",
    "    \"boosting_type\": \"rf\",\n",
    "    \"min_data_in_leaf\": 100,\n",
    "    \"bagging_freq\": 4,\n",
    "    \"bagging_fraction\": 0.7,\n",
    "    \"feature_fraction\": 0.7,\n",
    "    \"colsample_bytree\": 0.5,\n",
    "#     \"is_unbalance\": True,\n",
    "    \"scale_pos_weight\": 1.75,\n",
    "    \"metric\": \"auc\"\n",
    "}\n",
    "\n",
    "model3 = lgb.LGBMRegressor(**model_params).fit(x, y)\n",
    "\n",
    "test_df = (\n",
    "    df\n",
    "    .iloc[train_split:]\n",
    "    .assign(pred = lambda df: pd.DataFrame(model3.predict(df[feat_cols])).values)\n",
    ")\n",
    "\n",
    "print(roc_auc_score(test_df[target], test_df['pred']))"
   ]
  },
  {
   "cell_type": "code",
   "execution_count": 20,
   "id": "524e117d",
   "metadata": {},
   "outputs": [
    {
     "data": {
      "text/plain": [
       "<sklearn.metrics._plot.roc_curve.RocCurveDisplay at 0x26b6470c220>"
      ]
     },
     "execution_count": 20,
     "metadata": {},
     "output_type": "execute_result"
    },
    {
     "data": {
      "image/png": "[encoded data removed]",
      "text/plain": [
       "<Figure size 432x288 with 1 Axes>"
      ]
     },
     "metadata": {
      "needs_background": "light"
     },
     "output_type": "display_data"
    }
   ],
   "source": [
    "RocCurveDisplay.from_predictions(test_df[target], test_df['pred'])"
   ]
  },
  {
   "cell_type": "code",
   "execution_count": 21,
   "id": "bae2740f",
   "metadata": {},
   "outputs": [
    {
     "data": {
      "text/plain": [
       "<AxesSubplot:>"
      ]
     },
     "execution_count": 21,
     "metadata": {},
     "output_type": "execute_result"
    },
    {
     "data": {
      "image/png": "[encoded data removed]",
      "text/plain": [
       "<Figure size 432x288 with 1 Axes>"
      ]
     },
     "metadata": {
      "needs_background": "light"
     },
     "output_type": "display_data"
    }
   ],
   "source": [
    "test_df['pred'].hist(bins=100)"
   ]
  },
  {
   "cell_type": "code",
   "execution_count": 45,
   "id": "c0c9f1d1",
   "metadata": {},
   "outputs": [
    {
     "name": "stdout",
     "output_type": "stream",
     "text": [
      "tf.Tensor(\n",
      "[[73986 14221]\n",
      " [14199  8115]], shape=(2, 2), dtype=int32) \n",
      "\n",
      "acuracia: \t 0.7979026610327449\n",
      "f1_scr: \t 0.8688493787725767\n",
      "precisao: \t 0.8387769678143459\n",
      "recall: \t 0.9011583293747945\n",
      "phi: \t 28811.138687025166\n"
     ]
    },
    {
     "name": "stderr",
     "output_type": "stream",
     "text": [
      "C:\\Users\\Ferrazzo\\AppData\\Local\\Temp/ipykernel_11084/1462613113.py:11: RuntimeWarning: overflow encountered in long_scalars\n",
      "  phi = ((TP*TN) - (FP*FN))/(np.sqrt((TP+FP)*(TP+FN)*(TN+FP)*(TN+FN)))\n"
     ]
    }
   ],
   "source": [
    "y_pred_model3 = model3.predict(df[feat_cols])\n",
    "matriz_confusao = tf.math.confusion_matrix(labels=df[target], predictions=y_pred_model3.ravel()>0.5)\n",
    "TP = matriz_confusao.numpy()[0][0]\n",
    "FP = matriz_confusao.numpy()[0][1]\n",
    "TN = matriz_confusao.numpy()[1][0]\n",
    "FN = matriz_confusao.numpy()[1][1]\n",
    "acuracia = (TP+TN)/(TP+TN+FP+FN)\n",
    "f1_scr = (2*TP)/(2*TP + FP + FN)\n",
    "precisao = (TP)/(TP + FP)\n",
    "recall = (TP)/(TP+FN)\n",
    "phi = ((TP*TN) - (FP*FN))/(np.sqrt((TP+FP)*(TP+FN)*(TN+FP)*(TN+FN)))\n",
    "print(matriz_confusao, \"\\n\")\n",
    "print(\"acuracia: \\t\", acuracia)\n",
    "print(\"f1_scr: \\t\", f1_scr)\n",
    "print(\"precisao: \\t\", precisao)\n",
    "print(\"recall: \\t\", recall)\n",
    "print(\"phi: \\t\", phi)\n"
   ]
  },
  {
   "cell_type": "code",
   "execution_count": 36,
   "id": "2190627e",
   "metadata": {},
   "outputs": [
    {
     "data": {
      "text/plain": [
       "<sklearn.metrics._plot.roc_curve.RocCurveDisplay at 0x26b719d2820>"
      ]
     },
     "execution_count": 36,
     "metadata": {},
     "output_type": "execute_result"
    },
    {
     "data": {
      "image/png": "[encoded data removed]",
      "text/plain": [
       "<Figure size 432x288 with 1 Axes>"
      ]
     },
     "metadata": {
      "needs_background": "light"
     },
     "output_type": "display_data"
    }
   ],
   "source": [
    "RocCurveDisplay.from_predictions(df[target], y_pred_model3)"
   ]
  },
  {
   "cell_type": "code",
   "execution_count": null,
   "id": "3cee0eda",
   "metadata": {},
   "outputs": [],
   "source": []
  },
  {
   "cell_type": "code",
   "execution_count": null,
   "id": "4465b882",
   "metadata": {},
   "outputs": [],
   "source": []
  },
  {
   "cell_type": "code",
   "execution_count": 44,
   "id": "287f7b49",
   "metadata": {},
   "outputs": [
    {
     "data": {
      "text/plain": [
       "2.0"
      ]
     },
     "execution_count": 44,
     "metadata": {},
     "output_type": "execute_result"
    }
   ],
   "source": [
    "np.sqrt(4)"
   ]
  },
  {
   "cell_type": "code",
   "execution_count": null,
   "id": "0f8e4c9f",
   "metadata": {},
   "outputs": [],
   "source": []
  }
 ],
 "metadata": {
  "kernelspec": {
   "display_name": "Python 3 (ipykernel)",
   "language": "python",
   "name": "python3"
  },
  "language_info": {
   "codemirror_mode": {
    "name": "ipython",
    "version": 3
   },
   "file_extension": ".py",
   "mimetype": "text/x-python",
   "name": "python",
   "nbconvert_exporter": "python",
   "pygments_lexer": "ipython3",
   "version": "3.9.7"
  }
 },
 "nbformat": 4,
 "nbformat_minor": 5
}
